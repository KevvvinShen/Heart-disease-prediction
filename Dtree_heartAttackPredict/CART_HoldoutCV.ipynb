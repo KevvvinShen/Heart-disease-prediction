{
 "cells": [
  {
   "cell_type": "code",
   "execution_count": 15,
   "id": "2d6b46cc",
   "metadata": {},
   "outputs": [],
   "source": [
    "#Basic packages always been used\n",
    "import pandas as pd\n",
    "import numpy as np\n",
    "import matplotlib.pyplot as plt\n",
    "# Data preprocessing useful function\n",
    "from sklearn.preprocessing import LabelEncoder\n",
    "# Function for spilting training & testing data set\n",
    "from sklearn.model_selection import train_test_split\n",
    "# ALgorithm\n",
    "from sklearn import tree\n",
    "from sklearn import metrics\n",
    "from sklearn.tree import DecisionTreeClassifier\n",
    "from sklearn.model_selection import KFold\n",
    "# Functions for evaluation\n",
    "from sklearn.model_selection import cross_val_score\n",
    "from sklearn.metrics import accuracy_score\n",
    "from sklearn.metrics import f1_score\n",
    "from sklearn.metrics import precision_score\n",
    "from sklearn.metrics import recall_score\n",
    "from sklearn.metrics import confusion_matrix\n",
    "from sklearn.metrics import plot_confusion_matrix\n",
    "from sklearn.metrics import plot_roc_curve, roc_auc_score, roc_curve"
   ]
  },
  {
   "cell_type": "code",
   "execution_count": 16,
   "id": "f5224a03",
   "metadata": {},
   "outputs": [],
   "source": [
    "df = pd.read_csv(\"heart.csv\")"
   ]
  },
  {
   "cell_type": "code",
   "execution_count": 3,
   "id": "92c09a8b",
   "metadata": {},
   "outputs": [],
   "source": [
    "new_df=df.dropna(axis=0, how='any').copy()"
   ]
  },
  {
   "cell_type": "code",
   "execution_count": 4,
   "id": "c1688962",
   "metadata": {},
   "outputs": [
    {
     "name": "stdout",
     "output_type": "stream",
     "text": [
      "Age [40 49 37 48 54 39 45 58 42 38 43 60 36 44 53 52 51 56 41 32 65 35 59 50\n",
      " 47 31 46 57 55 63 66 34 33 61 29 62 28 30 74 68 72 64 69 67 73 70 77 75\n",
      " 76 71]\n",
      "Sex ['M' 'F']\n",
      "ChestPainType ['ATA' 'NAP' 'ASY' 'TA']\n",
      "RestingBP [140 160 130 138 150 120 110 136 115 100 124 113 125 145 112 132 118 170\n",
      " 142 190 135 180 108 155 128 106  92 200 122  98 105 133  95  80 137 185\n",
      " 165 126 152 116 144 154 134 104 139 131 141 178 146 158 123 102  96 143\n",
      " 172 156 114 127 101 174  94 148 117 192 129 164]\n",
      "Cholesterol [289 180 283 214 195 339 237 208 207 284 211 164 204 234 273 196 201 248\n",
      " 267 223 184 288 215 209 260 468 188 518 167 224 172 186 254 306 250 177\n",
      " 227 230 294 264 259 175 318 216 340 233 205 245 194 270 213 365 342 253\n",
      " 277 202 297 225 246 412 265 182 218 268 163 529 100 206 238 139 263 291\n",
      " 229 307 210 329 147  85 269 275 179 392 466 129 241 255 276 282 338 160\n",
      " 156 272 240 393 161 228 292 388 166 247 331 341 243 279 198 249 168 603\n",
      " 159 190 185 290 212 231 222 235 320 187 266 287 404 312 251 328 285 280\n",
      " 192 193 308 219 257 132 226 217 303 298 256 117 295 173 315 281 309 200\n",
      " 336 355 326 171 491 271 274 394 221 126 305 220 242 347 344 358 169 181\n",
      " 236 203 153 316 311 252 458 384 258 349 142 197 113 261 310 232 110 123\n",
      " 170 369 152 244 165 337 300 333 385 322 564 239 293 407 149 199 417 178\n",
      " 319 354 330 302 313 141 327 304 286 360 262 325 299 409 174 183 321 353\n",
      " 335 278 157 176 131]\n",
      "FastingBS [0 1]\n",
      "RestingECG ['Normal' 'ST' 'LVH']\n",
      "MaxHR [172 156  98 108 122 170 142 130 120  99 145 140 137 150 166 165 125 160\n",
      " 164 138 178 112 118 127 114 154 155  87 148 100 168 184 121 153 134  96\n",
      " 174 175 144  82 135 115 128 116  94 110  92 180 152 124 106 185 139 190\n",
      " 146 158 132 176 119 188 162 105  90 136 167 129 102 143 103  91 126  93\n",
      " 131 149 123 182 141  77 109 133 179 113 104  95  72  97 117  86  63 157\n",
      "  83  60  70 163  67  78  84 111  80 107 161  69  88  73 159 151 181 186\n",
      " 177 173 169 171 147  71 192 195 194 187 202]\n",
      "ExerciseAngina ['N' 'Y']\n",
      "Oldpeak [ 0.   1.   1.5  2.   3.   4.   0.5  2.5  5.   0.8  0.7  1.4  2.1  0.4\n",
      "  0.2  1.7  2.2  0.1  1.6  1.3  0.3  1.8  2.6 -0.9  2.8 -2.6 -1.5 -0.1\n",
      "  0.9  1.1  2.4 -1.  -1.1 -0.7 -0.8  3.7  1.2 -0.5 -2.   1.9  3.5  0.6\n",
      "  3.1  2.3  3.4  3.6  4.2  3.2  5.6  3.8  2.9  6.2  4.4]\n",
      "ST_Slope ['Up' 'Flat' 'Down']\n",
      "HeartDisease [0 1]\n"
     ]
    }
   ],
   "source": [
    "print('Age',new_df['Age'].unique())\n",
    "print('Sex',new_df['Sex'].unique())\n",
    "print('ChestPainType',new_df['ChestPainType'].unique())\n",
    "print('RestingBP',new_df['RestingBP'].unique())\n",
    "print('Cholesterol',new_df['Cholesterol'].unique())\n",
    "print('FastingBS',new_df['FastingBS'].unique())\n",
    "print('RestingECG',new_df['RestingECG'].unique())\n",
    "print('MaxHR',new_df['MaxHR'].unique())\n",
    "print('ExerciseAngina',new_df['ExerciseAngina'].unique())\n",
    "print('Oldpeak',new_df['Oldpeak'].unique())\n",
    "print('ST_Slope',new_df['ST_Slope'].unique())\n",
    "print('HeartDisease',new_df['HeartDisease'].unique())"
   ]
  },
  {
   "cell_type": "code",
   "execution_count": 5,
   "id": "a88aee22",
   "metadata": {},
   "outputs": [],
   "source": [
    "df_mapping=new_df.copy()\n",
    "\n",
    "map_Sex={'M':0, 'F':1}\n",
    "map_ChestPainType={'ATA':0, 'NAP':1, 'ASY':2, 'TA':3}\n",
    "map_RestingECG={'Normal':0, 'ST':1, 'LVH':2}\n",
    "map_ExerciseAngina={'N':0, 'Y':1}\n",
    "map_ST_Slope={'Up':0, 'Flat':1, 'Down':1}\n",
    "\n",
    "df_mapping['Sex']=df_mapping['Sex'].map(map_Sex)\n",
    "df_mapping['ChestPainType']=df_mapping['ChestPainType'].map(map_ChestPainType)\n",
    "df_mapping['RestingECG']=df_mapping['RestingECG'].map(map_RestingECG)\n",
    "df_mapping['ExerciseAngina']=df_mapping['ExerciseAngina'].map(map_ExerciseAngina)\n",
    "df_mapping['ST_Slope']=df_mapping['ST_Slope'].map(map_ST_Slope)"
   ]
  },
  {
   "cell_type": "code",
   "execution_count": 6,
   "id": "1d033aaa",
   "metadata": {},
   "outputs": [],
   "source": [
    "dummied_new_df=pd.get_dummies(new_df, columns=['Sex', 'ChestPainType', 'RestingECG',\n",
    "                                               'ExerciseAngina', 'ST_Slope'])"
   ]
  },
  {
   "cell_type": "code",
   "execution_count": 7,
   "id": "eb7423c9",
   "metadata": {},
   "outputs": [],
   "source": [
    "x=dummied_new_df.drop(['HeartDisease'],axis=1).copy()\n",
    "y=df['HeartDisease'].copy()"
   ]
  },
  {
   "cell_type": "code",
   "execution_count": 8,
   "id": "acd39586",
   "metadata": {},
   "outputs": [
    {
     "name": "stdout",
     "output_type": "stream",
     "text": [
      "validation result:\n",
      "validation ACC_5_10: 82.01\n",
      "validation ACC_5_15: 81.24\n",
      "validation ACC_5_20: 80.52\n",
      "validation ACC_10_10: 81.66\n",
      "validation ACC_10_15: 80.91\n",
      "validation ACC_10_20: 80.88\n",
      "validation ACC_15_10: 81.66\n",
      "validation ACC_15_15: 80.91\n",
      "validation ACC_15_20: 80.88\n"
     ]
    }
   ],
   "source": [
    "x_train, x_test, y_train, y_test = train_test_split(x, y, test_size = 0.2, random_state = 100)\n",
    "\n",
    "a = [5,10,15]\n",
    "b =[10,15,20]\n",
    "c = [10,20,42]\n",
    "\n",
    "acc_5_10 = 0\n",
    "acc_5_15 = 0\n",
    "acc_5_20 = 0\n",
    "acc_10_10 = 0\n",
    "acc_10_15 = 0\n",
    "acc_10_20 = 0\n",
    "acc_15_10 = 0\n",
    "acc_15_15 = 0\n",
    "acc_15_20 = 0\n",
    "\n",
    "for k in c:\n",
    "    x_train, x_validation, y_train, y_validation = train_test_split(x_train, y_train, test_size = 0.2, random_state = k)\n",
    "    for i in a:\n",
    "        for j in b:\n",
    "            model_cart=DecisionTreeClassifier(criterion='gini',max_depth=i,max_leaf_nodes=j,random_state=100)\n",
    "            model_cart.fit(x_train,y_train)\n",
    "\n",
    "            CV5F_cart_acc=cross_val_score(model_cart, x_train, y_train,cv=3,scoring='accuracy')\n",
    "\n",
    "\n",
    "            if i==5 and j==10:\n",
    "                acc_5_10 += CV5F_cart_acc*100\n",
    "            if i==5 and j==15:\n",
    "                acc_5_15 += CV5F_cart_acc*100\n",
    "            if i==5 and j==20:\n",
    "                acc_5_20 += CV5F_cart_acc*100\n",
    "            if i==10 and j==10:\n",
    "                acc_10_10 += CV5F_cart_acc*100\n",
    "            if i==10 and j==15:\n",
    "                acc_10_15 += CV5F_cart_acc*100\n",
    "            if i==10 and j==20:\n",
    "                acc_10_20 += CV5F_cart_acc*100\n",
    "            if i==15 and j==10:\n",
    "                acc_15_10 += CV5F_cart_acc*100\n",
    "            if i==15 and j==15:\n",
    "                acc_15_15 += CV5F_cart_acc*100\n",
    "            if i==15 and j==20:\n",
    "                acc_15_20 += CV5F_cart_acc*100\n",
    "                \n",
    "print('validation result:')\n",
    "print('validation ACC_5_10:',np.round((acc_5_10/3).mean(),2))\n",
    "print('validation ACC_5_15:',np.round((acc_5_15/3).mean(),2))\n",
    "print('validation ACC_5_20:',np.round((acc_5_20/3).mean(),2))\n",
    "print('validation ACC_10_10:',np.round((acc_10_10/3).mean(),2))\n",
    "print('validation ACC_10_15:',np.round((acc_10_15/3).mean(),2))\n",
    "print('validation ACC_10_20:',np.round((acc_10_20/3).mean(),2))\n",
    "print('validation ACC_15_10:',np.round((acc_15_10/3).mean(),2))\n",
    "print('validation ACC_15_15:',np.round((acc_15_15/3).mean(),2))\n",
    "print('validation ACC_15_20:',np.round((acc_15_20/3).mean(),2))"
   ]
  },
  {
   "cell_type": "code",
   "execution_count": 9,
   "id": "56e233c5",
   "metadata": {},
   "outputs": [
    {
     "name": "stdout",
     "output_type": "stream",
     "text": [
      "Training result: \n",
      "Training ACC: 87.74\n",
      "Training f1s: 88.97\n",
      "Training pre: 87.89\n",
      "Training sen: 90.07\n",
      "Training spe: 84.89\n",
      "\n",
      "Training confusion matrix:\n",
      "[[281  50]\n",
      " [ 40 363]]\n",
      "+--------------------------------------+\n",
      "Testing result:\n",
      "Testing ACC: 84.78\n",
      "Testing f1s: 86.54\n",
      "Testing pre: 87.38\n",
      "Testing sen: 85.71\n",
      "Testing spe: 83.54\n",
      "\n",
      "Testing confusion matrix:\n",
      "[[66 13]\n",
      " [15 90]]\n"
     ]
    }
   ],
   "source": [
    "x_train, x_test, y_train, y_test = train_test_split(x, y, test_size = 0.2, random_state = 100)\n",
    "            \n",
    "model_cart1=DecisionTreeClassifier(criterion= 'gini',max_depth=5,max_leaf_nodes=10,random_state=100)\n",
    "model_cart1.fit(x_train,y_train)\n",
    "training_prediction=model_cart1.predict(x_train)\n",
    "# Accuracy\n",
    "training_acc=accuracy_score(y_train,training_prediction)\n",
    "# f1 score\n",
    "training_f1s=f1_score(y_train,training_prediction,pos_label=1)\n",
    "# precision\n",
    "training_pre=precision_score(y_train,training_prediction,pos_label=1)\n",
    "#sensitivity\n",
    "training_sen=recall_score(y_train,training_prediction,pos_label=1)\n",
    "#specificity\n",
    "training_spe=recall_score(y_train,training_prediction,pos_label=0)\n",
    "#confusion matrix\n",
    "training_cm=confusion_matrix(y_train,training_prediction)\n",
    "# Testing result\n",
    "testing_prediction=model_cart1.predict(x_test)\n",
    "testing_acc=accuracy_score(y_test,testing_prediction)\n",
    "testing_f1s=f1_score(y_test,testing_prediction,pos_label=1)\n",
    "testing_pre=precision_score(y_test,testing_prediction,pos_label=1)\n",
    "testing_sen=recall_score(y_test,testing_prediction,pos_label=1)\n",
    "testing_spe=recall_score(y_test,testing_prediction,pos_label=0)\n",
    "testing_cm=confusion_matrix(y_test,testing_prediction)\n",
    "\n",
    "# print result\n",
    "print('Training result: ')\n",
    "print('Training ACC:',round(training_acc*100,2))\n",
    "print('Training f1s:',round(training_f1s*100,2))\n",
    "print('Training pre:',round(training_pre*100,2))\n",
    "print('Training sen:',round(training_sen*100,2))\n",
    "print('Training spe:',round(training_spe*100,2))\n",
    "print('')\n",
    "print('Training confusion matrix:')\n",
    "print(training_cm)\n",
    "print('+--------------------------------------+')\n",
    "print('Testing result:')\n",
    "print('Testing ACC:',round(testing_acc*100,2))\n",
    "print('Testing f1s:',round(testing_f1s*100,2))\n",
    "print('Testing pre:',round(testing_pre*100,2))\n",
    "print('Testing sen:',round(testing_sen*100,2))\n",
    "print('Testing spe:',round(testing_spe*100,2))\n",
    "print('')\n",
    "print('Testing confusion matrix:')\n",
    "print(testing_cm)"
   ]
  },
  {
   "cell_type": "code",
   "execution_count": 12,
   "id": "934a9336",
   "metadata": {},
   "outputs": [
    {
     "name": "stdout",
     "output_type": "stream",
     "text": [
      "Training result: \n",
      "Training ACC: 87.74\n",
      "Training f1s: 88.97\n",
      "Training pre: 87.89\n",
      "Training sen: 90.07\n",
      "Training spe: 84.89\n",
      "\n",
      "Training confusion matrix:\n"
     ]
    },
    {
     "data": {
      "image/png": "[encoded data removed]",
      "text/plain": [
       "<Figure size 432x288 with 2 Axes>"
      ]
     },
     "metadata": {
      "needs_background": "light"
     },
     "output_type": "display_data"
    },
    {
     "name": "stdout",
     "output_type": "stream",
     "text": [
      "+--------------------------------------+\n",
      "Testing result:\n",
      "Testing ACC: 84.78\n",
      "Testing f1s: 86.54\n",
      "Testing pre: 87.38\n",
      "Testing sen: 85.71\n",
      "Testing spe: 83.54\n",
      "\n",
      "Testing confusion matrix:\n"
     ]
    },
    {
     "data": {
      "image/png": "[encoded data removed]",
      "text/plain": [
       "<Figure size 432x288 with 2 Axes>"
      ]
     },
     "metadata": {
      "needs_background": "light"
     },
     "output_type": "display_data"
    }
   ],
   "source": [
    "x_train,x_test,y_tain,y_test=train_test_split(x,y,test_size=0.2,random_state=100)\n",
    "model_cart1=DecisionTreeClassifier(criterion= 'gini',max_depth=5,max_leaf_nodes=10,random_state=100)\n",
    "model_cart1.fit(x_train,y_train)\n",
    "training_prediction=model_cart1.predict(x_train)\n",
    "# Accuracy\n",
    "training_acc=accuracy_score(y_train,training_prediction)\n",
    "# f1 score\n",
    "training_f1s=f1_score(y_train,training_prediction,pos_label=1)\n",
    "# precision\n",
    "training_pre=precision_score(y_train,training_prediction,pos_label=1)\n",
    "#sensitivity\n",
    "training_sen=recall_score(y_train,training_prediction,pos_label=1)\n",
    "#specificity\n",
    "training_spe=recall_score(y_train,training_prediction,pos_label=0)\n",
    "#confusion matrix\n",
    "training_cm=confusion_matrix(y_train,training_prediction)\n",
    "training_cm_display = metrics.ConfusionMatrixDisplay(confusion_matrix = training_cm, display_labels = [False, True])\n",
    "# Testing result\n",
    "testing_prediction=model_cart1.predict(x_test)\n",
    "testing_acc=accuracy_score(y_test,testing_prediction)\n",
    "testing_f1s=f1_score(y_test,testing_prediction,pos_label=1)\n",
    "testing_pre=precision_score(y_test,testing_prediction,pos_label=1)\n",
    "testing_sen=recall_score(y_test,testing_prediction,pos_label=1)\n",
    "testing_spe=recall_score(y_test,testing_prediction,pos_label=0)\n",
    "testing_cm=confusion_matrix(y_test,testing_prediction)\n",
    "testing_cm_display = metrics.ConfusionMatrixDisplay(confusion_matrix = testing_cm, display_labels = [False, True])\n",
    "\n",
    "# print result\n",
    "print('Training result: ')\n",
    "print('Training ACC:',round(training_acc*100,2))\n",
    "print('Training f1s:',round(training_f1s*100,2))\n",
    "print('Training pre:',round(training_pre*100,2))\n",
    "print('Training sen:',round(training_sen*100,2))\n",
    "print('Training spe:',round(training_spe*100,2))\n",
    "print('')\n",
    "print('Training confusion matrix:')\n",
    "training_cm_display.plot()\n",
    "plt.show()\n",
    "print('+--------------------------------------+')\n",
    "print('Testing result:')\n",
    "print('Testing ACC:',round(testing_acc*100,2))\n",
    "print('Testing f1s:',round(testing_f1s*100,2))\n",
    "print('Testing pre:',round(testing_pre*100,2))\n",
    "print('Testing sen:',round(testing_sen*100,2))\n",
    "print('Testing spe:',round(testing_spe*100,2))\n",
    "print('')\n",
    "print('Testing confusion matrix:')\n",
    "testing_cm_display.plot()\n",
    "plt.show()"
   ]
  },
  {
   "cell_type": "code",
   "execution_count": 17,
   "id": "cd8dfce7",
   "metadata": {},
   "outputs": [
    {
     "name": "stdout",
     "output_type": "stream",
     "text": [
      "AUC: 0.91\n"
     ]
    }
   ],
   "source": [
    "prediction=model_cart1.predict(x_train)\n",
    "proba=model_cart1.predict_proba(x_train)[:, 1]\n",
    "auc_value = roc_auc_score(y_train,proba)\n",
    "print('AUC:',round(auc_value,2))"
   ]
  },
  {
   "cell_type": "code",
   "execution_count": 18,
   "id": "ce52e68d",
   "metadata": {},
   "outputs": [
    {
     "name": "stderr",
     "output_type": "stream",
     "text": [
      "C:\\Users\\kevin\\anaconda3\\lib\\site-packages\\sklearn\\utils\\deprecation.py:87: FutureWarning: Function plot_roc_curve is deprecated; Function :func:`plot_roc_curve` is deprecated in 1.0 and will be removed in 1.2. Use one of the class methods: :meth:`sklearn.metric.RocCurveDisplay.from_predictions` or :meth:`sklearn.metric.RocCurveDisplay.from_estimator`.\n",
      "  warnings.warn(msg, category=FutureWarning)\n"
     ]
    },
    {
     "data": {
      "image/png": "[encoded data removed]",
      "text/plain": [
       "<Figure size 432x288 with 1 Axes>"
      ]
     },
     "metadata": {
      "needs_background": "light"
     },
     "output_type": "display_data"
    }
   ],
   "source": [
    "roc_fig=plot_roc_curve(model_cart1, x_train,y_train)"
   ]
  },
  {
   "cell_type": "code",
   "execution_count": 13,
   "id": "d3029a55",
   "metadata": {},
   "outputs": [
    {
     "name": "stdout",
     "output_type": "stream",
     "text": [
      "AUC: 0.89\n"
     ]
    }
   ],
   "source": [
    "prediction=model_cart1.predict(x_train)\n",
    "proba=model_cart1.predict_proba(x_test)[:, 1]\n",
    "auc_value = roc_auc_score(y_test,proba)\n",
    "print('AUC:',round(auc_value,2))"
   ]
  },
  {
   "cell_type": "code",
   "execution_count": 14,
   "id": "86f5ffa7",
   "metadata": {},
   "outputs": [
    {
     "name": "stderr",
     "output_type": "stream",
     "text": [
      "C:\\Users\\kevin\\anaconda3\\lib\\site-packages\\sklearn\\utils\\deprecation.py:87: FutureWarning: Function plot_roc_curve is deprecated; Function :func:`plot_roc_curve` is deprecated in 1.0 and will be removed in 1.2. Use one of the class methods: :meth:`sklearn.metric.RocCurveDisplay.from_predictions` or :meth:`sklearn.metric.RocCurveDisplay.from_estimator`.\n",
      "  warnings.warn(msg, category=FutureWarning)\n"
     ]
    },
    {
     "data": {
      "image/png": "[encoded data removed]",
      "text/plain": [
       "<Figure size 432x288 with 1 Axes>"
      ]
     },
     "metadata": {
      "needs_background": "light"
     },
     "output_type": "display_data"
    }
   ],
   "source": [
    "roc_fig=plot_roc_curve(model_cart1, x_test,y_test)"
   ]
  }
 ],
 "metadata": {
  "kernelspec": {
   "display_name": "Python 3 (ipykernel)",
   "language": "python",
   "name": "python3"
  },
  "language_info": {
   "codemirror_mode": {
    "name": "ipython",
    "version": 3
   },
   "file_extension": ".py",
   "mimetype": "text/x-python",
   "name": "python",
   "nbconvert_exporter": "python",
   "pygments_lexer": "ipython3",
   "version": "3.9.12"
  }
 },
 "nbformat": 4,
 "nbformat_minor": 5
}
