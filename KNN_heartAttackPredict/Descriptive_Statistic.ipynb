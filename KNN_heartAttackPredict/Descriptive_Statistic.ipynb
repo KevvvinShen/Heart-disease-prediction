{
 "cells": [
  {
   "cell_type": "code",
   "execution_count": 14,
   "id": "d82958af",
   "metadata": {},
   "outputs": [],
   "source": [
    "import numpy as np\n",
    "import pandas as pd\n",
    "import seaborn as sns\n",
    "import matplotlib.pyplot as plt\n",
    "import warnings\n",
    "warnings.filterwarnings(\"ignore\")\n",
    "import plotly.express as px\n",
    "import plotly.figure_factory as ff\n",
    "import plotly.graph_objects as go\n",
    "from plotly.subplots import make_subplots\n",
    "from sklearn.model_selection import train_test_split, cross_val_score\n",
    "from sklearn.preprocessing import StandardScaler\n",
    "from sklearn.metrics import r2_score, mean_absolute_error, mean_squared_error\n",
    "theme_colors = ['#F9B1B8',  '#EE4355',  '#B60618','#820815']\n",
    "\n",
    "color_palette = ['#FFFFFF', '#F9B1B8', '#EE4355', '#B60618', '#820815', '#000000']\n",
    "\n",
    "font = 'Courier New'\n",
    "\n",
    "from sklearn import tree\n",
    "from sklearn.svm import SVR\n",
    "from sklearn.tree import DecisionTreeRegressor\n",
    "from sklearn.metrics import mean_squared_error, mean_absolute_error, mean_absolute_percentage_error\n",
    "from sktime.performance_metrics.forecasting import mean_absolute_scaled_error\n",
    "from sktime.performance_metrics.forecasting import MedianRelativeAbsoluteError"
   ]
  },
  {
   "cell_type": "code",
   "execution_count": 2,
   "id": "64f49071",
   "metadata": {},
   "outputs": [],
   "source": [
    "df = pd.read_csv('train.csv')"
   ]
  },
  {
   "cell_type": "code",
   "execution_count": 3,
   "id": "821794c1",
   "metadata": {},
   "outputs": [
    {
     "data": {
      "text/html": [
       "<div>\n",
       "<style scoped>\n",
       "    .dataframe tbody tr th:only-of-type {\n",
       "        vertical-align: middle;\n",
       "    }\n",
       "\n",
       "    .dataframe tbody tr th {\n",
       "        vertical-align: top;\n",
       "    }\n",
       "\n",
       "    .dataframe thead th {\n",
       "        text-align: right;\n",
       "    }\n",
       "</style>\n",
       "<table border=\"1\" class=\"dataframe\">\n",
       "  <thead>\n",
       "    <tr style=\"text-align: right;\">\n",
       "      <th></th>\n",
       "      <th>Id</th>\n",
       "      <th>MSSubClass</th>\n",
       "      <th>MSZoning</th>\n",
       "      <th>LotFrontage</th>\n",
       "      <th>LotArea</th>\n",
       "      <th>Street</th>\n",
       "      <th>Alley</th>\n",
       "      <th>LotShape</th>\n",
       "      <th>LandContour</th>\n",
       "      <th>Utilities</th>\n",
       "      <th>...</th>\n",
       "      <th>PoolArea</th>\n",
       "      <th>PoolQC</th>\n",
       "      <th>Fence</th>\n",
       "      <th>MiscFeature</th>\n",
       "      <th>MiscVal</th>\n",
       "      <th>MoSold</th>\n",
       "      <th>YrSold</th>\n",
       "      <th>SaleType</th>\n",
       "      <th>SaleCondition</th>\n",
       "      <th>SalePrice</th>\n",
       "    </tr>\n",
       "  </thead>\n",
       "  <tbody>\n",
       "    <tr>\n",
       "      <th>0</th>\n",
       "      <td>1</td>\n",
       "      <td>60</td>\n",
       "      <td>RL</td>\n",
       "      <td>65.0</td>\n",
       "      <td>8450</td>\n",
       "      <td>Pave</td>\n",
       "      <td>NaN</td>\n",
       "      <td>Reg</td>\n",
       "      <td>Lvl</td>\n",
       "      <td>AllPub</td>\n",
       "      <td>...</td>\n",
       "      <td>0</td>\n",
       "      <td>NaN</td>\n",
       "      <td>NaN</td>\n",
       "      <td>NaN</td>\n",
       "      <td>0</td>\n",
       "      <td>2</td>\n",
       "      <td>2008</td>\n",
       "      <td>WD</td>\n",
       "      <td>Normal</td>\n",
       "      <td>208500</td>\n",
       "    </tr>\n",
       "    <tr>\n",
       "      <th>1</th>\n",
       "      <td>2</td>\n",
       "      <td>20</td>\n",
       "      <td>RL</td>\n",
       "      <td>80.0</td>\n",
       "      <td>9600</td>\n",
       "      <td>Pave</td>\n",
       "      <td>NaN</td>\n",
       "      <td>Reg</td>\n",
       "      <td>Lvl</td>\n",
       "      <td>AllPub</td>\n",
       "      <td>...</td>\n",
       "      <td>0</td>\n",
       "      <td>NaN</td>\n",
       "      <td>NaN</td>\n",
       "      <td>NaN</td>\n",
       "      <td>0</td>\n",
       "      <td>5</td>\n",
       "      <td>2007</td>\n",
       "      <td>WD</td>\n",
       "      <td>Normal</td>\n",
       "      <td>181500</td>\n",
       "    </tr>\n",
       "    <tr>\n",
       "      <th>2</th>\n",
       "      <td>3</td>\n",
       "      <td>60</td>\n",
       "      <td>RL</td>\n",
       "      <td>68.0</td>\n",
       "      <td>11250</td>\n",
       "      <td>Pave</td>\n",
       "      <td>NaN</td>\n",
       "      <td>IR1</td>\n",
       "      <td>Lvl</td>\n",
       "      <td>AllPub</td>\n",
       "      <td>...</td>\n",
       "      <td>0</td>\n",
       "      <td>NaN</td>\n",
       "      <td>NaN</td>\n",
       "      <td>NaN</td>\n",
       "      <td>0</td>\n",
       "      <td>9</td>\n",
       "      <td>2008</td>\n",
       "      <td>WD</td>\n",
       "      <td>Normal</td>\n",
       "      <td>223500</td>\n",
       "    </tr>\n",
       "    <tr>\n",
       "      <th>3</th>\n",
       "      <td>4</td>\n",
       "      <td>70</td>\n",
       "      <td>RL</td>\n",
       "      <td>60.0</td>\n",
       "      <td>9550</td>\n",
       "      <td>Pave</td>\n",
       "      <td>NaN</td>\n",
       "      <td>IR1</td>\n",
       "      <td>Lvl</td>\n",
       "      <td>AllPub</td>\n",
       "      <td>...</td>\n",
       "      <td>0</td>\n",
       "      <td>NaN</td>\n",
       "      <td>NaN</td>\n",
       "      <td>NaN</td>\n",
       "      <td>0</td>\n",
       "      <td>2</td>\n",
       "      <td>2006</td>\n",
       "      <td>WD</td>\n",
       "      <td>Abnorml</td>\n",
       "      <td>140000</td>\n",
       "    </tr>\n",
       "    <tr>\n",
       "      <th>4</th>\n",
       "      <td>5</td>\n",
       "      <td>60</td>\n",
       "      <td>RL</td>\n",
       "      <td>84.0</td>\n",
       "      <td>14260</td>\n",
       "      <td>Pave</td>\n",
       "      <td>NaN</td>\n",
       "      <td>IR1</td>\n",
       "      <td>Lvl</td>\n",
       "      <td>AllPub</td>\n",
       "      <td>...</td>\n",
       "      <td>0</td>\n",
       "      <td>NaN</td>\n",
       "      <td>NaN</td>\n",
       "      <td>NaN</td>\n",
       "      <td>0</td>\n",
       "      <td>12</td>\n",
       "      <td>2008</td>\n",
       "      <td>WD</td>\n",
       "      <td>Normal</td>\n",
       "      <td>250000</td>\n",
       "    </tr>\n",
       "  </tbody>\n",
       "</table>\n",
       "<p>5 rows × 81 columns</p>\n",
       "</div>"
      ],
      "text/plain": [
       "   Id  MSSubClass MSZoning  LotFrontage  LotArea Street Alley LotShape  \\\n",
       "0   1          60       RL         65.0     8450   Pave   NaN      Reg   \n",
       "1   2          20       RL         80.0     9600   Pave   NaN      Reg   \n",
       "2   3          60       RL         68.0    11250   Pave   NaN      IR1   \n",
       "3   4          70       RL         60.0     9550   Pave   NaN      IR1   \n",
       "4   5          60       RL         84.0    14260   Pave   NaN      IR1   \n",
       "\n",
       "  LandContour Utilities  ... PoolArea PoolQC Fence MiscFeature MiscVal MoSold  \\\n",
       "0         Lvl    AllPub  ...        0    NaN   NaN         NaN       0      2   \n",
       "1         Lvl    AllPub  ...        0    NaN   NaN         NaN       0      5   \n",
       "2         Lvl    AllPub  ...        0    NaN   NaN         NaN       0      9   \n",
       "3         Lvl    AllPub  ...        0    NaN   NaN         NaN       0      2   \n",
       "4         Lvl    AllPub  ...        0    NaN   NaN         NaN       0     12   \n",
       "\n",
       "  YrSold  SaleType  SaleCondition  SalePrice  \n",
       "0   2008        WD         Normal     208500  \n",
       "1   2007        WD         Normal     181500  \n",
       "2   2008        WD         Normal     223500  \n",
       "3   2006        WD        Abnorml     140000  \n",
       "4   2008        WD         Normal     250000  \n",
       "\n",
       "[5 rows x 81 columns]"
      ]
     },
     "execution_count": 3,
     "metadata": {},
     "output_type": "execute_result"
    }
   ],
   "source": [
    "df.head()"
   ]
  },
  {
   "cell_type": "code",
   "execution_count": 4,
   "id": "8d5bcfa3",
   "metadata": {},
   "outputs": [
    {
     "data": {
      "text/plain": [
       "(1460, 81)"
      ]
     },
     "execution_count": 4,
     "metadata": {},
     "output_type": "execute_result"
    }
   ],
   "source": [
    "df.shape"
   ]
  },
  {
   "cell_type": "code",
   "execution_count": 5,
   "id": "4e7cb902",
   "metadata": {},
   "outputs": [
    {
     "name": "stdout",
     "output_type": "stream",
     "text": [
      "<class 'pandas.core.frame.DataFrame'>\n",
      "RangeIndex: 1460 entries, 0 to 1459\n",
      "Data columns (total 81 columns):\n",
      " #   Column         Non-Null Count  Dtype  \n",
      "---  ------         --------------  -----  \n",
      " 0   Id             1460 non-null   int64  \n",
      " 1   MSSubClass     1460 non-null   int64  \n",
      " 2   MSZoning       1460 non-null   object \n",
      " 3   LotFrontage    1201 non-null   float64\n",
      " 4   LotArea        1460 non-null   int64  \n",
      " 5   Street         1460 non-null   object \n",
      " 6   Alley          91 non-null     object \n",
      " 7   LotShape       1460 non-null   object \n",
      " 8   LandContour    1460 non-null   object \n",
      " 9   Utilities      1460 non-null   object \n",
      " 10  LotConfig      1460 non-null   object \n",
      " 11  LandSlope      1460 non-null   object \n",
      " 12  Neighborhood   1460 non-null   object \n",
      " 13  Condition1     1460 non-null   object \n",
      " 14  Condition2     1460 non-null   object \n",
      " 15  BldgType       1460 non-null   object \n",
      " 16  HouseStyle     1460 non-null   object \n",
      " 17  OverallQual    1460 non-null   int64  \n",
      " 18  OverallCond    1460 non-null   int64  \n",
      " 19  YearBuilt      1460 non-null   int64  \n",
      " 20  YearRemodAdd   1460 non-null   int64  \n",
      " 21  RoofStyle      1460 non-null   object \n",
      " 22  RoofMatl       1460 non-null   object \n",
      " 23  Exterior1st    1460 non-null   object \n",
      " 24  Exterior2nd    1460 non-null   object \n",
      " 25  MasVnrType     1452 non-null   object \n",
      " 26  MasVnrArea     1452 non-null   float64\n",
      " 27  ExterQual      1460 non-null   object \n",
      " 28  ExterCond      1460 non-null   object \n",
      " 29  Foundation     1460 non-null   object \n",
      " 30  BsmtQual       1423 non-null   object \n",
      " 31  BsmtCond       1423 non-null   object \n",
      " 32  BsmtExposure   1422 non-null   object \n",
      " 33  BsmtFinType1   1423 non-null   object \n",
      " 34  BsmtFinSF1     1460 non-null   int64  \n",
      " 35  BsmtFinType2   1422 non-null   object \n",
      " 36  BsmtFinSF2     1460 non-null   int64  \n",
      " 37  BsmtUnfSF      1460 non-null   int64  \n",
      " 38  TotalBsmtSF    1460 non-null   int64  \n",
      " 39  Heating        1460 non-null   object \n",
      " 40  HeatingQC      1460 non-null   object \n",
      " 41  CentralAir     1460 non-null   object \n",
      " 42  Electrical     1459 non-null   object \n",
      " 43  1stFlrSF       1460 non-null   int64  \n",
      " 44  2ndFlrSF       1460 non-null   int64  \n",
      " 45  LowQualFinSF   1460 non-null   int64  \n",
      " 46  GrLivArea      1460 non-null   int64  \n",
      " 47  BsmtFullBath   1460 non-null   int64  \n",
      " 48  BsmtHalfBath   1460 non-null   int64  \n",
      " 49  FullBath       1460 non-null   int64  \n",
      " 50  HalfBath       1460 non-null   int64  \n",
      " 51  BedroomAbvGr   1460 non-null   int64  \n",
      " 52  KitchenAbvGr   1460 non-null   int64  \n",
      " 53  KitchenQual    1460 non-null   object \n",
      " 54  TotRmsAbvGrd   1460 non-null   int64  \n",
      " 55  Functional     1460 non-null   object \n",
      " 56  Fireplaces     1460 non-null   int64  \n",
      " 57  FireplaceQu    770 non-null    object \n",
      " 58  GarageType     1379 non-null   object \n",
      " 59  GarageYrBlt    1379 non-null   float64\n",
      " 60  GarageFinish   1379 non-null   object \n",
      " 61  GarageCars     1460 non-null   int64  \n",
      " 62  GarageArea     1460 non-null   int64  \n",
      " 63  GarageQual     1379 non-null   object \n",
      " 64  GarageCond     1379 non-null   object \n",
      " 65  PavedDrive     1460 non-null   object \n",
      " 66  WoodDeckSF     1460 non-null   int64  \n",
      " 67  OpenPorchSF    1460 non-null   int64  \n",
      " 68  EnclosedPorch  1460 non-null   int64  \n",
      " 69  3SsnPorch      1460 non-null   int64  \n",
      " 70  ScreenPorch    1460 non-null   int64  \n",
      " 71  PoolArea       1460 non-null   int64  \n",
      " 72  PoolQC         7 non-null      object \n",
      " 73  Fence          281 non-null    object \n",
      " 74  MiscFeature    54 non-null     object \n",
      " 75  MiscVal        1460 non-null   int64  \n",
      " 76  MoSold         1460 non-null   int64  \n",
      " 77  YrSold         1460 non-null   int64  \n",
      " 78  SaleType       1460 non-null   object \n",
      " 79  SaleCondition  1460 non-null   object \n",
      " 80  SalePrice      1460 non-null   int64  \n",
      "dtypes: float64(3), int64(35), object(43)\n",
      "memory usage: 924.0+ KB\n"
     ]
    }
   ],
   "source": [
    "df.info()"
   ]
  },
  {
   "cell_type": "code",
   "execution_count": 7,
   "id": "a2b21042",
   "metadata": {},
   "outputs": [
    {
     "data": {
      "text/html": [
       "<div>\n",
       "<style scoped>\n",
       "    .dataframe tbody tr th:only-of-type {\n",
       "        vertical-align: middle;\n",
       "    }\n",
       "\n",
       "    .dataframe tbody tr th {\n",
       "        vertical-align: top;\n",
       "    }\n",
       "\n",
       "    .dataframe thead th {\n",
       "        text-align: right;\n",
       "    }\n",
       "</style>\n",
       "<table border=\"1\" class=\"dataframe\">\n",
       "  <thead>\n",
       "    <tr style=\"text-align: right;\">\n",
       "      <th></th>\n",
       "      <th>count</th>\n",
       "      <th>mean</th>\n",
       "      <th>std</th>\n",
       "      <th>min</th>\n",
       "      <th>25%</th>\n",
       "      <th>50%</th>\n",
       "      <th>75%</th>\n",
       "      <th>max</th>\n",
       "    </tr>\n",
       "  </thead>\n",
       "  <tbody>\n",
       "    <tr>\n",
       "      <th>Id</th>\n",
       "      <td>1460.0</td>\n",
       "      <td>730.500000</td>\n",
       "      <td>421.610009</td>\n",
       "      <td>1.0</td>\n",
       "      <td>365.75</td>\n",
       "      <td>730.5</td>\n",
       "      <td>1095.25</td>\n",
       "      <td>1460.0</td>\n",
       "    </tr>\n",
       "    <tr>\n",
       "      <th>MSSubClass</th>\n",
       "      <td>1460.0</td>\n",
       "      <td>56.897260</td>\n",
       "      <td>42.300571</td>\n",
       "      <td>20.0</td>\n",
       "      <td>20.00</td>\n",
       "      <td>50.0</td>\n",
       "      <td>70.00</td>\n",
       "      <td>190.0</td>\n",
       "    </tr>\n",
       "    <tr>\n",
       "      <th>LotFrontage</th>\n",
       "      <td>1201.0</td>\n",
       "      <td>70.049958</td>\n",
       "      <td>24.284752</td>\n",
       "      <td>21.0</td>\n",
       "      <td>59.00</td>\n",
       "      <td>69.0</td>\n",
       "      <td>80.00</td>\n",
       "      <td>313.0</td>\n",
       "    </tr>\n",
       "    <tr>\n",
       "      <th>LotArea</th>\n",
       "      <td>1460.0</td>\n",
       "      <td>10516.828082</td>\n",
       "      <td>9981.264932</td>\n",
       "      <td>1300.0</td>\n",
       "      <td>7553.50</td>\n",
       "      <td>9478.5</td>\n",
       "      <td>11601.50</td>\n",
       "      <td>215245.0</td>\n",
       "    </tr>\n",
       "    <tr>\n",
       "      <th>OverallQual</th>\n",
       "      <td>1460.0</td>\n",
       "      <td>6.099315</td>\n",
       "      <td>1.382997</td>\n",
       "      <td>1.0</td>\n",
       "      <td>5.00</td>\n",
       "      <td>6.0</td>\n",
       "      <td>7.00</td>\n",
       "      <td>10.0</td>\n",
       "    </tr>\n",
       "    <tr>\n",
       "      <th>OverallCond</th>\n",
       "      <td>1460.0</td>\n",
       "      <td>5.575342</td>\n",
       "      <td>1.112799</td>\n",
       "      <td>1.0</td>\n",
       "      <td>5.00</td>\n",
       "      <td>5.0</td>\n",
       "      <td>6.00</td>\n",
       "      <td>9.0</td>\n",
       "    </tr>\n",
       "    <tr>\n",
       "      <th>YearBuilt</th>\n",
       "      <td>1460.0</td>\n",
       "      <td>1971.267808</td>\n",
       "      <td>30.202904</td>\n",
       "      <td>1872.0</td>\n",
       "      <td>1954.00</td>\n",
       "      <td>1973.0</td>\n",
       "      <td>2000.00</td>\n",
       "      <td>2010.0</td>\n",
       "    </tr>\n",
       "    <tr>\n",
       "      <th>YearRemodAdd</th>\n",
       "      <td>1460.0</td>\n",
       "      <td>1984.865753</td>\n",
       "      <td>20.645407</td>\n",
       "      <td>1950.0</td>\n",
       "      <td>1967.00</td>\n",
       "      <td>1994.0</td>\n",
       "      <td>2004.00</td>\n",
       "      <td>2010.0</td>\n",
       "    </tr>\n",
       "    <tr>\n",
       "      <th>MasVnrArea</th>\n",
       "      <td>1452.0</td>\n",
       "      <td>103.685262</td>\n",
       "      <td>181.066207</td>\n",
       "      <td>0.0</td>\n",
       "      <td>0.00</td>\n",
       "      <td>0.0</td>\n",
       "      <td>166.00</td>\n",
       "      <td>1600.0</td>\n",
       "    </tr>\n",
       "    <tr>\n",
       "      <th>BsmtFinSF1</th>\n",
       "      <td>1460.0</td>\n",
       "      <td>443.639726</td>\n",
       "      <td>456.098091</td>\n",
       "      <td>0.0</td>\n",
       "      <td>0.00</td>\n",
       "      <td>383.5</td>\n",
       "      <td>712.25</td>\n",
       "      <td>5644.0</td>\n",
       "    </tr>\n",
       "    <tr>\n",
       "      <th>BsmtFinSF2</th>\n",
       "      <td>1460.0</td>\n",
       "      <td>46.549315</td>\n",
       "      <td>161.319273</td>\n",
       "      <td>0.0</td>\n",
       "      <td>0.00</td>\n",
       "      <td>0.0</td>\n",
       "      <td>0.00</td>\n",
       "      <td>1474.0</td>\n",
       "    </tr>\n",
       "    <tr>\n",
       "      <th>BsmtUnfSF</th>\n",
       "      <td>1460.0</td>\n",
       "      <td>567.240411</td>\n",
       "      <td>441.866955</td>\n",
       "      <td>0.0</td>\n",
       "      <td>223.00</td>\n",
       "      <td>477.5</td>\n",
       "      <td>808.00</td>\n",
       "      <td>2336.0</td>\n",
       "    </tr>\n",
       "    <tr>\n",
       "      <th>TotalBsmtSF</th>\n",
       "      <td>1460.0</td>\n",
       "      <td>1057.429452</td>\n",
       "      <td>438.705324</td>\n",
       "      <td>0.0</td>\n",
       "      <td>795.75</td>\n",
       "      <td>991.5</td>\n",
       "      <td>1298.25</td>\n",
       "      <td>6110.0</td>\n",
       "    </tr>\n",
       "    <tr>\n",
       "      <th>1stFlrSF</th>\n",
       "      <td>1460.0</td>\n",
       "      <td>1162.626712</td>\n",
       "      <td>386.587738</td>\n",
       "      <td>334.0</td>\n",
       "      <td>882.00</td>\n",
       "      <td>1087.0</td>\n",
       "      <td>1391.25</td>\n",
       "      <td>4692.0</td>\n",
       "    </tr>\n",
       "    <tr>\n",
       "      <th>2ndFlrSF</th>\n",
       "      <td>1460.0</td>\n",
       "      <td>346.992466</td>\n",
       "      <td>436.528436</td>\n",
       "      <td>0.0</td>\n",
       "      <td>0.00</td>\n",
       "      <td>0.0</td>\n",
       "      <td>728.00</td>\n",
       "      <td>2065.0</td>\n",
       "    </tr>\n",
       "    <tr>\n",
       "      <th>LowQualFinSF</th>\n",
       "      <td>1460.0</td>\n",
       "      <td>5.844521</td>\n",
       "      <td>48.623081</td>\n",
       "      <td>0.0</td>\n",
       "      <td>0.00</td>\n",
       "      <td>0.0</td>\n",
       "      <td>0.00</td>\n",
       "      <td>572.0</td>\n",
       "    </tr>\n",
       "    <tr>\n",
       "      <th>GrLivArea</th>\n",
       "      <td>1460.0</td>\n",
       "      <td>1515.463699</td>\n",
       "      <td>525.480383</td>\n",
       "      <td>334.0</td>\n",
       "      <td>1129.50</td>\n",
       "      <td>1464.0</td>\n",
       "      <td>1776.75</td>\n",
       "      <td>5642.0</td>\n",
       "    </tr>\n",
       "    <tr>\n",
       "      <th>BsmtFullBath</th>\n",
       "      <td>1460.0</td>\n",
       "      <td>0.425342</td>\n",
       "      <td>0.518911</td>\n",
       "      <td>0.0</td>\n",
       "      <td>0.00</td>\n",
       "      <td>0.0</td>\n",
       "      <td>1.00</td>\n",
       "      <td>3.0</td>\n",
       "    </tr>\n",
       "    <tr>\n",
       "      <th>BsmtHalfBath</th>\n",
       "      <td>1460.0</td>\n",
       "      <td>0.057534</td>\n",
       "      <td>0.238753</td>\n",
       "      <td>0.0</td>\n",
       "      <td>0.00</td>\n",
       "      <td>0.0</td>\n",
       "      <td>0.00</td>\n",
       "      <td>2.0</td>\n",
       "    </tr>\n",
       "    <tr>\n",
       "      <th>FullBath</th>\n",
       "      <td>1460.0</td>\n",
       "      <td>1.565068</td>\n",
       "      <td>0.550916</td>\n",
       "      <td>0.0</td>\n",
       "      <td>1.00</td>\n",
       "      <td>2.0</td>\n",
       "      <td>2.00</td>\n",
       "      <td>3.0</td>\n",
       "    </tr>\n",
       "    <tr>\n",
       "      <th>HalfBath</th>\n",
       "      <td>1460.0</td>\n",
       "      <td>0.382877</td>\n",
       "      <td>0.502885</td>\n",
       "      <td>0.0</td>\n",
       "      <td>0.00</td>\n",
       "      <td>0.0</td>\n",
       "      <td>1.00</td>\n",
       "      <td>2.0</td>\n",
       "    </tr>\n",
       "    <tr>\n",
       "      <th>BedroomAbvGr</th>\n",
       "      <td>1460.0</td>\n",
       "      <td>2.866438</td>\n",
       "      <td>0.815778</td>\n",
       "      <td>0.0</td>\n",
       "      <td>2.00</td>\n",
       "      <td>3.0</td>\n",
       "      <td>3.00</td>\n",
       "      <td>8.0</td>\n",
       "    </tr>\n",
       "    <tr>\n",
       "      <th>KitchenAbvGr</th>\n",
       "      <td>1460.0</td>\n",
       "      <td>1.046575</td>\n",
       "      <td>0.220338</td>\n",
       "      <td>0.0</td>\n",
       "      <td>1.00</td>\n",
       "      <td>1.0</td>\n",
       "      <td>1.00</td>\n",
       "      <td>3.0</td>\n",
       "    </tr>\n",
       "    <tr>\n",
       "      <th>TotRmsAbvGrd</th>\n",
       "      <td>1460.0</td>\n",
       "      <td>6.517808</td>\n",
       "      <td>1.625393</td>\n",
       "      <td>2.0</td>\n",
       "      <td>5.00</td>\n",
       "      <td>6.0</td>\n",
       "      <td>7.00</td>\n",
       "      <td>14.0</td>\n",
       "    </tr>\n",
       "    <tr>\n",
       "      <th>Fireplaces</th>\n",
       "      <td>1460.0</td>\n",
       "      <td>0.613014</td>\n",
       "      <td>0.644666</td>\n",
       "      <td>0.0</td>\n",
       "      <td>0.00</td>\n",
       "      <td>1.0</td>\n",
       "      <td>1.00</td>\n",
       "      <td>3.0</td>\n",
       "    </tr>\n",
       "    <tr>\n",
       "      <th>GarageYrBlt</th>\n",
       "      <td>1379.0</td>\n",
       "      <td>1978.506164</td>\n",
       "      <td>24.689725</td>\n",
       "      <td>1900.0</td>\n",
       "      <td>1961.00</td>\n",
       "      <td>1980.0</td>\n",
       "      <td>2002.00</td>\n",
       "      <td>2010.0</td>\n",
       "    </tr>\n",
       "    <tr>\n",
       "      <th>GarageCars</th>\n",
       "      <td>1460.0</td>\n",
       "      <td>1.767123</td>\n",
       "      <td>0.747315</td>\n",
       "      <td>0.0</td>\n",
       "      <td>1.00</td>\n",
       "      <td>2.0</td>\n",
       "      <td>2.00</td>\n",
       "      <td>4.0</td>\n",
       "    </tr>\n",
       "    <tr>\n",
       "      <th>GarageArea</th>\n",
       "      <td>1460.0</td>\n",
       "      <td>472.980137</td>\n",
       "      <td>213.804841</td>\n",
       "      <td>0.0</td>\n",
       "      <td>334.50</td>\n",
       "      <td>480.0</td>\n",
       "      <td>576.00</td>\n",
       "      <td>1418.0</td>\n",
       "    </tr>\n",
       "    <tr>\n",
       "      <th>WoodDeckSF</th>\n",
       "      <td>1460.0</td>\n",
       "      <td>94.244521</td>\n",
       "      <td>125.338794</td>\n",
       "      <td>0.0</td>\n",
       "      <td>0.00</td>\n",
       "      <td>0.0</td>\n",
       "      <td>168.00</td>\n",
       "      <td>857.0</td>\n",
       "    </tr>\n",
       "    <tr>\n",
       "      <th>OpenPorchSF</th>\n",
       "      <td>1460.0</td>\n",
       "      <td>46.660274</td>\n",
       "      <td>66.256028</td>\n",
       "      <td>0.0</td>\n",
       "      <td>0.00</td>\n",
       "      <td>25.0</td>\n",
       "      <td>68.00</td>\n",
       "      <td>547.0</td>\n",
       "    </tr>\n",
       "    <tr>\n",
       "      <th>EnclosedPorch</th>\n",
       "      <td>1460.0</td>\n",
       "      <td>21.954110</td>\n",
       "      <td>61.119149</td>\n",
       "      <td>0.0</td>\n",
       "      <td>0.00</td>\n",
       "      <td>0.0</td>\n",
       "      <td>0.00</td>\n",
       "      <td>552.0</td>\n",
       "    </tr>\n",
       "    <tr>\n",
       "      <th>3SsnPorch</th>\n",
       "      <td>1460.0</td>\n",
       "      <td>3.409589</td>\n",
       "      <td>29.317331</td>\n",
       "      <td>0.0</td>\n",
       "      <td>0.00</td>\n",
       "      <td>0.0</td>\n",
       "      <td>0.00</td>\n",
       "      <td>508.0</td>\n",
       "    </tr>\n",
       "    <tr>\n",
       "      <th>ScreenPorch</th>\n",
       "      <td>1460.0</td>\n",
       "      <td>15.060959</td>\n",
       "      <td>55.757415</td>\n",
       "      <td>0.0</td>\n",
       "      <td>0.00</td>\n",
       "      <td>0.0</td>\n",
       "      <td>0.00</td>\n",
       "      <td>480.0</td>\n",
       "    </tr>\n",
       "    <tr>\n",
       "      <th>PoolArea</th>\n",
       "      <td>1460.0</td>\n",
       "      <td>2.758904</td>\n",
       "      <td>40.177307</td>\n",
       "      <td>0.0</td>\n",
       "      <td>0.00</td>\n",
       "      <td>0.0</td>\n",
       "      <td>0.00</td>\n",
       "      <td>738.0</td>\n",
       "    </tr>\n",
       "    <tr>\n",
       "      <th>MiscVal</th>\n",
       "      <td>1460.0</td>\n",
       "      <td>43.489041</td>\n",
       "      <td>496.123024</td>\n",
       "      <td>0.0</td>\n",
       "      <td>0.00</td>\n",
       "      <td>0.0</td>\n",
       "      <td>0.00</td>\n",
       "      <td>15500.0</td>\n",
       "    </tr>\n",
       "    <tr>\n",
       "      <th>MoSold</th>\n",
       "      <td>1460.0</td>\n",
       "      <td>6.321918</td>\n",
       "      <td>2.703626</td>\n",
       "      <td>1.0</td>\n",
       "      <td>5.00</td>\n",
       "      <td>6.0</td>\n",
       "      <td>8.00</td>\n",
       "      <td>12.0</td>\n",
       "    </tr>\n",
       "    <tr>\n",
       "      <th>YrSold</th>\n",
       "      <td>1460.0</td>\n",
       "      <td>2007.815753</td>\n",
       "      <td>1.328095</td>\n",
       "      <td>2006.0</td>\n",
       "      <td>2007.00</td>\n",
       "      <td>2008.0</td>\n",
       "      <td>2009.00</td>\n",
       "      <td>2010.0</td>\n",
       "    </tr>\n",
       "    <tr>\n",
       "      <th>SalePrice</th>\n",
       "      <td>1460.0</td>\n",
       "      <td>180921.195890</td>\n",
       "      <td>79442.502883</td>\n",
       "      <td>34900.0</td>\n",
       "      <td>129975.00</td>\n",
       "      <td>163000.0</td>\n",
       "      <td>214000.00</td>\n",
       "      <td>755000.0</td>\n",
       "    </tr>\n",
       "  </tbody>\n",
       "</table>\n",
       "</div>"
      ],
      "text/plain": [
       "                count           mean           std      min        25%  \\\n",
       "Id             1460.0     730.500000    421.610009      1.0     365.75   \n",
       "MSSubClass     1460.0      56.897260     42.300571     20.0      20.00   \n",
       "LotFrontage    1201.0      70.049958     24.284752     21.0      59.00   \n",
       "LotArea        1460.0   10516.828082   9981.264932   1300.0    7553.50   \n",
       "OverallQual    1460.0       6.099315      1.382997      1.0       5.00   \n",
       "OverallCond    1460.0       5.575342      1.112799      1.0       5.00   \n",
       "YearBuilt      1460.0    1971.267808     30.202904   1872.0    1954.00   \n",
       "YearRemodAdd   1460.0    1984.865753     20.645407   1950.0    1967.00   \n",
       "MasVnrArea     1452.0     103.685262    181.066207      0.0       0.00   \n",
       "BsmtFinSF1     1460.0     443.639726    456.098091      0.0       0.00   \n",
       "BsmtFinSF2     1460.0      46.549315    161.319273      0.0       0.00   \n",
       "BsmtUnfSF      1460.0     567.240411    441.866955      0.0     223.00   \n",
       "TotalBsmtSF    1460.0    1057.429452    438.705324      0.0     795.75   \n",
       "1stFlrSF       1460.0    1162.626712    386.587738    334.0     882.00   \n",
       "2ndFlrSF       1460.0     346.992466    436.528436      0.0       0.00   \n",
       "LowQualFinSF   1460.0       5.844521     48.623081      0.0       0.00   \n",
       "GrLivArea      1460.0    1515.463699    525.480383    334.0    1129.50   \n",
       "BsmtFullBath   1460.0       0.425342      0.518911      0.0       0.00   \n",
       "BsmtHalfBath   1460.0       0.057534      0.238753      0.0       0.00   \n",
       "FullBath       1460.0       1.565068      0.550916      0.0       1.00   \n",
       "HalfBath       1460.0       0.382877      0.502885      0.0       0.00   \n",
       "BedroomAbvGr   1460.0       2.866438      0.815778      0.0       2.00   \n",
       "KitchenAbvGr   1460.0       1.046575      0.220338      0.0       1.00   \n",
       "TotRmsAbvGrd   1460.0       6.517808      1.625393      2.0       5.00   \n",
       "Fireplaces     1460.0       0.613014      0.644666      0.0       0.00   \n",
       "GarageYrBlt    1379.0    1978.506164     24.689725   1900.0    1961.00   \n",
       "GarageCars     1460.0       1.767123      0.747315      0.0       1.00   \n",
       "GarageArea     1460.0     472.980137    213.804841      0.0     334.50   \n",
       "WoodDeckSF     1460.0      94.244521    125.338794      0.0       0.00   \n",
       "OpenPorchSF    1460.0      46.660274     66.256028      0.0       0.00   \n",
       "EnclosedPorch  1460.0      21.954110     61.119149      0.0       0.00   \n",
       "3SsnPorch      1460.0       3.409589     29.317331      0.0       0.00   \n",
       "ScreenPorch    1460.0      15.060959     55.757415      0.0       0.00   \n",
       "PoolArea       1460.0       2.758904     40.177307      0.0       0.00   \n",
       "MiscVal        1460.0      43.489041    496.123024      0.0       0.00   \n",
       "MoSold         1460.0       6.321918      2.703626      1.0       5.00   \n",
       "YrSold         1460.0    2007.815753      1.328095   2006.0    2007.00   \n",
       "SalePrice      1460.0  180921.195890  79442.502883  34900.0  129975.00   \n",
       "\n",
       "                    50%        75%       max  \n",
       "Id                730.5    1095.25    1460.0  \n",
       "MSSubClass         50.0      70.00     190.0  \n",
       "LotFrontage        69.0      80.00     313.0  \n",
       "LotArea          9478.5   11601.50  215245.0  \n",
       "OverallQual         6.0       7.00      10.0  \n",
       "OverallCond         5.0       6.00       9.0  \n",
       "YearBuilt        1973.0    2000.00    2010.0  \n",
       "YearRemodAdd     1994.0    2004.00    2010.0  \n",
       "MasVnrArea          0.0     166.00    1600.0  \n",
       "BsmtFinSF1        383.5     712.25    5644.0  \n",
       "BsmtFinSF2          0.0       0.00    1474.0  \n",
       "BsmtUnfSF         477.5     808.00    2336.0  \n",
       "TotalBsmtSF       991.5    1298.25    6110.0  \n",
       "1stFlrSF         1087.0    1391.25    4692.0  \n",
       "2ndFlrSF            0.0     728.00    2065.0  \n",
       "LowQualFinSF        0.0       0.00     572.0  \n",
       "GrLivArea        1464.0    1776.75    5642.0  \n",
       "BsmtFullBath        0.0       1.00       3.0  \n",
       "BsmtHalfBath        0.0       0.00       2.0  \n",
       "FullBath            2.0       2.00       3.0  \n",
       "HalfBath            0.0       1.00       2.0  \n",
       "BedroomAbvGr        3.0       3.00       8.0  \n",
       "KitchenAbvGr        1.0       1.00       3.0  \n",
       "TotRmsAbvGrd        6.0       7.00      14.0  \n",
       "Fireplaces          1.0       1.00       3.0  \n",
       "GarageYrBlt      1980.0    2002.00    2010.0  \n",
       "GarageCars          2.0       2.00       4.0  \n",
       "GarageArea        480.0     576.00    1418.0  \n",
       "WoodDeckSF          0.0     168.00     857.0  \n",
       "OpenPorchSF        25.0      68.00     547.0  \n",
       "EnclosedPorch       0.0       0.00     552.0  \n",
       "3SsnPorch           0.0       0.00     508.0  \n",
       "ScreenPorch         0.0       0.00     480.0  \n",
       "PoolArea            0.0       0.00     738.0  \n",
       "MiscVal             0.0       0.00   15500.0  \n",
       "MoSold              6.0       8.00      12.0  \n",
       "YrSold           2008.0    2009.00    2010.0  \n",
       "SalePrice      163000.0  214000.00  755000.0  "
      ]
     },
     "execution_count": 7,
     "metadata": {},
     "output_type": "execute_result"
    }
   ],
   "source": [
    "df.describe().T"
   ]
  },
  {
   "cell_type": "code",
   "execution_count": 8,
   "id": "68d08803",
   "metadata": {},
   "outputs": [
    {
     "data": {
      "image/png": "[encoded data removed]",
      "text/plain": [
       "<Figure size 1080x864 with 2 Axes>"
      ]
     },
     "metadata": {
      "needs_background": "light"
     },
     "output_type": "display_data"
    }
   ],
   "source": [
    "corr_matrix = df.corr()\n",
    "fig, ax = plt.subplots(figsize=(15, 12))\n",
    "sns.heatmap(corr_matrix, vmax=0.8, square=True)\n",
    "plt.title(\"Correlations Between Variables\", size=15)\n",
    "plt.show()"
   ]
  },
  {
   "cell_type": "code",
   "execution_count": 9,
   "id": "81e72a50",
   "metadata": {},
   "outputs": [
    {
     "data": {
      "text/html": [
       "<div>\n",
       "<style scoped>\n",
       "    .dataframe tbody tr th:only-of-type {\n",
       "        vertical-align: middle;\n",
       "    }\n",
       "\n",
       "    .dataframe tbody tr th {\n",
       "        vertical-align: top;\n",
       "    }\n",
       "\n",
       "    .dataframe thead th {\n",
       "        text-align: right;\n",
       "    }\n",
       "</style>\n",
       "<table border=\"1\" class=\"dataframe\">\n",
       "  <thead>\n",
       "    <tr style=\"text-align: right;\">\n",
       "      <th></th>\n",
       "      <th>OverallQual</th>\n",
       "      <th>YearBuilt</th>\n",
       "      <th>YearRemodAdd</th>\n",
       "      <th>TotalBsmtSF</th>\n",
       "      <th>1stFlrSF</th>\n",
       "      <th>GrLivArea</th>\n",
       "      <th>FullBath</th>\n",
       "      <th>TotRmsAbvGrd</th>\n",
       "      <th>GarageCars</th>\n",
       "      <th>GarageArea</th>\n",
       "      <th>SalePrice</th>\n",
       "    </tr>\n",
       "  </thead>\n",
       "  <tbody>\n",
       "    <tr>\n",
       "      <th>count</th>\n",
       "      <td>1460.000000</td>\n",
       "      <td>1460.000000</td>\n",
       "      <td>1460.000000</td>\n",
       "      <td>1460.000000</td>\n",
       "      <td>1460.000000</td>\n",
       "      <td>1460.000000</td>\n",
       "      <td>1460.000000</td>\n",
       "      <td>1460.000000</td>\n",
       "      <td>1460.000000</td>\n",
       "      <td>1460.000000</td>\n",
       "      <td>1460.000000</td>\n",
       "    </tr>\n",
       "    <tr>\n",
       "      <th>mean</th>\n",
       "      <td>6.099315</td>\n",
       "      <td>1971.267808</td>\n",
       "      <td>1984.865753</td>\n",
       "      <td>1057.429452</td>\n",
       "      <td>1162.626712</td>\n",
       "      <td>1515.463699</td>\n",
       "      <td>1.565068</td>\n",
       "      <td>6.517808</td>\n",
       "      <td>1.767123</td>\n",
       "      <td>472.980137</td>\n",
       "      <td>180921.195890</td>\n",
       "    </tr>\n",
       "    <tr>\n",
       "      <th>std</th>\n",
       "      <td>1.382997</td>\n",
       "      <td>30.202904</td>\n",
       "      <td>20.645407</td>\n",
       "      <td>438.705324</td>\n",
       "      <td>386.587738</td>\n",
       "      <td>525.480383</td>\n",
       "      <td>0.550916</td>\n",
       "      <td>1.625393</td>\n",
       "      <td>0.747315</td>\n",
       "      <td>213.804841</td>\n",
       "      <td>79442.502883</td>\n",
       "    </tr>\n",
       "    <tr>\n",
       "      <th>min</th>\n",
       "      <td>1.000000</td>\n",
       "      <td>1872.000000</td>\n",
       "      <td>1950.000000</td>\n",
       "      <td>0.000000</td>\n",
       "      <td>334.000000</td>\n",
       "      <td>334.000000</td>\n",
       "      <td>0.000000</td>\n",
       "      <td>2.000000</td>\n",
       "      <td>0.000000</td>\n",
       "      <td>0.000000</td>\n",
       "      <td>34900.000000</td>\n",
       "    </tr>\n",
       "    <tr>\n",
       "      <th>25%</th>\n",
       "      <td>5.000000</td>\n",
       "      <td>1954.000000</td>\n",
       "      <td>1967.000000</td>\n",
       "      <td>795.750000</td>\n",
       "      <td>882.000000</td>\n",
       "      <td>1129.500000</td>\n",
       "      <td>1.000000</td>\n",
       "      <td>5.000000</td>\n",
       "      <td>1.000000</td>\n",
       "      <td>334.500000</td>\n",
       "      <td>129975.000000</td>\n",
       "    </tr>\n",
       "    <tr>\n",
       "      <th>50%</th>\n",
       "      <td>6.000000</td>\n",
       "      <td>1973.000000</td>\n",
       "      <td>1994.000000</td>\n",
       "      <td>991.500000</td>\n",
       "      <td>1087.000000</td>\n",
       "      <td>1464.000000</td>\n",
       "      <td>2.000000</td>\n",
       "      <td>6.000000</td>\n",
       "      <td>2.000000</td>\n",
       "      <td>480.000000</td>\n",
       "      <td>163000.000000</td>\n",
       "    </tr>\n",
       "    <tr>\n",
       "      <th>75%</th>\n",
       "      <td>7.000000</td>\n",
       "      <td>2000.000000</td>\n",
       "      <td>2004.000000</td>\n",
       "      <td>1298.250000</td>\n",
       "      <td>1391.250000</td>\n",
       "      <td>1776.750000</td>\n",
       "      <td>2.000000</td>\n",
       "      <td>7.000000</td>\n",
       "      <td>2.000000</td>\n",
       "      <td>576.000000</td>\n",
       "      <td>214000.000000</td>\n",
       "    </tr>\n",
       "    <tr>\n",
       "      <th>max</th>\n",
       "      <td>10.000000</td>\n",
       "      <td>2010.000000</td>\n",
       "      <td>2010.000000</td>\n",
       "      <td>6110.000000</td>\n",
       "      <td>4692.000000</td>\n",
       "      <td>5642.000000</td>\n",
       "      <td>3.000000</td>\n",
       "      <td>14.000000</td>\n",
       "      <td>4.000000</td>\n",
       "      <td>1418.000000</td>\n",
       "      <td>755000.000000</td>\n",
       "    </tr>\n",
       "  </tbody>\n",
       "</table>\n",
       "</div>"
      ],
      "text/plain": [
       "       OverallQual    YearBuilt  YearRemodAdd  TotalBsmtSF     1stFlrSF  \\\n",
       "count  1460.000000  1460.000000   1460.000000  1460.000000  1460.000000   \n",
       "mean      6.099315  1971.267808   1984.865753  1057.429452  1162.626712   \n",
       "std       1.382997    30.202904     20.645407   438.705324   386.587738   \n",
       "min       1.000000  1872.000000   1950.000000     0.000000   334.000000   \n",
       "25%       5.000000  1954.000000   1967.000000   795.750000   882.000000   \n",
       "50%       6.000000  1973.000000   1994.000000   991.500000  1087.000000   \n",
       "75%       7.000000  2000.000000   2004.000000  1298.250000  1391.250000   \n",
       "max      10.000000  2010.000000   2010.000000  6110.000000  4692.000000   \n",
       "\n",
       "         GrLivArea     FullBath  TotRmsAbvGrd   GarageCars   GarageArea  \\\n",
       "count  1460.000000  1460.000000   1460.000000  1460.000000  1460.000000   \n",
       "mean   1515.463699     1.565068      6.517808     1.767123   472.980137   \n",
       "std     525.480383     0.550916      1.625393     0.747315   213.804841   \n",
       "min     334.000000     0.000000      2.000000     0.000000     0.000000   \n",
       "25%    1129.500000     1.000000      5.000000     1.000000   334.500000   \n",
       "50%    1464.000000     2.000000      6.000000     2.000000   480.000000   \n",
       "75%    1776.750000     2.000000      7.000000     2.000000   576.000000   \n",
       "max    5642.000000     3.000000     14.000000     4.000000  1418.000000   \n",
       "\n",
       "           SalePrice  \n",
       "count    1460.000000  \n",
       "mean   180921.195890  \n",
       "std     79442.502883  \n",
       "min     34900.000000  \n",
       "25%    129975.000000  \n",
       "50%    163000.000000  \n",
       "75%    214000.000000  \n",
       "max    755000.000000  "
      ]
     },
     "execution_count": 9,
     "metadata": {},
     "output_type": "execute_result"
    }
   ],
   "source": [
    "important_num_cols = list(df.corr()[\"SalePrice\"][(df.corr()[\"SalePrice\"]>0.50) | (df.corr()[\"SalePrice\"]<-0.50)].index)\n",
    "#cat_cols = [\"MSZoning\", \"Utilities\",\"BldgType\",\"Heating\",\"KitchenQual\",\"SaleCondition\",\"LandSlope\"]\n",
    "important_cols = important_num_cols# + cat_cols\n",
    "\n",
    "df = df[important_cols]\n",
    "df.describe()"
   ]
  },
  {
   "cell_type": "code",
   "execution_count": 10,
   "id": "5a6f4c7e",
   "metadata": {},
   "outputs": [
    {
     "name": "stdout",
     "output_type": "stream",
     "text": [
      "<class 'pandas.core.frame.DataFrame'>\n",
      "RangeIndex: 1460 entries, 0 to 1459\n",
      "Data columns (total 11 columns):\n",
      " #   Column        Non-Null Count  Dtype\n",
      "---  ------        --------------  -----\n",
      " 0   OverallQual   1460 non-null   int64\n",
      " 1   YearBuilt     1460 non-null   int64\n",
      " 2   YearRemodAdd  1460 non-null   int64\n",
      " 3   TotalBsmtSF   1460 non-null   int64\n",
      " 4   1stFlrSF      1460 non-null   int64\n",
      " 5   GrLivArea     1460 non-null   int64\n",
      " 6   FullBath      1460 non-null   int64\n",
      " 7   TotRmsAbvGrd  1460 non-null   int64\n",
      " 8   GarageCars    1460 non-null   int64\n",
      " 9   GarageArea    1460 non-null   int64\n",
      " 10  SalePrice     1460 non-null   int64\n",
      "dtypes: int64(11)\n",
      "memory usage: 125.6 KB\n"
     ]
    }
   ],
   "source": [
    "df.info()"
   ]
  },
  {
   "cell_type": "code",
   "execution_count": 37,
   "id": "5ca501b5",
   "metadata": {
    "scrolled": false
   },
   "outputs": [
    {
     "name": "stdout",
     "output_type": "stream",
     "text": [
      "Missing Values by Column\n",
      "------------------------------\n",
      "OverallQual     0\n",
      "YearBuilt       0\n",
      "YearRemodAdd    0\n",
      "TotalBsmtSF     0\n",
      "1stFlrSF        0\n",
      "GrLivArea       0\n",
      "FullBath        0\n",
      "TotRmsAbvGrd    0\n",
      "GarageCars      0\n",
      "GarageArea      0\n",
      "SalePrice       0\n",
      "dtype: int64\n",
      "------------------------------\n",
      "TOTAL MISSING VALUES: 0\n",
      "(OverallQual          6.10\n",
      "YearBuilt         1971.27\n",
      "YearRemodAdd      1984.87\n",
      "TotalBsmtSF       1057.43\n",
      "1stFlrSF          1162.63\n",
      "GrLivArea         1515.46\n",
      "FullBath             1.57\n",
      "TotRmsAbvGrd         6.52\n",
      "GarageCars           1.77\n",
      "GarageArea         472.98\n",
      "SalePrice       180921.20\n",
      "dtype: float64, '+/-', OverallQual         1.38\n",
      "YearBuilt          30.19\n",
      "YearRemodAdd       20.64\n",
      "TotalBsmtSF       438.56\n",
      "1stFlrSF          386.46\n",
      "GrLivArea         525.30\n",
      "FullBath            0.55\n",
      "TotRmsAbvGrd        1.62\n",
      "GarageCars          0.75\n",
      "GarageArea        213.73\n",
      "SalePrice       79415.29\n",
      "dtype: float64)\n"
     ]
    }
   ],
   "source": [
    "print(\"Missing Values by Column\")\n",
    "print(\"-\"*30)\n",
    "print(df.isna().sum())\n",
    "print(\"-\"*30)\n",
    "print(\"TOTAL MISSING VALUES:\",df.isna().sum().sum())\n",
    "Round = round(np.mean(df),2),'+/-',round(np.std(df),2)\n",
    "print(Round)\n",
    "#df.mean(),'+/-',df.std()"
   ]
  },
  {
   "cell_type": "code",
   "execution_count": 20,
   "id": "3bc8699c",
   "metadata": {
    "scrolled": false
   },
   "outputs": [
    {
     "data": {
      "application/vnd.plotly.v1+json": {
       "config": {
        "plotlyServerURL": "https://plot.ly"
       },
       "data": [
        {
         "domain": {
          "x": [
           0,
           0.45
          ],
          "y": [
           0.875,
           1
          ]
         },
         "hole": 0.6,
         "hoverinfo": "label+value",
         "labels": [
          "Blmngtn",
          "Blueste",
          "BrDale",
          "BrkSide",
          "ClearCr",
          "CollgCr",
          "Crawfor",
          "Edwards",
          "Gilbert",
          "IDOTRR",
          "MeadowV",
          "Mitchel",
          "NAmes",
          "NPkVill",
          "NWAmes",
          "NoRidge",
          "NridgHt",
          "OldTown",
          "SWISU",
          "Sawyer",
          "SawyerW",
          "Somerst",
          "StoneBr",
          "Timber",
          "Veenker"
         ],
         "marker": {
          "colors": [
           "#F9B1B8",
           "#EE4355",
           "#B60618",
           "#820815"
          ],
          "line": {
           "color": "#EEEEEE",
           "width": 2
          }
         },
         "textfont": {
          "size": 12
         },
         "textinfo": "label+percent",
         "title": {
          "font": {
           "size": 24
          },
          "text": "Neighborhood"
         },
         "type": "pie",
         "values": [
          17,
          2,
          16,
          58,
          28,
          150,
          51,
          100,
          79,
          37,
          17,
          49,
          225,
          9,
          73,
          41,
          77,
          113,
          25,
          74,
          59,
          86,
          25,
          38,
          11
         ]
        },
        {
         "domain": {
          "x": [
           0.55,
           1
          ],
          "y": [
           0.875,
           1
          ]
         },
         "hole": 0.6,
         "hoverinfo": "label+value",
         "labels": [
          1,
          2,
          3,
          4,
          5,
          6,
          7,
          8,
          9,
          10
         ],
         "marker": {
          "colors": [
           "#F9B1B8",
           "#EE4355",
           "#B60618",
           "#820815"
          ],
          "line": {
           "color": "#EEEEEE",
           "width": 2
          }
         },
         "textfont": {
          "size": 12
         },
         "textinfo": "label+percent",
         "title": {
          "font": {
           "size": 24
          },
          "text": "OverallQual"
         },
         "type": "pie",
         "values": [
          2,
          3,
          20,
          116,
          397,
          374,
          319,
          168,
          43,
          18
         ]
        },
        {
         "domain": {
          "x": [
           0,
           0.45
          ],
          "y": [
           0.7,
           0.825
          ]
         },
         "hole": 0.6,
         "hoverinfo": "label+value",
         "labels": [
          "Ex",
          "Fa",
          "Gd",
          "TA"
         ],
         "marker": {
          "colors": [
           "#F9B1B8",
           "#EE4355",
           "#B60618",
           "#820815"
          ],
          "line": {
           "color": "#EEEEEE",
           "width": 2
          }
         },
         "textfont": {
          "size": 12
         },
         "textinfo": "label+percent",
         "title": {
          "font": {
           "size": 24
          },
          "text": "ExterQual"
         },
         "type": "pie",
         "values": [
          52,
          14,
          488,
          906
         ]
        },
        {
         "domain": {
          "x": [
           0.55,
           1
          ],
          "y": [
           0.7,
           0.825
          ]
         },
         "hole": 0.6,
         "hoverinfo": "label+value",
         "labels": [
          "BrkTil",
          "CBlock",
          "PConc",
          "Slab",
          "Stone",
          "Wood"
         ],
         "marker": {
          "colors": [
           "#F9B1B8",
           "#EE4355",
           "#B60618",
           "#820815"
          ],
          "line": {
           "color": "#EEEEEE",
           "width": 2
          }
         },
         "textfont": {
          "size": 12
         },
         "textinfo": "label+percent",
         "title": {
          "font": {
           "size": 24
          },
          "text": "Foundation"
         },
         "type": "pie",
         "values": [
          146,
          634,
          647,
          24,
          6,
          3
         ]
        },
        {
         "domain": {
          "x": [
           0,
           0.45
          ],
          "y": [
           0.525,
           0.65
          ]
         },
         "hole": 0.6,
         "hoverinfo": "label+value",
         "labels": [
          "Ex",
          "Fa",
          "Gd",
          "TA"
         ],
         "marker": {
          "colors": [
           "#F9B1B8",
           "#EE4355",
           "#B60618",
           "#820815"
          ],
          "line": {
           "color": "#EEEEEE",
           "width": 2
          }
         },
         "textfont": {
          "size": 12
         },
         "textinfo": "label+percent",
         "title": {
          "font": {
           "size": 24
          },
          "text": "BsmtQual"
         },
         "type": "pie",
         "values": [
          121,
          35,
          618,
          649
         ]
        },
        {
         "domain": {
          "x": [
           0.55,
           1
          ],
          "y": [
           0.525,
           0.65
          ]
         },
         "hole": 0.6,
         "hoverinfo": "label+value",
         "labels": [
          "ALQ",
          "BLQ",
          "GLQ",
          "LwQ",
          "Rec",
          "Unf"
         ],
         "marker": {
          "colors": [
           "#F9B1B8",
           "#EE4355",
           "#B60618",
           "#820815"
          ],
          "line": {
           "color": "#EEEEEE",
           "width": 2
          }
         },
         "textfont": {
          "size": 12
         },
         "textinfo": "label+percent",
         "title": {
          "font": {
           "size": 24
          },
          "text": "BsmtFinType1"
         },
         "type": "pie",
         "values": [
          220,
          148,
          418,
          74,
          133,
          430
         ]
        },
        {
         "domain": {
          "x": [
           0,
           0.45
          ],
          "y": [
           0.35,
           0.475
          ]
         },
         "hole": 0.6,
         "hoverinfo": "label+value",
         "labels": [
          "Ex",
          "Fa",
          "Gd",
          "Po",
          "TA"
         ],
         "marker": {
          "colors": [
           "#F9B1B8",
           "#EE4355",
           "#B60618",
           "#820815"
          ],
          "line": {
           "color": "#EEEEEE",
           "width": 2
          }
         },
         "textfont": {
          "size": 12
         },
         "textinfo": "label+percent",
         "title": {
          "font": {
           "size": 24
          },
          "text": "HeatingQC"
         },
         "type": "pie",
         "values": [
          741,
          49,
          241,
          1,
          428
         ]
        },
        {
         "domain": {
          "x": [
           0.55,
           1
          ],
          "y": [
           0.35,
           0.475
          ]
         },
         "hole": 0.6,
         "hoverinfo": "label+value",
         "labels": [
          0,
          1,
          2,
          3
         ],
         "marker": {
          "colors": [
           "#F9B1B8",
           "#EE4355",
           "#B60618",
           "#820815"
          ],
          "line": {
           "color": "#EEEEEE",
           "width": 2
          }
         },
         "textfont": {
          "size": 12
         },
         "textinfo": "label+percent",
         "title": {
          "font": {
           "size": 24
          },
          "text": "FullBath"
         },
         "type": "pie",
         "values": [
          9,
          650,
          768,
          33
         ]
        },
        {
         "domain": {
          "x": [
           0,
           0.45
          ],
          "y": [
           0.175,
           0.3
          ]
         },
         "hole": 0.6,
         "hoverinfo": "label+value",
         "labels": [
          "Ex",
          "Fa",
          "Gd",
          "TA"
         ],
         "marker": {
          "colors": [
           "#F9B1B8",
           "#EE4355",
           "#B60618",
           "#820815"
          ],
          "line": {
           "color": "#EEEEEE",
           "width": 2
          }
         },
         "textfont": {
          "size": 12
         },
         "textinfo": "label+percent",
         "title": {
          "font": {
           "size": 24
          },
          "text": "KitchenQual"
         },
         "type": "pie",
         "values": [
          100,
          39,
          586,
          735
         ]
        },
        {
         "domain": {
          "x": [
           0.55,
           1
          ],
          "y": [
           0.175,
           0.3
          ]
         },
         "hole": 0.6,
         "hoverinfo": "label+value",
         "labels": [
          0,
          1,
          2,
          3
         ],
         "marker": {
          "colors": [
           "#F9B1B8",
           "#EE4355",
           "#B60618",
           "#820815"
          ],
          "line": {
           "color": "#EEEEEE",
           "width": 2
          }
         },
         "textfont": {
          "size": 12
         },
         "textinfo": "label+percent",
         "title": {
          "font": {
           "size": 24
          },
          "text": "Fireplaces"
         },
         "type": "pie",
         "values": [
          690,
          650,
          115,
          5
         ]
        },
        {
         "domain": {
          "x": [
           0,
           0.45
          ],
          "y": [
           0,
           0.125
          ]
         },
         "hole": 0.6,
         "hoverinfo": "label+value",
         "labels": [
          "Fin",
          "RFn",
          "Unf"
         ],
         "marker": {
          "colors": [
           "#F9B1B8",
           "#EE4355",
           "#B60618",
           "#820815"
          ],
          "line": {
           "color": "#EEEEEE",
           "width": 2
          }
         },
         "textfont": {
          "size": 12
         },
         "textinfo": "label+percent",
         "title": {
          "font": {
           "size": 24
          },
          "text": "GarageFinish"
         },
         "type": "pie",
         "values": [
          352,
          422,
          605
         ]
        },
        {
         "domain": {
          "x": [
           0.55,
           1
          ],
          "y": [
           0,
           0.125
          ]
         },
         "hole": 0.6,
         "hoverinfo": "label+value",
         "labels": [
          0,
          1,
          2,
          3,
          4
         ],
         "marker": {
          "colors": [
           "#F9B1B8",
           "#EE4355",
           "#B60618",
           "#820815"
          ],
          "line": {
           "color": "#EEEEEE",
           "width": 2
          }
         },
         "textfont": {
          "size": 12
         },
         "textinfo": "label+percent",
         "title": {
          "font": {
           "size": 24
          },
          "text": "GarageCars"
         },
         "type": "pie",
         "values": [
          81,
          369,
          824,
          181,
          5
         ]
        }
       ],
       "layout": {
        "height": 5000,
        "showlegend": false,
        "template": {
         "data": {
          "bar": [
           {
            "error_x": {
             "color": "#f2f5fa"
            },
            "error_y": {
             "color": "#f2f5fa"
            },
            "marker": {
             "line": {
              "color": "rgb(17,17,17)",
              "width": 0.5
             },
             "pattern": {
              "fillmode": "overlay",
              "size": 10,
              "solidity": 0.2
             }
            },
            "type": "bar"
           }
          ],
          "barpolar": [
           {
            "marker": {
             "line": {
              "color": "rgb(17,17,17)",
              "width": 0.5
             },
             "pattern": {
              "fillmode": "overlay",
              "size": 10,
              "solidity": 0.2
             }
            },
            "type": "barpolar"
           }
          ],
          "carpet": [
           {
            "aaxis": {
             "endlinecolor": "#A2B1C6",
             "gridcolor": "#506784",
             "linecolor": "#506784",
             "minorgridcolor": "#506784",
             "startlinecolor": "#A2B1C6"
            },
            "baxis": {
             "endlinecolor": "#A2B1C6",
             "gridcolor": "#506784",
             "linecolor": "#506784",
             "minorgridcolor": "#506784",
             "startlinecolor": "#A2B1C6"
            },
            "type": "carpet"
           }
          ],
          "choropleth": [
           {
            "colorbar": {
             "outlinewidth": 0,
             "ticks": ""
            },
            "type": "choropleth"
           }
          ],
          "contour": [
           {
            "colorbar": {
             "outlinewidth": 0,
             "ticks": ""
            },
            "colorscale": [
             [
              0,
              "#0d0887"
             ],
             [
              0.1111111111111111,
              "#46039f"
             ],
             [
              0.2222222222222222,
              "#7201a8"
             ],
             [
              0.3333333333333333,
              "#9c179e"
             ],
             [
              0.4444444444444444,
              "#bd3786"
             ],
             [
              0.5555555555555556,
              "#d8576b"
             ],
             [
              0.6666666666666666,
              "#ed7953"
             ],
             [
              0.7777777777777778,
              "#fb9f3a"
             ],
             [
              0.8888888888888888,
              "#fdca26"
             ],
             [
              1,
              "#f0f921"
             ]
            ],
            "type": "contour"
           }
          ],
          "contourcarpet": [
           {
            "colorbar": {
             "outlinewidth": 0,
             "ticks": ""
            },
            "type": "contourcarpet"
           }
          ],
          "heatmap": [
           {
            "colorbar": {
             "outlinewidth": 0,
             "ticks": ""
            },
            "colorscale": [
             [
              0,
              "#0d0887"
             ],
             [
              0.1111111111111111,
              "#46039f"
             ],
             [
              0.2222222222222222,
              "#7201a8"
             ],
             [
              0.3333333333333333,
              "#9c179e"
             ],
             [
              0.4444444444444444,
              "#bd3786"
             ],
             [
              0.5555555555555556,
              "#d8576b"
             ],
             [
              0.6666666666666666,
              "#ed7953"
             ],
             [
              0.7777777777777778,
              "#fb9f3a"
             ],
             [
              0.8888888888888888,
              "#fdca26"
             ],
             [
              1,
              "#f0f921"
             ]
            ],
            "type": "heatmap"
           }
          ],
          "heatmapgl": [
           {
            "colorbar": {
             "outlinewidth": 0,
             "ticks": ""
            },
            "colorscale": [
             [
              0,
              "#0d0887"
             ],
             [
              0.1111111111111111,
              "#46039f"
             ],
             [
              0.2222222222222222,
              "#7201a8"
             ],
             [
              0.3333333333333333,
              "#9c179e"
             ],
             [
              0.4444444444444444,
              "#bd3786"
             ],
             [
              0.5555555555555556,
              "#d8576b"
             ],
             [
              0.6666666666666666,
              "#ed7953"
             ],
             [
              0.7777777777777778,
              "#fb9f3a"
             ],
             [
              0.8888888888888888,
              "#fdca26"
             ],
             [
              1,
              "#f0f921"
             ]
            ],
            "type": "heatmapgl"
           }
          ],
          "histogram": [
           {
            "marker": {
             "pattern": {
              "fillmode": "overlay",
              "size": 10,
              "solidity": 0.2
             }
            },
            "type": "histogram"
           }
          ],
          "histogram2d": [
           {
            "colorbar": {
             "outlinewidth": 0,
             "ticks": ""
            },
            "colorscale": [
             [
              0,
              "#0d0887"
             ],
             [
              0.1111111111111111,
              "#46039f"
             ],
             [
              0.2222222222222222,
              "#7201a8"
             ],
             [
              0.3333333333333333,
              "#9c179e"
             ],
             [
              0.4444444444444444,
              "#bd3786"
             ],
             [
              0.5555555555555556,
              "#d8576b"
             ],
             [
              0.6666666666666666,
              "#ed7953"
             ],
             [
              0.7777777777777778,
              "#fb9f3a"
             ],
             [
              0.8888888888888888,
              "#fdca26"
             ],
             [
              1,
              "#f0f921"
             ]
            ],
            "type": "histogram2d"
           }
          ],
          "histogram2dcontour": [
           {
            "colorbar": {
             "outlinewidth": 0,
             "ticks": ""
            },
            "colorscale": [
             [
              0,
              "#0d0887"
             ],
             [
              0.1111111111111111,
              "#46039f"
             ],
             [
              0.2222222222222222,
              "#7201a8"
             ],
             [
              0.3333333333333333,
              "#9c179e"
             ],
             [
              0.4444444444444444,
              "#bd3786"
             ],
             [
              0.5555555555555556,
              "#d8576b"
             ],
             [
              0.6666666666666666,
              "#ed7953"
             ],
             [
              0.7777777777777778,
              "#fb9f3a"
             ],
             [
              0.8888888888888888,
              "#fdca26"
             ],
             [
              1,
              "#f0f921"
             ]
            ],
            "type": "histogram2dcontour"
           }
          ],
          "mesh3d": [
           {
            "colorbar": {
             "outlinewidth": 0,
             "ticks": ""
            },
            "type": "mesh3d"
           }
          ],
          "parcoords": [
           {
            "line": {
             "colorbar": {
              "outlinewidth": 0,
              "ticks": ""
             }
            },
            "type": "parcoords"
           }
          ],
          "pie": [
           {
            "automargin": true,
            "type": "pie"
           }
          ],
          "scatter": [
           {
            "marker": {
             "line": {
              "color": "#283442"
             }
            },
            "type": "scatter"
           }
          ],
          "scatter3d": [
           {
            "line": {
             "colorbar": {
              "outlinewidth": 0,
              "ticks": ""
             }
            },
            "marker": {
             "colorbar": {
              "outlinewidth": 0,
              "ticks": ""
             }
            },
            "type": "scatter3d"
           }
          ],
          "scattercarpet": [
           {
            "marker": {
             "colorbar": {
              "outlinewidth": 0,
              "ticks": ""
             }
            },
            "type": "scattercarpet"
           }
          ],
          "scattergeo": [
           {
            "marker": {
             "colorbar": {
              "outlinewidth": 0,
              "ticks": ""
             }
            },
            "type": "scattergeo"
           }
          ],
          "scattergl": [
           {
            "marker": {
             "line": {
              "color": "#283442"
             }
            },
            "type": "scattergl"
           }
          ],
          "scattermapbox": [
           {
            "marker": {
             "colorbar": {
              "outlinewidth": 0,
              "ticks": ""
             }
            },
            "type": "scattermapbox"
           }
          ],
          "scatterpolar": [
           {
            "marker": {
             "colorbar": {
              "outlinewidth": 0,
              "ticks": ""
             }
            },
            "type": "scatterpolar"
           }
          ],
          "scatterpolargl": [
           {
            "marker": {
             "colorbar": {
              "outlinewidth": 0,
              "ticks": ""
             }
            },
            "type": "scatterpolargl"
           }
          ],
          "scatterternary": [
           {
            "marker": {
             "colorbar": {
              "outlinewidth": 0,
              "ticks": ""
             }
            },
            "type": "scatterternary"
           }
          ],
          "surface": [
           {
            "colorbar": {
             "outlinewidth": 0,
             "ticks": ""
            },
            "colorscale": [
             [
              0,
              "#0d0887"
             ],
             [
              0.1111111111111111,
              "#46039f"
             ],
             [
              0.2222222222222222,
              "#7201a8"
             ],
             [
              0.3333333333333333,
              "#9c179e"
             ],
             [
              0.4444444444444444,
              "#bd3786"
             ],
             [
              0.5555555555555556,
              "#d8576b"
             ],
             [
              0.6666666666666666,
              "#ed7953"
             ],
             [
              0.7777777777777778,
              "#fb9f3a"
             ],
             [
              0.8888888888888888,
              "#fdca26"
             ],
             [
              1,
              "#f0f921"
             ]
            ],
            "type": "surface"
           }
          ],
          "table": [
           {
            "cells": {
             "fill": {
              "color": "#506784"
             },
             "line": {
              "color": "rgb(17,17,17)"
             }
            },
            "header": {
             "fill": {
              "color": "#2a3f5f"
             },
             "line": {
              "color": "rgb(17,17,17)"
             }
            },
            "type": "table"
           }
          ]
         },
         "layout": {
          "annotationdefaults": {
           "arrowcolor": "#f2f5fa",
           "arrowhead": 0,
           "arrowwidth": 1
          },
          "autotypenumbers": "strict",
          "coloraxis": {
           "colorbar": {
            "outlinewidth": 0,
            "ticks": ""
           }
          },
          "colorscale": {
           "diverging": [
            [
             0,
             "#8e0152"
            ],
            [
             0.1,
             "#c51b7d"
            ],
            [
             0.2,
             "#de77ae"
            ],
            [
             0.3,
             "#f1b6da"
            ],
            [
             0.4,
             "#fde0ef"
            ],
            [
             0.5,
             "#f7f7f7"
            ],
            [
             0.6,
             "#e6f5d0"
            ],
            [
             0.7,
             "#b8e186"
            ],
            [
             0.8,
             "#7fbc41"
            ],
            [
             0.9,
             "#4d9221"
            ],
            [
             1,
             "#276419"
            ]
           ],
           "sequential": [
            [
             0,
             "#0d0887"
            ],
            [
             0.1111111111111111,
             "#46039f"
            ],
            [
             0.2222222222222222,
             "#7201a8"
            ],
            [
             0.3333333333333333,
             "#9c179e"
            ],
            [
             0.4444444444444444,
             "#bd3786"
            ],
            [
             0.5555555555555556,
             "#d8576b"
            ],
            [
             0.6666666666666666,
             "#ed7953"
            ],
            [
             0.7777777777777778,
             "#fb9f3a"
            ],
            [
             0.8888888888888888,
             "#fdca26"
            ],
            [
             1,
             "#f0f921"
            ]
           ],
           "sequentialminus": [
            [
             0,
             "#0d0887"
            ],
            [
             0.1111111111111111,
             "#46039f"
            ],
            [
             0.2222222222222222,
             "#7201a8"
            ],
            [
             0.3333333333333333,
             "#9c179e"
            ],
            [
             0.4444444444444444,
             "#bd3786"
            ],
            [
             0.5555555555555556,
             "#d8576b"
            ],
            [
             0.6666666666666666,
             "#ed7953"
            ],
            [
             0.7777777777777778,
             "#fb9f3a"
            ],
            [
             0.8888888888888888,
             "#fdca26"
            ],
            [
             1,
             "#f0f921"
            ]
           ]
          },
          "colorway": [
           "#636efa",
           "#EF553B",
           "#00cc96",
           "#ab63fa",
           "#FFA15A",
           "#19d3f3",
           "#FF6692",
           "#B6E880",
           "#FF97FF",
           "#FECB52"
          ],
          "font": {
           "color": "#f2f5fa"
          },
          "geo": {
           "bgcolor": "rgb(17,17,17)",
           "lakecolor": "rgb(17,17,17)",
           "landcolor": "rgb(17,17,17)",
           "showlakes": true,
           "showland": true,
           "subunitcolor": "#506784"
          },
          "hoverlabel": {
           "align": "left"
          },
          "hovermode": "closest",
          "mapbox": {
           "style": "dark"
          },
          "paper_bgcolor": "rgb(17,17,17)",
          "plot_bgcolor": "rgb(17,17,17)",
          "polar": {
           "angularaxis": {
            "gridcolor": "#506784",
            "linecolor": "#506784",
            "ticks": ""
           },
           "bgcolor": "rgb(17,17,17)",
           "radialaxis": {
            "gridcolor": "#506784",
            "linecolor": "#506784",
            "ticks": ""
           }
          },
          "scene": {
           "xaxis": {
            "backgroundcolor": "rgb(17,17,17)",
            "gridcolor": "#506784",
            "gridwidth": 2,
            "linecolor": "#506784",
            "showbackground": true,
            "ticks": "",
            "zerolinecolor": "#C8D4E3"
           },
           "yaxis": {
            "backgroundcolor": "rgb(17,17,17)",
            "gridcolor": "#506784",
            "gridwidth": 2,
            "linecolor": "#506784",
            "showbackground": true,
            "ticks": "",
            "zerolinecolor": "#C8D4E3"
           },
           "zaxis": {
            "backgroundcolor": "rgb(17,17,17)",
            "gridcolor": "#506784",
            "gridwidth": 2,
            "linecolor": "#506784",
            "showbackground": true,
            "ticks": "",
            "zerolinecolor": "#C8D4E3"
           }
          },
          "shapedefaults": {
           "line": {
            "color": "#f2f5fa"
           }
          },
          "sliderdefaults": {
           "bgcolor": "#C8D4E3",
           "bordercolor": "rgb(17,17,17)",
           "borderwidth": 1,
           "tickwidth": 0
          },
          "ternary": {
           "aaxis": {
            "gridcolor": "#506784",
            "linecolor": "#506784",
            "ticks": ""
           },
           "baxis": {
            "gridcolor": "#506784",
            "linecolor": "#506784",
            "ticks": ""
           },
           "bgcolor": "rgb(17,17,17)",
           "caxis": {
            "gridcolor": "#506784",
            "linecolor": "#506784",
            "ticks": ""
           }
          },
          "title": {
           "x": 0.05
          },
          "updatemenudefaults": {
           "bgcolor": "#506784",
           "borderwidth": 0
          },
          "xaxis": {
           "automargin": true,
           "gridcolor": "#283442",
           "linecolor": "#506784",
           "ticks": "",
           "title": {
            "standoff": 15
           },
           "zerolinecolor": "#283442",
           "zerolinewidth": 2
          },
          "yaxis": {
           "automargin": true,
           "gridcolor": "#283442",
           "linecolor": "#506784",
           "ticks": "",
           "title": {
            "standoff": 15
           },
           "zerolinecolor": "#283442",
           "zerolinewidth": 2
          }
         }
        },
        "title": {
         "font": {
          "family": "Courier New",
          "size": 50
         },
         "text": "<b> Categorical Features Donut Charts <b>",
         "x": 0.5
        },
        "width": 5000
       }
      },
      "text/html": [
       "<div>                            <div id=\"614b78ab-ba09-4467-8021-9e5166105e06\" class=\"plotly-graph-div\" style=\"height:5000px; width:5000px;\"></div>            <script type=\"text/javascript\">                require([\"plotly\"], function(Plotly) {                    window.PLOTLYENV=window.PLOTLYENV || {};                                    if (document.getElementById(\"614b78ab-ba09-4467-8021-9e5166105e06\")) {                    Plotly.newPlot(                        \"614b78ab-ba09-4467-8021-9e5166105e06\",                        [{\"hole\":0.6,\"labels\":[\"Blmngtn\",\"Blueste\",\"BrDale\",\"BrkSide\",\"ClearCr\",\"CollgCr\",\"Crawfor\",\"Edwards\",\"Gilbert\",\"IDOTRR\",\"MeadowV\",\"Mitchel\",\"NAmes\",\"NPkVill\",\"NWAmes\",\"NoRidge\",\"NridgHt\",\"OldTown\",\"SWISU\",\"Sawyer\",\"SawyerW\",\"Somerst\",\"StoneBr\",\"Timber\",\"Veenker\"],\"title\":{\"font\":{\"size\":24},\"text\":\"Neighborhood\"},\"values\":[17,2,16,58,28,150,51,100,79,37,17,49,225,9,73,41,77,113,25,74,59,86,25,38,11],\"type\":\"pie\",\"domain\":{\"x\":[0.0,0.45],\"y\":[0.875,1.0]},\"textfont\":{\"size\":12},\"marker\":{\"line\":{\"color\":\"#EEEEEE\",\"width\":2},\"colors\":[\"#F9B1B8\",\"#EE4355\",\"#B60618\",\"#820815\"]},\"hoverinfo\":\"label+value\",\"textinfo\":\"label+percent\"},{\"hole\":0.6,\"labels\":[1,2,3,4,5,6,7,8,9,10],\"title\":{\"font\":{\"size\":24},\"text\":\"OverallQual\"},\"values\":[2,3,20,116,397,374,319,168,43,18],\"type\":\"pie\",\"domain\":{\"x\":[0.55,1.0],\"y\":[0.875,1.0]},\"textfont\":{\"size\":12},\"marker\":{\"line\":{\"color\":\"#EEEEEE\",\"width\":2},\"colors\":[\"#F9B1B8\",\"#EE4355\",\"#B60618\",\"#820815\"]},\"hoverinfo\":\"label+value\",\"textinfo\":\"label+percent\"},{\"hole\":0.6,\"labels\":[\"Ex\",\"Fa\",\"Gd\",\"TA\"],\"title\":{\"font\":{\"size\":24},\"text\":\"ExterQual\"},\"values\":[52,14,488,906],\"type\":\"pie\",\"domain\":{\"x\":[0.0,0.45],\"y\":[0.7,0.825]},\"textfont\":{\"size\":12},\"marker\":{\"line\":{\"color\":\"#EEEEEE\",\"width\":2},\"colors\":[\"#F9B1B8\",\"#EE4355\",\"#B60618\",\"#820815\"]},\"hoverinfo\":\"label+value\",\"textinfo\":\"label+percent\"},{\"hole\":0.6,\"labels\":[\"BrkTil\",\"CBlock\",\"PConc\",\"Slab\",\"Stone\",\"Wood\"],\"title\":{\"font\":{\"size\":24},\"text\":\"Foundation\"},\"values\":[146,634,647,24,6,3],\"type\":\"pie\",\"domain\":{\"x\":[0.55,1.0],\"y\":[0.7,0.825]},\"textfont\":{\"size\":12},\"marker\":{\"line\":{\"color\":\"#EEEEEE\",\"width\":2},\"colors\":[\"#F9B1B8\",\"#EE4355\",\"#B60618\",\"#820815\"]},\"hoverinfo\":\"label+value\",\"textinfo\":\"label+percent\"},{\"hole\":0.6,\"labels\":[\"Ex\",\"Fa\",\"Gd\",\"TA\"],\"title\":{\"font\":{\"size\":24},\"text\":\"BsmtQual\"},\"values\":[121,35,618,649],\"type\":\"pie\",\"domain\":{\"x\":[0.0,0.45],\"y\":[0.525,0.65]},\"textfont\":{\"size\":12},\"marker\":{\"line\":{\"color\":\"#EEEEEE\",\"width\":2},\"colors\":[\"#F9B1B8\",\"#EE4355\",\"#B60618\",\"#820815\"]},\"hoverinfo\":\"label+value\",\"textinfo\":\"label+percent\"},{\"hole\":0.6,\"labels\":[\"ALQ\",\"BLQ\",\"GLQ\",\"LwQ\",\"Rec\",\"Unf\"],\"title\":{\"font\":{\"size\":24},\"text\":\"BsmtFinType1\"},\"values\":[220,148,418,74,133,430],\"type\":\"pie\",\"domain\":{\"x\":[0.55,1.0],\"y\":[0.525,0.65]},\"textfont\":{\"size\":12},\"marker\":{\"line\":{\"color\":\"#EEEEEE\",\"width\":2},\"colors\":[\"#F9B1B8\",\"#EE4355\",\"#B60618\",\"#820815\"]},\"hoverinfo\":\"label+value\",\"textinfo\":\"label+percent\"},{\"hole\":0.6,\"labels\":[\"Ex\",\"Fa\",\"Gd\",\"Po\",\"TA\"],\"title\":{\"font\":{\"size\":24},\"text\":\"HeatingQC\"},\"values\":[741,49,241,1,428],\"type\":\"pie\",\"domain\":{\"x\":[0.0,0.45],\"y\":[0.35,0.475]},\"textfont\":{\"size\":12},\"marker\":{\"line\":{\"color\":\"#EEEEEE\",\"width\":2},\"colors\":[\"#F9B1B8\",\"#EE4355\",\"#B60618\",\"#820815\"]},\"hoverinfo\":\"label+value\",\"textinfo\":\"label+percent\"},{\"hole\":0.6,\"labels\":[0,1,2,3],\"title\":{\"font\":{\"size\":24},\"text\":\"FullBath\"},\"values\":[9,650,768,33],\"type\":\"pie\",\"domain\":{\"x\":[0.55,1.0],\"y\":[0.35,0.475]},\"textfont\":{\"size\":12},\"marker\":{\"line\":{\"color\":\"#EEEEEE\",\"width\":2},\"colors\":[\"#F9B1B8\",\"#EE4355\",\"#B60618\",\"#820815\"]},\"hoverinfo\":\"label+value\",\"textinfo\":\"label+percent\"},{\"hole\":0.6,\"labels\":[\"Ex\",\"Fa\",\"Gd\",\"TA\"],\"title\":{\"font\":{\"size\":24},\"text\":\"KitchenQual\"},\"values\":[100,39,586,735],\"type\":\"pie\",\"domain\":{\"x\":[0.0,0.45],\"y\":[0.175,0.3]},\"textfont\":{\"size\":12},\"marker\":{\"line\":{\"color\":\"#EEEEEE\",\"width\":2},\"colors\":[\"#F9B1B8\",\"#EE4355\",\"#B60618\",\"#820815\"]},\"hoverinfo\":\"label+value\",\"textinfo\":\"label+percent\"},{\"hole\":0.6,\"labels\":[0,1,2,3],\"title\":{\"font\":{\"size\":24},\"text\":\"Fireplaces\"},\"values\":[690,650,115,5],\"type\":\"pie\",\"domain\":{\"x\":[0.55,1.0],\"y\":[0.175,0.3]},\"textfont\":{\"size\":12},\"marker\":{\"line\":{\"color\":\"#EEEEEE\",\"width\":2},\"colors\":[\"#F9B1B8\",\"#EE4355\",\"#B60618\",\"#820815\"]},\"hoverinfo\":\"label+value\",\"textinfo\":\"label+percent\"},{\"hole\":0.6,\"labels\":[\"Fin\",\"RFn\",\"Unf\"],\"title\":{\"font\":{\"size\":24},\"text\":\"GarageFinish\"},\"values\":[352,422,605],\"type\":\"pie\",\"domain\":{\"x\":[0.0,0.45],\"y\":[0.0,0.125]},\"textfont\":{\"size\":12},\"marker\":{\"line\":{\"color\":\"#EEEEEE\",\"width\":2},\"colors\":[\"#F9B1B8\",\"#EE4355\",\"#B60618\",\"#820815\"]},\"hoverinfo\":\"label+value\",\"textinfo\":\"label+percent\"},{\"hole\":0.6,\"labels\":[0,1,2,3,4],\"title\":{\"font\":{\"size\":24},\"text\":\"GarageCars\"},\"values\":[81,369,824,181,5],\"type\":\"pie\",\"domain\":{\"x\":[0.55,1.0],\"y\":[0.0,0.125]},\"textfont\":{\"size\":12},\"marker\":{\"line\":{\"color\":\"#EEEEEE\",\"width\":2},\"colors\":[\"#F9B1B8\",\"#EE4355\",\"#B60618\",\"#820815\"]},\"hoverinfo\":\"label+value\",\"textinfo\":\"label+percent\"}],                        {\"template\":{\"data\":{\"barpolar\":[{\"marker\":{\"line\":{\"color\":\"rgb(17,17,17)\",\"width\":0.5},\"pattern\":{\"fillmode\":\"overlay\",\"size\":10,\"solidity\":0.2}},\"type\":\"barpolar\"}],\"bar\":[{\"error_x\":{\"color\":\"#f2f5fa\"},\"error_y\":{\"color\":\"#f2f5fa\"},\"marker\":{\"line\":{\"color\":\"rgb(17,17,17)\",\"width\":0.5},\"pattern\":{\"fillmode\":\"overlay\",\"size\":10,\"solidity\":0.2}},\"type\":\"bar\"}],\"carpet\":[{\"aaxis\":{\"endlinecolor\":\"#A2B1C6\",\"gridcolor\":\"#506784\",\"linecolor\":\"#506784\",\"minorgridcolor\":\"#506784\",\"startlinecolor\":\"#A2B1C6\"},\"baxis\":{\"endlinecolor\":\"#A2B1C6\",\"gridcolor\":\"#506784\",\"linecolor\":\"#506784\",\"minorgridcolor\":\"#506784\",\"startlinecolor\":\"#A2B1C6\"},\"type\":\"carpet\"}],\"choropleth\":[{\"colorbar\":{\"outlinewidth\":0,\"ticks\":\"\"},\"type\":\"choropleth\"}],\"contourcarpet\":[{\"colorbar\":{\"outlinewidth\":0,\"ticks\":\"\"},\"type\":\"contourcarpet\"}],\"contour\":[{\"colorbar\":{\"outlinewidth\":0,\"ticks\":\"\"},\"colorscale\":[[0.0,\"#0d0887\"],[0.1111111111111111,\"#46039f\"],[0.2222222222222222,\"#7201a8\"],[0.3333333333333333,\"#9c179e\"],[0.4444444444444444,\"#bd3786\"],[0.5555555555555556,\"#d8576b\"],[0.6666666666666666,\"#ed7953\"],[0.7777777777777778,\"#fb9f3a\"],[0.8888888888888888,\"#fdca26\"],[1.0,\"#f0f921\"]],\"type\":\"contour\"}],\"heatmapgl\":[{\"colorbar\":{\"outlinewidth\":0,\"ticks\":\"\"},\"colorscale\":[[0.0,\"#0d0887\"],[0.1111111111111111,\"#46039f\"],[0.2222222222222222,\"#7201a8\"],[0.3333333333333333,\"#9c179e\"],[0.4444444444444444,\"#bd3786\"],[0.5555555555555556,\"#d8576b\"],[0.6666666666666666,\"#ed7953\"],[0.7777777777777778,\"#fb9f3a\"],[0.8888888888888888,\"#fdca26\"],[1.0,\"#f0f921\"]],\"type\":\"heatmapgl\"}],\"heatmap\":[{\"colorbar\":{\"outlinewidth\":0,\"ticks\":\"\"},\"colorscale\":[[0.0,\"#0d0887\"],[0.1111111111111111,\"#46039f\"],[0.2222222222222222,\"#7201a8\"],[0.3333333333333333,\"#9c179e\"],[0.4444444444444444,\"#bd3786\"],[0.5555555555555556,\"#d8576b\"],[0.6666666666666666,\"#ed7953\"],[0.7777777777777778,\"#fb9f3a\"],[0.8888888888888888,\"#fdca26\"],[1.0,\"#f0f921\"]],\"type\":\"heatmap\"}],\"histogram2dcontour\":[{\"colorbar\":{\"outlinewidth\":0,\"ticks\":\"\"},\"colorscale\":[[0.0,\"#0d0887\"],[0.1111111111111111,\"#46039f\"],[0.2222222222222222,\"#7201a8\"],[0.3333333333333333,\"#9c179e\"],[0.4444444444444444,\"#bd3786\"],[0.5555555555555556,\"#d8576b\"],[0.6666666666666666,\"#ed7953\"],[0.7777777777777778,\"#fb9f3a\"],[0.8888888888888888,\"#fdca26\"],[1.0,\"#f0f921\"]],\"type\":\"histogram2dcontour\"}],\"histogram2d\":[{\"colorbar\":{\"outlinewidth\":0,\"ticks\":\"\"},\"colorscale\":[[0.0,\"#0d0887\"],[0.1111111111111111,\"#46039f\"],[0.2222222222222222,\"#7201a8\"],[0.3333333333333333,\"#9c179e\"],[0.4444444444444444,\"#bd3786\"],[0.5555555555555556,\"#d8576b\"],[0.6666666666666666,\"#ed7953\"],[0.7777777777777778,\"#fb9f3a\"],[0.8888888888888888,\"#fdca26\"],[1.0,\"#f0f921\"]],\"type\":\"histogram2d\"}],\"histogram\":[{\"marker\":{\"pattern\":{\"fillmode\":\"overlay\",\"size\":10,\"solidity\":0.2}},\"type\":\"histogram\"}],\"mesh3d\":[{\"colorbar\":{\"outlinewidth\":0,\"ticks\":\"\"},\"type\":\"mesh3d\"}],\"parcoords\":[{\"line\":{\"colorbar\":{\"outlinewidth\":0,\"ticks\":\"\"}},\"type\":\"parcoords\"}],\"pie\":[{\"automargin\":true,\"type\":\"pie\"}],\"scatter3d\":[{\"line\":{\"colorbar\":{\"outlinewidth\":0,\"ticks\":\"\"}},\"marker\":{\"colorbar\":{\"outlinewidth\":0,\"ticks\":\"\"}},\"type\":\"scatter3d\"}],\"scattercarpet\":[{\"marker\":{\"colorbar\":{\"outlinewidth\":0,\"ticks\":\"\"}},\"type\":\"scattercarpet\"}],\"scattergeo\":[{\"marker\":{\"colorbar\":{\"outlinewidth\":0,\"ticks\":\"\"}},\"type\":\"scattergeo\"}],\"scattergl\":[{\"marker\":{\"line\":{\"color\":\"#283442\"}},\"type\":\"scattergl\"}],\"scattermapbox\":[{\"marker\":{\"colorbar\":{\"outlinewidth\":0,\"ticks\":\"\"}},\"type\":\"scattermapbox\"}],\"scatterpolargl\":[{\"marker\":{\"colorbar\":{\"outlinewidth\":0,\"ticks\":\"\"}},\"type\":\"scatterpolargl\"}],\"scatterpolar\":[{\"marker\":{\"colorbar\":{\"outlinewidth\":0,\"ticks\":\"\"}},\"type\":\"scatterpolar\"}],\"scatter\":[{\"marker\":{\"line\":{\"color\":\"#283442\"}},\"type\":\"scatter\"}],\"scatterternary\":[{\"marker\":{\"colorbar\":{\"outlinewidth\":0,\"ticks\":\"\"}},\"type\":\"scatterternary\"}],\"surface\":[{\"colorbar\":{\"outlinewidth\":0,\"ticks\":\"\"},\"colorscale\":[[0.0,\"#0d0887\"],[0.1111111111111111,\"#46039f\"],[0.2222222222222222,\"#7201a8\"],[0.3333333333333333,\"#9c179e\"],[0.4444444444444444,\"#bd3786\"],[0.5555555555555556,\"#d8576b\"],[0.6666666666666666,\"#ed7953\"],[0.7777777777777778,\"#fb9f3a\"],[0.8888888888888888,\"#fdca26\"],[1.0,\"#f0f921\"]],\"type\":\"surface\"}],\"table\":[{\"cells\":{\"fill\":{\"color\":\"#506784\"},\"line\":{\"color\":\"rgb(17,17,17)\"}},\"header\":{\"fill\":{\"color\":\"#2a3f5f\"},\"line\":{\"color\":\"rgb(17,17,17)\"}},\"type\":\"table\"}]},\"layout\":{\"annotationdefaults\":{\"arrowcolor\":\"#f2f5fa\",\"arrowhead\":0,\"arrowwidth\":1},\"autotypenumbers\":\"strict\",\"coloraxis\":{\"colorbar\":{\"outlinewidth\":0,\"ticks\":\"\"}},\"colorscale\":{\"diverging\":[[0,\"#8e0152\"],[0.1,\"#c51b7d\"],[0.2,\"#de77ae\"],[0.3,\"#f1b6da\"],[0.4,\"#fde0ef\"],[0.5,\"#f7f7f7\"],[0.6,\"#e6f5d0\"],[0.7,\"#b8e186\"],[0.8,\"#7fbc41\"],[0.9,\"#4d9221\"],[1,\"#276419\"]],\"sequential\":[[0.0,\"#0d0887\"],[0.1111111111111111,\"#46039f\"],[0.2222222222222222,\"#7201a8\"],[0.3333333333333333,\"#9c179e\"],[0.4444444444444444,\"#bd3786\"],[0.5555555555555556,\"#d8576b\"],[0.6666666666666666,\"#ed7953\"],[0.7777777777777778,\"#fb9f3a\"],[0.8888888888888888,\"#fdca26\"],[1.0,\"#f0f921\"]],\"sequentialminus\":[[0.0,\"#0d0887\"],[0.1111111111111111,\"#46039f\"],[0.2222222222222222,\"#7201a8\"],[0.3333333333333333,\"#9c179e\"],[0.4444444444444444,\"#bd3786\"],[0.5555555555555556,\"#d8576b\"],[0.6666666666666666,\"#ed7953\"],[0.7777777777777778,\"#fb9f3a\"],[0.8888888888888888,\"#fdca26\"],[1.0,\"#f0f921\"]]},\"colorway\":[\"#636efa\",\"#EF553B\",\"#00cc96\",\"#ab63fa\",\"#FFA15A\",\"#19d3f3\",\"#FF6692\",\"#B6E880\",\"#FF97FF\",\"#FECB52\"],\"font\":{\"color\":\"#f2f5fa\"},\"geo\":{\"bgcolor\":\"rgb(17,17,17)\",\"lakecolor\":\"rgb(17,17,17)\",\"landcolor\":\"rgb(17,17,17)\",\"showlakes\":true,\"showland\":true,\"subunitcolor\":\"#506784\"},\"hoverlabel\":{\"align\":\"left\"},\"hovermode\":\"closest\",\"mapbox\":{\"style\":\"dark\"},\"paper_bgcolor\":\"rgb(17,17,17)\",\"plot_bgcolor\":\"rgb(17,17,17)\",\"polar\":{\"angularaxis\":{\"gridcolor\":\"#506784\",\"linecolor\":\"#506784\",\"ticks\":\"\"},\"bgcolor\":\"rgb(17,17,17)\",\"radialaxis\":{\"gridcolor\":\"#506784\",\"linecolor\":\"#506784\",\"ticks\":\"\"}},\"scene\":{\"xaxis\":{\"backgroundcolor\":\"rgb(17,17,17)\",\"gridcolor\":\"#506784\",\"gridwidth\":2,\"linecolor\":\"#506784\",\"showbackground\":true,\"ticks\":\"\",\"zerolinecolor\":\"#C8D4E3\"},\"yaxis\":{\"backgroundcolor\":\"rgb(17,17,17)\",\"gridcolor\":\"#506784\",\"gridwidth\":2,\"linecolor\":\"#506784\",\"showbackground\":true,\"ticks\":\"\",\"zerolinecolor\":\"#C8D4E3\"},\"zaxis\":{\"backgroundcolor\":\"rgb(17,17,17)\",\"gridcolor\":\"#506784\",\"gridwidth\":2,\"linecolor\":\"#506784\",\"showbackground\":true,\"ticks\":\"\",\"zerolinecolor\":\"#C8D4E3\"}},\"shapedefaults\":{\"line\":{\"color\":\"#f2f5fa\"}},\"sliderdefaults\":{\"bgcolor\":\"#C8D4E3\",\"bordercolor\":\"rgb(17,17,17)\",\"borderwidth\":1,\"tickwidth\":0},\"ternary\":{\"aaxis\":{\"gridcolor\":\"#506784\",\"linecolor\":\"#506784\",\"ticks\":\"\"},\"baxis\":{\"gridcolor\":\"#506784\",\"linecolor\":\"#506784\",\"ticks\":\"\"},\"bgcolor\":\"rgb(17,17,17)\",\"caxis\":{\"gridcolor\":\"#506784\",\"linecolor\":\"#506784\",\"ticks\":\"\"}},\"title\":{\"x\":0.05},\"updatemenudefaults\":{\"bgcolor\":\"#506784\",\"borderwidth\":0},\"xaxis\":{\"automargin\":true,\"gridcolor\":\"#283442\",\"linecolor\":\"#506784\",\"ticks\":\"\",\"title\":{\"standoff\":15},\"zerolinecolor\":\"#283442\",\"zerolinewidth\":2},\"yaxis\":{\"automargin\":true,\"gridcolor\":\"#283442\",\"linecolor\":\"#506784\",\"ticks\":\"\",\"title\":{\"standoff\":15},\"zerolinecolor\":\"#283442\",\"zerolinewidth\":2}}},\"title\":{\"text\":\"<b> Categorical Features Donut Charts <b>\",\"font\":{\"size\":50,\"family\":\"Courier New\"},\"x\":0.5},\"showlegend\":false,\"height\":5000,\"width\":5000},                        {\"responsive\": true}                    ).then(function(){\n",
       "                            \n",
       "var gd = document.getElementById('614b78ab-ba09-4467-8021-9e5166105e06');\n",
       "var x = new MutationObserver(function (mutations, observer) {{\n",
       "        var display = window.getComputedStyle(gd).display;\n",
       "        if (!display || display === 'none') {{\n",
       "            console.log([gd, 'removed!']);\n",
       "            Plotly.purge(gd);\n",
       "            observer.disconnect();\n",
       "        }}\n",
       "}});\n",
       "\n",
       "// Listen for the removal of the full notebook cells\n",
       "var notebookContainer = gd.closest('#notebook-container');\n",
       "if (notebookContainer) {{\n",
       "    x.observe(notebookContainer, {childList: true});\n",
       "}}\n",
       "\n",
       "// Listen for the clearing of the current output cell\n",
       "var outputEl = gd.closest('.output');\n",
       "if (outputEl) {{\n",
       "    x.observe(outputEl, {childList: true});\n",
       "}}\n",
       "\n",
       "                        })                };                });            </script>        </div>"
      ]
     },
     "metadata": {},
     "output_type": "display_data"
    }
   ],
   "source": [
    "Neighborhood_count = df.groupby(['Neighborhood']).size().reset_index().rename(columns={0: 'count'})\n",
    "OverallQual_count = df.groupby(['OverallQual']).size().reset_index().rename(columns={0: 'count'})\n",
    "ExterQual_count = df.groupby(['ExterQual']).size().reset_index().rename(columns={0: 'count'})\n",
    "Foundation_count = df.groupby(['Foundation']).size().reset_index().rename(columns={0: 'count'})\n",
    "BsmtQual_count = df.groupby(['BsmtQual']).size().reset_index().rename(columns={0: 'count'})\n",
    "BsmtFinType1_count = df.groupby(['BsmtFinType1']).size().reset_index().rename(columns={0: 'count'})\n",
    "HeatingQC_count = df.groupby(['HeatingQC']).size().reset_index().rename(columns={0: 'count'})\n",
    "FullBath_count = df.groupby(['FullBath']).size().reset_index().rename(columns={0: 'count'})\n",
    "KitchenQual_count = df.groupby(['KitchenQual']).size().reset_index().rename(columns={0: 'count'})\n",
    "Fireplaces_count = df.groupby(['Fireplaces']).size().reset_index().rename(columns={0: 'count'})\n",
    "GarageFinish_count = df.groupby(['GarageFinish']).size().reset_index().rename(columns={0: 'count'})\n",
    "GarageCars_count = df.groupby(['GarageCars']).size().reset_index().rename(columns={0: 'count'})\n",
    "\n",
    "\n",
    "fig = make_subplots(rows=6, cols=2,\n",
    "                    specs=[[{'type':'domain'}, {'type':'domain'}],\n",
    "                           [{'type':'domain'}, {'type':'domain'}],\n",
    "                           [{'type':'domain'}, {'type':'domain'}],\n",
    "                           [{'type':'domain'}, {'type':'domain'}],\n",
    "                           [{'type':'domain'}, {'type':'domain'}],\n",
    "                           [{'type':'domain'}, {'type':'domain'}]\n",
    "                          ])\n",
    "\n",
    "\n",
    "## Sex Donut Chart\n",
    "fig.add_trace(\n",
    "    go.Pie(\n",
    "        labels=Neighborhood_count['Neighborhood'],\n",
    "        values=Neighborhood_count['count'],\n",
    "        hole=.6,\n",
    "        title='Neighborhood',\n",
    "        titlefont={'color':None, 'size': 24},       \n",
    "        ),\n",
    "    row=1,col=1\n",
    "    )\n",
    "\n",
    "## Chest Pain Type Donut Chart\n",
    "fig.add_trace(\n",
    "    go.Pie(\n",
    "        labels=OverallQual_count['OverallQual'],\n",
    "        values=OverallQual_count['count'],\n",
    "        hole=.6,\n",
    "        title='OverallQual',\n",
    "        titlefont={'color':None, 'size': 24},\n",
    "        ),\n",
    "    row=1,col=2\n",
    "    )\n",
    "\n",
    "## Fasting Blood Sugar Donut Chart\n",
    "fig.add_trace(\n",
    "    go.Pie(\n",
    "        labels=ExterQual_count['ExterQual'],\n",
    "        values=ExterQual_count['count'],\n",
    "        hole=.6,\n",
    "        title='ExterQual',\n",
    "        titlefont={'color':None, 'size': 24},\n",
    "        ),\n",
    "    row=2,col=1\n",
    "    )\n",
    "\n",
    "\n",
    "## RestingECG Donut Chart\n",
    "fig.add_trace(\n",
    "    go.Pie(\n",
    "        labels=Foundation_count['Foundation'],\n",
    "        values=Foundation_count['count'],\n",
    "        hole=.6,\n",
    "        title='Foundation',\n",
    "        titlefont={'color':None, 'size': 24},\n",
    "        ),\n",
    "    row=2,col=2\n",
    "    )\n",
    "\n",
    "## ExerciseAngina Donut Chart\n",
    "fig.add_trace(\n",
    "    go.Pie(\n",
    "        labels=BsmtQual_count['BsmtQual'],\n",
    "        values=BsmtQual_count['count'],\n",
    "        hole=.6,\n",
    "        title='BsmtQual',\n",
    "        titlefont={'color':None, 'size': 24},\n",
    "        ),\n",
    "    row=3,col=1\n",
    "    )\n",
    "\n",
    "## ST_Slope Donut Chart\n",
    "fig.add_trace(\n",
    "    go.Pie(\n",
    "        labels=BsmtFinType1_count['BsmtFinType1'],\n",
    "        values=BsmtFinType1_count['count'],\n",
    "        hole=.6,\n",
    "        title='BsmtFinType1',\n",
    "        titlefont={'color':None, 'size': 24},\n",
    "        ),\n",
    "    row=3,col=2\n",
    "    )\n",
    "\n",
    "fig.add_trace(\n",
    "    go.Pie(\n",
    "        labels=HeatingQC_count['HeatingQC'],\n",
    "        values=HeatingQC_count['count'],\n",
    "        hole=.6,\n",
    "        title='HeatingQC',\n",
    "        titlefont={'color':None, 'size': 24},\n",
    "        ),\n",
    "    row=4,col=1\n",
    "    )\n",
    "\n",
    "fig.add_trace(\n",
    "    go.Pie(\n",
    "        labels=FullBath_count['FullBath'],\n",
    "        values=FullBath_count['count'],\n",
    "        hole=.6,\n",
    "        title='FullBath',\n",
    "        titlefont={'color':None, 'size': 24},\n",
    "        ),\n",
    "    row=4,col=2\n",
    "    )\n",
    "\n",
    "fig.add_trace(\n",
    "    go.Pie(\n",
    "        labels=KitchenQual_count['KitchenQual'],\n",
    "        values=KitchenQual_count['count'],\n",
    "        hole=.6,\n",
    "        title='KitchenQual',\n",
    "        titlefont={'color':None, 'size': 24},\n",
    "        ),\n",
    "    row=5,col=1\n",
    "    )\n",
    "\n",
    "fig.add_trace(\n",
    "    go.Pie(\n",
    "        labels=Fireplaces_count['Fireplaces'],\n",
    "        values=Fireplaces_count['count'],\n",
    "        hole=.6,\n",
    "        title='Fireplaces',\n",
    "        titlefont={'color':None, 'size': 24},\n",
    "        ),\n",
    "    row=5,col=2\n",
    "    )\n",
    "\n",
    "fig.add_trace(\n",
    "    go.Pie(\n",
    "        labels=GarageFinish_count['GarageFinish'],\n",
    "        values=GarageFinish_count['count'],\n",
    "        hole=.6,\n",
    "        title='GarageFinish',\n",
    "        titlefont={'color':None, 'size': 24},\n",
    "        ),\n",
    "    row=6,col=1\n",
    "    )\n",
    "\n",
    "fig.add_trace(\n",
    "    go.Pie(\n",
    "        labels=GarageCars_count['GarageCars'],\n",
    "        values=GarageCars_count['count'],\n",
    "        hole=.6,\n",
    "        title='GarageCars',\n",
    "        titlefont={'color':None, 'size': 24},\n",
    "        ),\n",
    "    row=6,col=2\n",
    "    )\n",
    "\n",
    "fig.update_traces(\n",
    "    hoverinfo='label+value',\n",
    "    textinfo='label+percent',\n",
    "    textfont_size=12,\n",
    "    marker=dict(\n",
    "        colors=theme_colors,\n",
    "        line=dict(color='#EEEEEE',\n",
    "                  width=2)\n",
    "        )\n",
    "    )\n",
    "\n",
    "\n",
    "fig.layout.update(title=\"<b> Categorical Features Donut Charts <b>\",\n",
    "                  titlefont={'color':None, 'size': 50, 'family': 'Courier New'},\n",
    "                  showlegend=False, \n",
    "                  height=5000, \n",
    "                  width=5000,\n",
    "#                   paper_bgcolor=\"#333333\",\n",
    "                  template='plotly_dark',\n",
    "                  title_x=0.5\n",
    "                  )\n",
    "\n",
    "\n",
    "fig.show()"
   ]
  },
  {
   "cell_type": "code",
   "execution_count": 6,
   "id": "112f6ef5",
   "metadata": {},
   "outputs": [
    {
     "data": {
      "image/png": "[encoded data removed]",
      "text/plain": [
       "<Figure size 432x288 with 1 Axes>"
      ]
     },
     "metadata": {
      "needs_background": "light"
     },
     "output_type": "display_data"
    }
   ],
   "source": [
    "MasVnrArea=df['MasVnrArea']\n",
    "MasVnrArea.hist(histtype='stepfilled', bins=30)\n",
    "plt.xlabel('MasVnrArea',fontsize=15)\n",
    "plt.ylabel('samples',fontsize=15)\n",
    "plt.show()"
   ]
  },
  {
   "cell_type": "code",
   "execution_count": 19,
   "id": "fb8a46c1",
   "metadata": {},
   "outputs": [
    {
     "data": {
      "image/png": "[encoded data removed]",
      "text/plain": [
       "<Figure size 432x288 with 1 Axes>"
      ]
     },
     "metadata": {
      "needs_background": "light"
     },
     "output_type": "display_data"
    }
   ],
   "source": [
    "YearBuilt=df['YearBuilt']\n",
    "YearBuilt.hist(histtype='stepfilled', bins=30)\n",
    "plt.xlabel('YearBuilt',fontsize=15)\n",
    "plt.ylabel('samples',fontsize=15)\n",
    "plt.show()"
   ]
  },
  {
   "cell_type": "code",
   "execution_count": 29,
   "id": "a4a4fafb",
   "metadata": {},
   "outputs": [
    {
     "data": {
      "image/png": "[encoded data removed]",
      "text/plain": [
       "<Figure size 432x288 with 1 Axes>"
      ]
     },
     "metadata": {
      "needs_background": "light"
     },
     "output_type": "display_data"
    }
   ],
   "source": [
    "YearRemodAdd=df['YearRemodAdd']\n",
    "YearRemodAdd.hist(histtype='stepfilled', bins=30)\n",
    "plt.xlabel('YearRemodAdd',fontsize=15)\n",
    "plt.ylabel('samples',fontsize=15)\n",
    "plt.show()"
   ]
  },
  {
   "cell_type": "code",
   "execution_count": 28,
   "id": "16c6af8d",
   "metadata": {},
   "outputs": [
    {
     "data": {
      "image/png": "[encoded data removed]",
      "text/plain": [
       "<Figure size 432x288 with 1 Axes>"
      ]
     },
     "metadata": {
      "needs_background": "light"
     },
     "output_type": "display_data"
    }
   ],
   "source": [
    "TotalBsmtSF=df['TotalBsmtSF']\n",
    "TotalBsmtSF.hist(histtype='stepfilled', bins=30)\n",
    "plt.xlabel('TotalBsmtSF',fontsize=15)\n",
    "plt.ylabel('samples',fontsize=15)\n",
    "plt.show()"
   ]
  },
  {
   "cell_type": "code",
   "execution_count": 27,
   "id": "18049ddb",
   "metadata": {},
   "outputs": [
    {
     "data": {
      "image/png": "[encoded data removed]",
      "text/plain": [
       "<Figure size 432x288 with 1 Axes>"
      ]
     },
     "metadata": {
      "needs_background": "light"
     },
     "output_type": "display_data"
    }
   ],
   "source": [
    "stFlrSF=df['1stFlrSF']\n",
    "stFlrSF.hist(histtype='stepfilled', bins=30)\n",
    "plt.xlabel('1stFlrSF',fontsize=15)\n",
    "plt.ylabel('samples',fontsize=15)\n",
    "plt.show()"
   ]
  },
  {
   "cell_type": "code",
   "execution_count": 25,
   "id": "28c86558",
   "metadata": {},
   "outputs": [
    {
     "data": {
      "image/png": "[encoded data removed]",
      "text/plain": [
       "<Figure size 432x288 with 1 Axes>"
      ]
     },
     "metadata": {
      "needs_background": "light"
     },
     "output_type": "display_data"
    }
   ],
   "source": [
    "GrLivArea=df['GrLivArea']\n",
    "GrLivArea.hist(histtype='stepfilled', bins=30)\n",
    "plt.xlabel('GrLivArea',fontsize=15)\n",
    "plt.ylabel('samples',fontsize=15)\n",
    "plt.show()"
   ]
  },
  {
   "cell_type": "code",
   "execution_count": 24,
   "id": "0e472c21",
   "metadata": {},
   "outputs": [
    {
     "data": {
      "image/png": "[encoded data removed]",
      "text/plain": [
       "<Figure size 432x288 with 1 Axes>"
      ]
     },
     "metadata": {
      "needs_background": "light"
     },
     "output_type": "display_data"
    }
   ],
   "source": [
    "FullBath=df['FullBath']\n",
    "FullBath.hist(histtype='stepfilled', bins=30)\n",
    "plt.xlabel('FullBath',fontsize=15)\n",
    "plt.ylabel('samples',fontsize=15)\n",
    "plt.show()"
   ]
  },
  {
   "cell_type": "code",
   "execution_count": 23,
   "id": "dfaae8a0",
   "metadata": {},
   "outputs": [
    {
     "data": {
      "image/png": "[encoded data removed]",
      "text/plain": [
       "<Figure size 432x288 with 1 Axes>"
      ]
     },
     "metadata": {
      "needs_background": "light"
     },
     "output_type": "display_data"
    }
   ],
   "source": [
    "TotRmsAbvGrd=df['TotRmsAbvGrd']\n",
    "TotRmsAbvGrd.hist(histtype='stepfilled', bins=30)\n",
    "plt.xlabel('TotRmsAbvGrd',fontsize=15)\n",
    "plt.ylabel('samples',fontsize=15)\n",
    "plt.show()"
   ]
  },
  {
   "cell_type": "code",
   "execution_count": 22,
   "id": "fb793ac7",
   "metadata": {},
   "outputs": [
    {
     "data": {
      "image/png": "[encoded data removed]",
      "text/plain": [
       "<Figure size 432x288 with 1 Axes>"
      ]
     },
     "metadata": {
      "needs_background": "light"
     },
     "output_type": "display_data"
    }
   ],
   "source": [
    "GarageCars=df['GarageCars']\n",
    "GarageCars.hist(histtype='stepfilled', bins=30)\n",
    "plt.xlabel('GarageCars',fontsize=15)\n",
    "plt.ylabel('samples',fontsize=15)\n",
    "plt.show()"
   ]
  },
  {
   "cell_type": "code",
   "execution_count": 21,
   "id": "b4d0fbc4",
   "metadata": {},
   "outputs": [
    {
     "data": {
      "image/png": "[encoded data removed]",
      "text/plain": [
       "<Figure size 432x288 with 1 Axes>"
      ]
     },
     "metadata": {
      "needs_background": "light"
     },
     "output_type": "display_data"
    }
   ],
   "source": [
    "GarageArea=df['GarageArea']\n",
    "GarageArea.hist(histtype='stepfilled', bins=30)\n",
    "plt.xlabel('GarageArea',fontsize=15)\n",
    "plt.ylabel('samples',fontsize=15)\n",
    "plt.show()"
   ]
  },
  {
   "cell_type": "code",
   "execution_count": 20,
   "id": "9b7e189d",
   "metadata": {},
   "outputs": [
    {
     "data": {
      "image/png": "[encoded data removed]",
      "text/plain": [
       "<Figure size 432x288 with 1 Axes>"
      ]
     },
     "metadata": {
      "needs_background": "light"
     },
     "output_type": "display_data"
    }
   ],
   "source": [
    "SalePrice=df['SalePrice']\n",
    "SalePrice.hist(histtype='stepfilled', bins=30)\n",
    "plt.xlabel('SalePrice',fontsize=15)\n",
    "plt.ylabel('samples',fontsize=15)\n",
    "plt.show()"
   ]
  },
  {
   "cell_type": "code",
   "execution_count": 10,
   "id": "4414249d",
   "metadata": {},
   "outputs": [
    {
     "data": {
      "text/html": [
       "<div>\n",
       "<style scoped>\n",
       "    .dataframe tbody tr th:only-of-type {\n",
       "        vertical-align: middle;\n",
       "    }\n",
       "\n",
       "    .dataframe tbody tr th {\n",
       "        vertical-align: top;\n",
       "    }\n",
       "\n",
       "    .dataframe thead th {\n",
       "        text-align: right;\n",
       "    }\n",
       "</style>\n",
       "<table border=\"1\" class=\"dataframe\">\n",
       "  <thead>\n",
       "    <tr style=\"text-align: right;\">\n",
       "      <th></th>\n",
       "      <th>OverallQual</th>\n",
       "      <th>YearBuilt</th>\n",
       "      <th>YearRemodAdd</th>\n",
       "      <th>TotalBsmtSF</th>\n",
       "      <th>1stFlrSF</th>\n",
       "      <th>GrLivArea</th>\n",
       "      <th>FullBath</th>\n",
       "      <th>TotRmsAbvGrd</th>\n",
       "      <th>GarageCars</th>\n",
       "      <th>GarageArea</th>\n",
       "      <th>SalePrice</th>\n",
       "    </tr>\n",
       "  </thead>\n",
       "  <tbody>\n",
       "    <tr>\n",
       "      <th>count</th>\n",
       "      <td>1460.000000</td>\n",
       "      <td>1460.000000</td>\n",
       "      <td>1460.000000</td>\n",
       "      <td>1460.000000</td>\n",
       "      <td>1460.000000</td>\n",
       "      <td>1460.000000</td>\n",
       "      <td>1460.000000</td>\n",
       "      <td>1460.000000</td>\n",
       "      <td>1460.000000</td>\n",
       "      <td>1460.000000</td>\n",
       "      <td>1460.000000</td>\n",
       "    </tr>\n",
       "    <tr>\n",
       "      <th>mean</th>\n",
       "      <td>6.099315</td>\n",
       "      <td>1971.267808</td>\n",
       "      <td>1984.865753</td>\n",
       "      <td>1057.429452</td>\n",
       "      <td>1162.626712</td>\n",
       "      <td>1515.463699</td>\n",
       "      <td>1.565068</td>\n",
       "      <td>6.517808</td>\n",
       "      <td>1.767123</td>\n",
       "      <td>472.980137</td>\n",
       "      <td>180921.195890</td>\n",
       "    </tr>\n",
       "    <tr>\n",
       "      <th>std</th>\n",
       "      <td>1.382997</td>\n",
       "      <td>30.202904</td>\n",
       "      <td>20.645407</td>\n",
       "      <td>438.705324</td>\n",
       "      <td>386.587738</td>\n",
       "      <td>525.480383</td>\n",
       "      <td>0.550916</td>\n",
       "      <td>1.625393</td>\n",
       "      <td>0.747315</td>\n",
       "      <td>213.804841</td>\n",
       "      <td>79442.502883</td>\n",
       "    </tr>\n",
       "    <tr>\n",
       "      <th>min</th>\n",
       "      <td>1.000000</td>\n",
       "      <td>1872.000000</td>\n",
       "      <td>1950.000000</td>\n",
       "      <td>0.000000</td>\n",
       "      <td>334.000000</td>\n",
       "      <td>334.000000</td>\n",
       "      <td>0.000000</td>\n",
       "      <td>2.000000</td>\n",
       "      <td>0.000000</td>\n",
       "      <td>0.000000</td>\n",
       "      <td>34900.000000</td>\n",
       "    </tr>\n",
       "    <tr>\n",
       "      <th>25%</th>\n",
       "      <td>5.000000</td>\n",
       "      <td>1954.000000</td>\n",
       "      <td>1967.000000</td>\n",
       "      <td>795.750000</td>\n",
       "      <td>882.000000</td>\n",
       "      <td>1129.500000</td>\n",
       "      <td>1.000000</td>\n",
       "      <td>5.000000</td>\n",
       "      <td>1.000000</td>\n",
       "      <td>334.500000</td>\n",
       "      <td>129975.000000</td>\n",
       "    </tr>\n",
       "    <tr>\n",
       "      <th>50%</th>\n",
       "      <td>6.000000</td>\n",
       "      <td>1973.000000</td>\n",
       "      <td>1994.000000</td>\n",
       "      <td>991.500000</td>\n",
       "      <td>1087.000000</td>\n",
       "      <td>1464.000000</td>\n",
       "      <td>2.000000</td>\n",
       "      <td>6.000000</td>\n",
       "      <td>2.000000</td>\n",
       "      <td>480.000000</td>\n",
       "      <td>163000.000000</td>\n",
       "    </tr>\n",
       "    <tr>\n",
       "      <th>75%</th>\n",
       "      <td>7.000000</td>\n",
       "      <td>2000.000000</td>\n",
       "      <td>2004.000000</td>\n",
       "      <td>1298.250000</td>\n",
       "      <td>1391.250000</td>\n",
       "      <td>1776.750000</td>\n",
       "      <td>2.000000</td>\n",
       "      <td>7.000000</td>\n",
       "      <td>2.000000</td>\n",
       "      <td>576.000000</td>\n",
       "      <td>214000.000000</td>\n",
       "    </tr>\n",
       "    <tr>\n",
       "      <th>max</th>\n",
       "      <td>10.000000</td>\n",
       "      <td>2010.000000</td>\n",
       "      <td>2010.000000</td>\n",
       "      <td>6110.000000</td>\n",
       "      <td>4692.000000</td>\n",
       "      <td>5642.000000</td>\n",
       "      <td>3.000000</td>\n",
       "      <td>14.000000</td>\n",
       "      <td>4.000000</td>\n",
       "      <td>1418.000000</td>\n",
       "      <td>755000.000000</td>\n",
       "    </tr>\n",
       "  </tbody>\n",
       "</table>\n",
       "</div>"
      ],
      "text/plain": [
       "       OverallQual    YearBuilt  YearRemodAdd  TotalBsmtSF     1stFlrSF  \\\n",
       "count  1460.000000  1460.000000   1460.000000  1460.000000  1460.000000   \n",
       "mean      6.099315  1971.267808   1984.865753  1057.429452  1162.626712   \n",
       "std       1.382997    30.202904     20.645407   438.705324   386.587738   \n",
       "min       1.000000  1872.000000   1950.000000     0.000000   334.000000   \n",
       "25%       5.000000  1954.000000   1967.000000   795.750000   882.000000   \n",
       "50%       6.000000  1973.000000   1994.000000   991.500000  1087.000000   \n",
       "75%       7.000000  2000.000000   2004.000000  1298.250000  1391.250000   \n",
       "max      10.000000  2010.000000   2010.000000  6110.000000  4692.000000   \n",
       "\n",
       "         GrLivArea     FullBath  TotRmsAbvGrd   GarageCars   GarageArea  \\\n",
       "count  1460.000000  1460.000000   1460.000000  1460.000000  1460.000000   \n",
       "mean   1515.463699     1.565068      6.517808     1.767123   472.980137   \n",
       "std     525.480383     0.550916      1.625393     0.747315   213.804841   \n",
       "min     334.000000     0.000000      2.000000     0.000000     0.000000   \n",
       "25%    1129.500000     1.000000      5.000000     1.000000   334.500000   \n",
       "50%    1464.000000     2.000000      6.000000     2.000000   480.000000   \n",
       "75%    1776.750000     2.000000      7.000000     2.000000   576.000000   \n",
       "max    5642.000000     3.000000     14.000000     4.000000  1418.000000   \n",
       "\n",
       "           SalePrice  \n",
       "count    1460.000000  \n",
       "mean   180921.195890  \n",
       "std     79442.502883  \n",
       "min     34900.000000  \n",
       "25%    129975.000000  \n",
       "50%    163000.000000  \n",
       "75%    214000.000000  \n",
       "max    755000.000000  "
      ]
     },
     "execution_count": 10,
     "metadata": {},
     "output_type": "execute_result"
    }
   ],
   "source": [
    "new_df=df.dropna(axis=0, how='any').copy()\n",
    "new_df.describe(include='all')"
   ]
  },
  {
   "cell_type": "code",
   "execution_count": 12,
   "id": "203bfb79",
   "metadata": {},
   "outputs": [
    {
     "name": "stdout",
     "output_type": "stream",
     "text": [
      "MSZoning ['RL' 'RM' 'C (all)' 'FV' 'RH']\n",
      "Utilities ['AllPub' 'NoSeWa']\n",
      "BldgType ['1Fam' '2fmCon' 'Duplex' 'TwnhsE' 'Twnhs']\n",
      "Heating ['GasA' 'GasW' 'Grav' 'Wall' 'OthW' 'Floor']\n",
      "KitchenQual ['Gd' 'TA' 'Ex' 'Fa']\n",
      "SaleCondition ['Normal' 'Abnorml' 'Partial' 'AdjLand' 'Alloca' 'Family']\n",
      "LandSlope ['Gtl' 'Mod' 'Sev']\n"
     ]
    }
   ],
   "source": [
    "print('MSZoning',new_df['MSZoning'].unique())\n",
    "print('Utilities',new_df['Utilities'].unique())\n",
    "print('BldgType',new_df['BldgType'].unique())\n",
    "print('Heating',new_df['Heating'].unique())\n",
    "print('KitchenQual',new_df['KitchenQual'].unique())\n",
    "print('SaleCondition',new_df['SaleCondition'].unique())\n",
    "print('LandSlope',new_df['LandSlope'].unique())"
   ]
  },
  {
   "cell_type": "code",
   "execution_count": 13,
   "id": "5fc8d93f",
   "metadata": {},
   "outputs": [
    {
     "data": {
      "text/html": [
       "<div>\n",
       "<style scoped>\n",
       "    .dataframe tbody tr th:only-of-type {\n",
       "        vertical-align: middle;\n",
       "    }\n",
       "\n",
       "    .dataframe tbody tr th {\n",
       "        vertical-align: top;\n",
       "    }\n",
       "\n",
       "    .dataframe thead th {\n",
       "        text-align: right;\n",
       "    }\n",
       "</style>\n",
       "<table border=\"1\" class=\"dataframe\">\n",
       "  <thead>\n",
       "    <tr style=\"text-align: right;\">\n",
       "      <th></th>\n",
       "      <th>OverallQual</th>\n",
       "      <th>YearBuilt</th>\n",
       "      <th>YearRemodAdd</th>\n",
       "      <th>TotalBsmtSF</th>\n",
       "      <th>1stFlrSF</th>\n",
       "      <th>GrLivArea</th>\n",
       "      <th>FullBath</th>\n",
       "      <th>TotRmsAbvGrd</th>\n",
       "      <th>GarageCars</th>\n",
       "      <th>GarageArea</th>\n",
       "      <th>SalePrice</th>\n",
       "      <th>MSZoning</th>\n",
       "      <th>Utilities</th>\n",
       "      <th>BldgType</th>\n",
       "      <th>Heating</th>\n",
       "      <th>KitchenQual</th>\n",
       "      <th>SaleCondition</th>\n",
       "      <th>LandSlope</th>\n",
       "    </tr>\n",
       "  </thead>\n",
       "  <tbody>\n",
       "    <tr>\n",
       "      <th>0</th>\n",
       "      <td>7</td>\n",
       "      <td>2003</td>\n",
       "      <td>2003</td>\n",
       "      <td>856</td>\n",
       "      <td>856</td>\n",
       "      <td>1710</td>\n",
       "      <td>2</td>\n",
       "      <td>8</td>\n",
       "      <td>2</td>\n",
       "      <td>548</td>\n",
       "      <td>208500</td>\n",
       "      <td>0</td>\n",
       "      <td>0</td>\n",
       "      <td>0</td>\n",
       "      <td>0</td>\n",
       "      <td>0</td>\n",
       "      <td>0</td>\n",
       "      <td>0</td>\n",
       "    </tr>\n",
       "    <tr>\n",
       "      <th>1</th>\n",
       "      <td>6</td>\n",
       "      <td>1976</td>\n",
       "      <td>1976</td>\n",
       "      <td>1262</td>\n",
       "      <td>1262</td>\n",
       "      <td>1262</td>\n",
       "      <td>2</td>\n",
       "      <td>6</td>\n",
       "      <td>2</td>\n",
       "      <td>460</td>\n",
       "      <td>181500</td>\n",
       "      <td>0</td>\n",
       "      <td>0</td>\n",
       "      <td>0</td>\n",
       "      <td>0</td>\n",
       "      <td>1</td>\n",
       "      <td>0</td>\n",
       "      <td>0</td>\n",
       "    </tr>\n",
       "    <tr>\n",
       "      <th>2</th>\n",
       "      <td>7</td>\n",
       "      <td>2001</td>\n",
       "      <td>2002</td>\n",
       "      <td>920</td>\n",
       "      <td>920</td>\n",
       "      <td>1786</td>\n",
       "      <td>2</td>\n",
       "      <td>6</td>\n",
       "      <td>2</td>\n",
       "      <td>608</td>\n",
       "      <td>223500</td>\n",
       "      <td>0</td>\n",
       "      <td>0</td>\n",
       "      <td>0</td>\n",
       "      <td>0</td>\n",
       "      <td>0</td>\n",
       "      <td>0</td>\n",
       "      <td>0</td>\n",
       "    </tr>\n",
       "    <tr>\n",
       "      <th>3</th>\n",
       "      <td>7</td>\n",
       "      <td>1915</td>\n",
       "      <td>1970</td>\n",
       "      <td>756</td>\n",
       "      <td>961</td>\n",
       "      <td>1717</td>\n",
       "      <td>1</td>\n",
       "      <td>7</td>\n",
       "      <td>3</td>\n",
       "      <td>642</td>\n",
       "      <td>140000</td>\n",
       "      <td>0</td>\n",
       "      <td>0</td>\n",
       "      <td>0</td>\n",
       "      <td>0</td>\n",
       "      <td>0</td>\n",
       "      <td>1</td>\n",
       "      <td>0</td>\n",
       "    </tr>\n",
       "    <tr>\n",
       "      <th>4</th>\n",
       "      <td>8</td>\n",
       "      <td>2000</td>\n",
       "      <td>2000</td>\n",
       "      <td>1145</td>\n",
       "      <td>1145</td>\n",
       "      <td>2198</td>\n",
       "      <td>2</td>\n",
       "      <td>9</td>\n",
       "      <td>3</td>\n",
       "      <td>836</td>\n",
       "      <td>250000</td>\n",
       "      <td>0</td>\n",
       "      <td>0</td>\n",
       "      <td>0</td>\n",
       "      <td>0</td>\n",
       "      <td>0</td>\n",
       "      <td>0</td>\n",
       "      <td>0</td>\n",
       "    </tr>\n",
       "  </tbody>\n",
       "</table>\n",
       "</div>"
      ],
      "text/plain": [
       "   OverallQual  YearBuilt  YearRemodAdd  TotalBsmtSF  1stFlrSF  GrLivArea  \\\n",
       "0            7       2003          2003          856       856       1710   \n",
       "1            6       1976          1976         1262      1262       1262   \n",
       "2            7       2001          2002          920       920       1786   \n",
       "3            7       1915          1970          756       961       1717   \n",
       "4            8       2000          2000         1145      1145       2198   \n",
       "\n",
       "   FullBath  TotRmsAbvGrd  GarageCars  GarageArea  SalePrice  MSZoning  \\\n",
       "0         2             8           2         548     208500         0   \n",
       "1         2             6           2         460     181500         0   \n",
       "2         2             6           2         608     223500         0   \n",
       "3         1             7           3         642     140000         0   \n",
       "4         2             9           3         836     250000         0   \n",
       "\n",
       "   Utilities  BldgType  Heating  KitchenQual  SaleCondition  LandSlope  \n",
       "0          0         0        0            0              0          0  \n",
       "1          0         0        0            1              0          0  \n",
       "2          0         0        0            0              0          0  \n",
       "3          0         0        0            0              1          0  \n",
       "4          0         0        0            0              0          0  "
      ]
     },
     "execution_count": 13,
     "metadata": {},
     "output_type": "execute_result"
    }
   ],
   "source": [
    "df_mapping=new_df.copy()\n",
    "\n",
    "map_MSZoning ={'RL':0, 'RM':1, 'C (all)':2, 'FV':3, 'RH':4}\n",
    "map_Utilities ={'AllPub':0, 'NoSeWa':1}\n",
    "map_BldgType={'1Fam':0, '2fmCon':1, 'Duplex':2, 'TwnhsE':3, 'Twnhs':4}\n",
    "map_Heating ={'GasA':0, 'GasW':1, 'Grav':2, 'Wall':3, 'OthW':4, 'Floor':5}\n",
    "map_KitchenQual  ={'Gd':0, 'TA':1, 'Ex':2, 'Fa':3}\n",
    "map_SaleCondition ={'Normal':0, 'Abnorml':1, 'Partial':2, 'AdjLand':3, 'Alloca':4, 'Family':5}\n",
    "map_LandSlope={'Gtl':0, 'Mod':1, 'Sev':2}\n",
    "\n",
    "df_mapping['MSZoning']=df_mapping['MSZoning'].map(map_MSZoning)\n",
    "df_mapping['Utilities']=df_mapping['Utilities'].map(map_Utilities)\n",
    "df_mapping['BldgType']=df_mapping['BldgType'].map(map_BldgType)\n",
    "df_mapping['Heating']=df_mapping['Heating'].map(map_Heating)\n",
    "df_mapping['KitchenQual']=df_mapping['KitchenQual'].map(map_KitchenQual)\n",
    "df_mapping['SaleCondition']=df_mapping['SaleCondition'].map(map_SaleCondition)\n",
    "df_mapping['LandSlope']=df_mapping['LandSlope'].map(map_LandSlope)\n",
    "df_mapping.head()"
   ]
  },
  {
   "cell_type": "code",
   "execution_count": 14,
   "id": "02a73a19",
   "metadata": {},
   "outputs": [
    {
     "data": {
      "text/html": [
       "<div>\n",
       "<style scoped>\n",
       "    .dataframe tbody tr th:only-of-type {\n",
       "        vertical-align: middle;\n",
       "    }\n",
       "\n",
       "    .dataframe tbody tr th {\n",
       "        vertical-align: top;\n",
       "    }\n",
       "\n",
       "    .dataframe thead th {\n",
       "        text-align: right;\n",
       "    }\n",
       "</style>\n",
       "<table border=\"1\" class=\"dataframe\">\n",
       "  <thead>\n",
       "    <tr style=\"text-align: right;\">\n",
       "      <th></th>\n",
       "      <th>OverallQual</th>\n",
       "      <th>YearBuilt</th>\n",
       "      <th>YearRemodAdd</th>\n",
       "      <th>TotalBsmtSF</th>\n",
       "      <th>1stFlrSF</th>\n",
       "      <th>GrLivArea</th>\n",
       "      <th>FullBath</th>\n",
       "      <th>TotRmsAbvGrd</th>\n",
       "      <th>GarageCars</th>\n",
       "      <th>GarageArea</th>\n",
       "      <th>...</th>\n",
       "      <th>KitchenQual_TA</th>\n",
       "      <th>SaleCondition_Abnorml</th>\n",
       "      <th>SaleCondition_AdjLand</th>\n",
       "      <th>SaleCondition_Alloca</th>\n",
       "      <th>SaleCondition_Family</th>\n",
       "      <th>SaleCondition_Normal</th>\n",
       "      <th>SaleCondition_Partial</th>\n",
       "      <th>LandSlope_Gtl</th>\n",
       "      <th>LandSlope_Mod</th>\n",
       "      <th>LandSlope_Sev</th>\n",
       "    </tr>\n",
       "  </thead>\n",
       "  <tbody>\n",
       "    <tr>\n",
       "      <th>0</th>\n",
       "      <td>7</td>\n",
       "      <td>2003</td>\n",
       "      <td>2003</td>\n",
       "      <td>856</td>\n",
       "      <td>856</td>\n",
       "      <td>1710</td>\n",
       "      <td>2</td>\n",
       "      <td>8</td>\n",
       "      <td>2</td>\n",
       "      <td>548</td>\n",
       "      <td>...</td>\n",
       "      <td>0</td>\n",
       "      <td>0</td>\n",
       "      <td>0</td>\n",
       "      <td>0</td>\n",
       "      <td>0</td>\n",
       "      <td>1</td>\n",
       "      <td>0</td>\n",
       "      <td>1</td>\n",
       "      <td>0</td>\n",
       "      <td>0</td>\n",
       "    </tr>\n",
       "    <tr>\n",
       "      <th>1</th>\n",
       "      <td>6</td>\n",
       "      <td>1976</td>\n",
       "      <td>1976</td>\n",
       "      <td>1262</td>\n",
       "      <td>1262</td>\n",
       "      <td>1262</td>\n",
       "      <td>2</td>\n",
       "      <td>6</td>\n",
       "      <td>2</td>\n",
       "      <td>460</td>\n",
       "      <td>...</td>\n",
       "      <td>1</td>\n",
       "      <td>0</td>\n",
       "      <td>0</td>\n",
       "      <td>0</td>\n",
       "      <td>0</td>\n",
       "      <td>1</td>\n",
       "      <td>0</td>\n",
       "      <td>1</td>\n",
       "      <td>0</td>\n",
       "      <td>0</td>\n",
       "    </tr>\n",
       "    <tr>\n",
       "      <th>2</th>\n",
       "      <td>7</td>\n",
       "      <td>2001</td>\n",
       "      <td>2002</td>\n",
       "      <td>920</td>\n",
       "      <td>920</td>\n",
       "      <td>1786</td>\n",
       "      <td>2</td>\n",
       "      <td>6</td>\n",
       "      <td>2</td>\n",
       "      <td>608</td>\n",
       "      <td>...</td>\n",
       "      <td>0</td>\n",
       "      <td>0</td>\n",
       "      <td>0</td>\n",
       "      <td>0</td>\n",
       "      <td>0</td>\n",
       "      <td>1</td>\n",
       "      <td>0</td>\n",
       "      <td>1</td>\n",
       "      <td>0</td>\n",
       "      <td>0</td>\n",
       "    </tr>\n",
       "    <tr>\n",
       "      <th>3</th>\n",
       "      <td>7</td>\n",
       "      <td>1915</td>\n",
       "      <td>1970</td>\n",
       "      <td>756</td>\n",
       "      <td>961</td>\n",
       "      <td>1717</td>\n",
       "      <td>1</td>\n",
       "      <td>7</td>\n",
       "      <td>3</td>\n",
       "      <td>642</td>\n",
       "      <td>...</td>\n",
       "      <td>0</td>\n",
       "      <td>1</td>\n",
       "      <td>0</td>\n",
       "      <td>0</td>\n",
       "      <td>0</td>\n",
       "      <td>0</td>\n",
       "      <td>0</td>\n",
       "      <td>1</td>\n",
       "      <td>0</td>\n",
       "      <td>0</td>\n",
       "    </tr>\n",
       "    <tr>\n",
       "      <th>4</th>\n",
       "      <td>8</td>\n",
       "      <td>2000</td>\n",
       "      <td>2000</td>\n",
       "      <td>1145</td>\n",
       "      <td>1145</td>\n",
       "      <td>2198</td>\n",
       "      <td>2</td>\n",
       "      <td>9</td>\n",
       "      <td>3</td>\n",
       "      <td>836</td>\n",
       "      <td>...</td>\n",
       "      <td>0</td>\n",
       "      <td>0</td>\n",
       "      <td>0</td>\n",
       "      <td>0</td>\n",
       "      <td>0</td>\n",
       "      <td>1</td>\n",
       "      <td>0</td>\n",
       "      <td>1</td>\n",
       "      <td>0</td>\n",
       "      <td>0</td>\n",
       "    </tr>\n",
       "    <tr>\n",
       "      <th>...</th>\n",
       "      <td>...</td>\n",
       "      <td>...</td>\n",
       "      <td>...</td>\n",
       "      <td>...</td>\n",
       "      <td>...</td>\n",
       "      <td>...</td>\n",
       "      <td>...</td>\n",
       "      <td>...</td>\n",
       "      <td>...</td>\n",
       "      <td>...</td>\n",
       "      <td>...</td>\n",
       "      <td>...</td>\n",
       "      <td>...</td>\n",
       "      <td>...</td>\n",
       "      <td>...</td>\n",
       "      <td>...</td>\n",
       "      <td>...</td>\n",
       "      <td>...</td>\n",
       "      <td>...</td>\n",
       "      <td>...</td>\n",
       "      <td>...</td>\n",
       "    </tr>\n",
       "    <tr>\n",
       "      <th>1455</th>\n",
       "      <td>6</td>\n",
       "      <td>1999</td>\n",
       "      <td>2000</td>\n",
       "      <td>953</td>\n",
       "      <td>953</td>\n",
       "      <td>1647</td>\n",
       "      <td>2</td>\n",
       "      <td>7</td>\n",
       "      <td>2</td>\n",
       "      <td>460</td>\n",
       "      <td>...</td>\n",
       "      <td>1</td>\n",
       "      <td>0</td>\n",
       "      <td>0</td>\n",
       "      <td>0</td>\n",
       "      <td>0</td>\n",
       "      <td>1</td>\n",
       "      <td>0</td>\n",
       "      <td>1</td>\n",
       "      <td>0</td>\n",
       "      <td>0</td>\n",
       "    </tr>\n",
       "    <tr>\n",
       "      <th>1456</th>\n",
       "      <td>6</td>\n",
       "      <td>1978</td>\n",
       "      <td>1988</td>\n",
       "      <td>1542</td>\n",
       "      <td>2073</td>\n",
       "      <td>2073</td>\n",
       "      <td>2</td>\n",
       "      <td>7</td>\n",
       "      <td>2</td>\n",
       "      <td>500</td>\n",
       "      <td>...</td>\n",
       "      <td>1</td>\n",
       "      <td>0</td>\n",
       "      <td>0</td>\n",
       "      <td>0</td>\n",
       "      <td>0</td>\n",
       "      <td>1</td>\n",
       "      <td>0</td>\n",
       "      <td>1</td>\n",
       "      <td>0</td>\n",
       "      <td>0</td>\n",
       "    </tr>\n",
       "    <tr>\n",
       "      <th>1457</th>\n",
       "      <td>7</td>\n",
       "      <td>1941</td>\n",
       "      <td>2006</td>\n",
       "      <td>1152</td>\n",
       "      <td>1188</td>\n",
       "      <td>2340</td>\n",
       "      <td>2</td>\n",
       "      <td>9</td>\n",
       "      <td>1</td>\n",
       "      <td>252</td>\n",
       "      <td>...</td>\n",
       "      <td>0</td>\n",
       "      <td>0</td>\n",
       "      <td>0</td>\n",
       "      <td>0</td>\n",
       "      <td>0</td>\n",
       "      <td>1</td>\n",
       "      <td>0</td>\n",
       "      <td>1</td>\n",
       "      <td>0</td>\n",
       "      <td>0</td>\n",
       "    </tr>\n",
       "    <tr>\n",
       "      <th>1458</th>\n",
       "      <td>5</td>\n",
       "      <td>1950</td>\n",
       "      <td>1996</td>\n",
       "      <td>1078</td>\n",
       "      <td>1078</td>\n",
       "      <td>1078</td>\n",
       "      <td>1</td>\n",
       "      <td>5</td>\n",
       "      <td>1</td>\n",
       "      <td>240</td>\n",
       "      <td>...</td>\n",
       "      <td>0</td>\n",
       "      <td>0</td>\n",
       "      <td>0</td>\n",
       "      <td>0</td>\n",
       "      <td>0</td>\n",
       "      <td>1</td>\n",
       "      <td>0</td>\n",
       "      <td>1</td>\n",
       "      <td>0</td>\n",
       "      <td>0</td>\n",
       "    </tr>\n",
       "    <tr>\n",
       "      <th>1459</th>\n",
       "      <td>5</td>\n",
       "      <td>1965</td>\n",
       "      <td>1965</td>\n",
       "      <td>1256</td>\n",
       "      <td>1256</td>\n",
       "      <td>1256</td>\n",
       "      <td>1</td>\n",
       "      <td>6</td>\n",
       "      <td>1</td>\n",
       "      <td>276</td>\n",
       "      <td>...</td>\n",
       "      <td>1</td>\n",
       "      <td>0</td>\n",
       "      <td>0</td>\n",
       "      <td>0</td>\n",
       "      <td>0</td>\n",
       "      <td>1</td>\n",
       "      <td>0</td>\n",
       "      <td>1</td>\n",
       "      <td>0</td>\n",
       "      <td>0</td>\n",
       "    </tr>\n",
       "  </tbody>\n",
       "</table>\n",
       "<p>1460 rows × 42 columns</p>\n",
       "</div>"
      ],
      "text/plain": [
       "      OverallQual  YearBuilt  YearRemodAdd  TotalBsmtSF  1stFlrSF  GrLivArea  \\\n",
       "0               7       2003          2003          856       856       1710   \n",
       "1               6       1976          1976         1262      1262       1262   \n",
       "2               7       2001          2002          920       920       1786   \n",
       "3               7       1915          1970          756       961       1717   \n",
       "4               8       2000          2000         1145      1145       2198   \n",
       "...           ...        ...           ...          ...       ...        ...   \n",
       "1455            6       1999          2000          953       953       1647   \n",
       "1456            6       1978          1988         1542      2073       2073   \n",
       "1457            7       1941          2006         1152      1188       2340   \n",
       "1458            5       1950          1996         1078      1078       1078   \n",
       "1459            5       1965          1965         1256      1256       1256   \n",
       "\n",
       "      FullBath  TotRmsAbvGrd  GarageCars  GarageArea  ...  KitchenQual_TA  \\\n",
       "0            2             8           2         548  ...               0   \n",
       "1            2             6           2         460  ...               1   \n",
       "2            2             6           2         608  ...               0   \n",
       "3            1             7           3         642  ...               0   \n",
       "4            2             9           3         836  ...               0   \n",
       "...        ...           ...         ...         ...  ...             ...   \n",
       "1455         2             7           2         460  ...               1   \n",
       "1456         2             7           2         500  ...               1   \n",
       "1457         2             9           1         252  ...               0   \n",
       "1458         1             5           1         240  ...               0   \n",
       "1459         1             6           1         276  ...               1   \n",
       "\n",
       "      SaleCondition_Abnorml  SaleCondition_AdjLand  SaleCondition_Alloca  \\\n",
       "0                         0                      0                     0   \n",
       "1                         0                      0                     0   \n",
       "2                         0                      0                     0   \n",
       "3                         1                      0                     0   \n",
       "4                         0                      0                     0   \n",
       "...                     ...                    ...                   ...   \n",
       "1455                      0                      0                     0   \n",
       "1456                      0                      0                     0   \n",
       "1457                      0                      0                     0   \n",
       "1458                      0                      0                     0   \n",
       "1459                      0                      0                     0   \n",
       "\n",
       "      SaleCondition_Family  SaleCondition_Normal  SaleCondition_Partial  \\\n",
       "0                        0                     1                      0   \n",
       "1                        0                     1                      0   \n",
       "2                        0                     1                      0   \n",
       "3                        0                     0                      0   \n",
       "4                        0                     1                      0   \n",
       "...                    ...                   ...                    ...   \n",
       "1455                     0                     1                      0   \n",
       "1456                     0                     1                      0   \n",
       "1457                     0                     1                      0   \n",
       "1458                     0                     1                      0   \n",
       "1459                     0                     1                      0   \n",
       "\n",
       "      LandSlope_Gtl  LandSlope_Mod  LandSlope_Sev  \n",
       "0                 1              0              0  \n",
       "1                 1              0              0  \n",
       "2                 1              0              0  \n",
       "3                 1              0              0  \n",
       "4                 1              0              0  \n",
       "...             ...            ...            ...  \n",
       "1455              1              0              0  \n",
       "1456              1              0              0  \n",
       "1457              1              0              0  \n",
       "1458              1              0              0  \n",
       "1459              1              0              0  \n",
       "\n",
       "[1460 rows x 42 columns]"
      ]
     },
     "execution_count": 14,
     "metadata": {},
     "output_type": "execute_result"
    }
   ],
   "source": [
    "dummied_new_df=pd.get_dummies(new_df, columns=['MSZoning', 'Utilities', 'BldgType',\n",
    "                                               'Heating', 'KitchenQual', 'SaleCondition', 'LandSlope'])\n",
    "dummied_new_df"
   ]
  },
  {
   "cell_type": "code",
   "execution_count": 11,
   "id": "9550480a",
   "metadata": {},
   "outputs": [],
   "source": [
    "#x = dummied_new_df.drop(['SalePrice'],axis=1).copy()\n",
    "#y = dummied_new_df['SalePrice'].copy()\n",
    "x = df.drop(['SalePrice'],axis=1).copy()\n",
    "y = df['SalePrice'].copy()"
   ]
  },
  {
   "cell_type": "code",
   "execution_count": 12,
   "id": "21e53a70",
   "metadata": {},
   "outputs": [],
   "source": [
    "x_train, x_test, y_train, y_test = train_test_split(x, y, test_size = 0.2, random_state = 0)"
   ]
  },
  {
   "cell_type": "code",
   "execution_count": 13,
   "id": "3cc42233",
   "metadata": {},
   "outputs": [],
   "source": [
    "x_train1 = np.array(x[0:365])\n",
    "y_train1 = np.array(y[0:365])\n",
    "x_validation1 = np.array(x[365:730])\n",
    "y_validation1 = np.array(y[365:730])\n",
    "\n",
    "x_train2 = np.array(x[0:730])\n",
    "y_train2 = np.array(y[0:730])\n",
    "x_validation2 = np.array(x[730:1095])\n",
    "y_validation2 = np.array(y[730:1095])\n",
    "\n",
    "x_train3 = np.array(x[0:1095])\n",
    "y_train3 = np.array(y[0:1095])\n",
    "x_validation3 = np.array(x[1095:1460])\n",
    "y_validation3 = np.array(y[1095:1460])"
   ]
  },
  {
   "cell_type": "code",
   "execution_count": 14,
   "id": "e87839f4",
   "metadata": {},
   "outputs": [
    {
     "name": "stdout",
     "output_type": "stream",
     "text": [
      "MSE:\n",
      "mse_2_5: 7734489538.01\n",
      "mse_2_20: 7734489538.01\n",
      "mse_2_100: 7734489538.01\n",
      "mse_6_5: 7734489532.25\n",
      "mse_6_20: 7734489532.25\n",
      "mse_6_100: 7734489532.25\n",
      "mse_8_5: 7017646121.73\n",
      "mse_8_20: 7017646121.73\n",
      "mse_8_100: 7017646121.73\n"
     ]
    }
   ],
   "source": [
    "a = [2e-10,2e-6,2**8]\n",
    "b = [2e-15,2e-10,2e-1]\n",
    "\n",
    "mse_1_1 = 0\n",
    "mse_1_2 = 0\n",
    "mse_1_3 = 0\n",
    "mse_2_1 = 0\n",
    "mse_2_2 = 0\n",
    "mse_2_3 = 0\n",
    "mse_3_1 = 0\n",
    "mse_3_2 = 0\n",
    "mse_3_3 = 0\n",
    "\n",
    "for i in a:\n",
    "    for j in b:\n",
    "        model=SVR(kernel='rbf', C=i, epsilon=j)\n",
    "        model.fit(x_train1,y_train1)\n",
    "            \n",
    "        train_pred=model.predict(x_validation1)\n",
    "        mse=mean_squared_error(y_validation1,train_pred,squared=True)\n",
    "            \n",
    "        if i==2e-10 and j==2e-15:\n",
    "            mse_1_1 += mse\n",
    "        if i==2e-10 and j==2e-10:\n",
    "            mse_1_2 += mse\n",
    "        if i==2e-10 and j==2e-1:\n",
    "            mse_1_3 += mse\n",
    "        if i==2e-6 and j==2e-15:\n",
    "            mse_2_1 += mse\n",
    "        if i==2e-6 and j==2e-10:\n",
    "            mse_2_2 += mse\n",
    "        if i==2e-6 and j==2e-1:\n",
    "            mse_2_3 += mse\n",
    "        if i==2**8 and j==2e-15:\n",
    "            mse_3_1 += mse\n",
    "        if i==2**8 and j==2e-10:\n",
    "            mse_3_2 += mse\n",
    "        if i==2**8 and j==2e-1:\n",
    "            mse_3_3 += mse\n",
    "                \n",
    "print('MSE:')\n",
    "print('mse_2_5:',round((mse_1_1),2))\n",
    "print('mse_2_20:',round((mse_1_2),2))\n",
    "print('mse_2_100:',round((mse_1_3),2))\n",
    "print('mse_6_5:',round((mse_2_1),2))\n",
    "print('mse_6_20:',round((mse_2_2),2))\n",
    "print('mse_6_100:',round((mse_2_3),2))\n",
    "print('mse_8_5:',round((mse_3_1),2))\n",
    "print('mse_8_20:',round((mse_3_2),2))\n",
    "print('mse_8_100:',round((mse_3_3),2))"
   ]
  },
  {
   "cell_type": "code",
   "execution_count": 15,
   "id": "15167500",
   "metadata": {},
   "outputs": [
    {
     "name": "stdout",
     "output_type": "stream",
     "text": [
      "MSE:\n",
      "mse_2_5: 5844703700.13\n",
      "mse_2_20: 5844703700.13\n",
      "mse_2_100: 5844703700.13\n",
      "mse_6_5: 5844703688.92\n",
      "mse_6_20: 5844703688.92\n",
      "mse_6_100: 5844703688.92\n",
      "mse_8_5: 4791568988.18\n",
      "mse_8_20: 4791568988.18\n",
      "mse_8_100: 4791557860.48\n"
     ]
    }
   ],
   "source": [
    "a = [2e-10,2e-6,2**8]\n",
    "b = [2e-15,2e-10,2e-1]\n",
    "\n",
    "mse_1_1 = 0\n",
    "mse_1_2 = 0\n",
    "mse_1_3 = 0\n",
    "mse_2_1 = 0\n",
    "mse_2_2 = 0\n",
    "mse_2_3 = 0\n",
    "mse_3_1 = 0\n",
    "mse_3_2 = 0\n",
    "mse_3_3 = 0\n",
    "\n",
    "for i in a:\n",
    "    for j in b:\n",
    "        model=SVR(kernel='rbf', C=i, epsilon=j)\n",
    "        model.fit(x_train2,y_train2)\n",
    "            \n",
    "        train_pred=model.predict(x_validation2)\n",
    "        mse=mean_squared_error(y_validation2,train_pred,squared=True)\n",
    "            \n",
    "        if i==2e-10 and j==2e-15:\n",
    "            mse_1_1 += mse\n",
    "        if i==2e-10 and j==2e-10:\n",
    "            mse_1_2 += mse\n",
    "        if i==2e-10 and j==2e-1:\n",
    "            mse_1_3 += mse\n",
    "        if i==2e-6 and j==2e-15:\n",
    "            mse_2_1 += mse\n",
    "        if i==2e-6 and j==2e-10:\n",
    "            mse_2_2 += mse\n",
    "        if i==2e-6 and j==2e-1:\n",
    "            mse_2_3 += mse\n",
    "        if i==2**8 and j==2e-15:\n",
    "            mse_3_1 += mse\n",
    "        if i==2**8 and j==2e-10:\n",
    "            mse_3_2 += mse\n",
    "        if i==2**8 and j==2e-1:\n",
    "            mse_3_3 += mse\n",
    "                \n",
    "print('MSE:')\n",
    "print('mse_2_5:',round((mse_1_1),2))\n",
    "print('mse_2_20:',round((mse_1_2),2))\n",
    "print('mse_2_100:',round((mse_1_3),2))\n",
    "print('mse_6_5:',round((mse_2_1),2))\n",
    "print('mse_6_20:',round((mse_2_2),2))\n",
    "print('mse_6_100:',round((mse_2_3),2))\n",
    "print('mse_8_5:',round((mse_3_1),2))\n",
    "print('mse_8_20:',round((mse_3_2),2))\n",
    "print('mse_8_100:',round((mse_3_3),2))"
   ]
  },
  {
   "cell_type": "code",
   "execution_count": 16,
   "id": "89edd6c0",
   "metadata": {},
   "outputs": [
    {
     "name": "stdout",
     "output_type": "stream",
     "text": [
      "MSE:\n",
      "mse_2_5: 6444787741.44\n",
      "mse_2_20: 6444787741.44\n",
      "mse_2_100: 6444781133.33\n",
      "mse_6_5: 6444787727.36\n",
      "mse_6_20: 6444787727.36\n",
      "mse_6_100: 6444781119.86\n",
      "mse_8_5: 4939116920.74\n",
      "mse_8_20: 4939116920.74\n",
      "mse_8_100: 4939122448.31\n"
     ]
    }
   ],
   "source": [
    "a = [2e-10,2e-6,2**8]\n",
    "b = [2e-15,2e-10,2e-1]\n",
    "\n",
    "mse_1_1 = 0\n",
    "mse_1_2 = 0\n",
    "mse_1_3 = 0\n",
    "mse_2_1 = 0\n",
    "mse_2_2 = 0\n",
    "mse_2_3 = 0\n",
    "mse_3_1 = 0\n",
    "mse_3_2 = 0\n",
    "mse_3_3 = 0\n",
    "\n",
    "for i in a:\n",
    "    for j in b:\n",
    "        model=SVR(kernel='rbf', C=i, epsilon=j)\n",
    "        model.fit(x_train3,y_train3)\n",
    "            \n",
    "        train_pred=model.predict(x_validation3)\n",
    "        mse=mean_squared_error(y_validation3,train_pred,squared=True)\n",
    "            \n",
    "        if i==2e-10 and j==2e-15:\n",
    "            mse_1_1 += mse\n",
    "        if i==2e-10 and j==2e-10:\n",
    "            mse_1_2 += mse\n",
    "        if i==2e-10 and j==2e-1:\n",
    "            mse_1_3 += mse\n",
    "        if i==2e-6 and j==2e-15:\n",
    "            mse_2_1 += mse\n",
    "        if i==2e-6 and j==2e-10:\n",
    "            mse_2_2 += mse\n",
    "        if i==2e-6 and j==2e-1:\n",
    "            mse_2_3 += mse\n",
    "        if i==2**8 and j==2e-15:\n",
    "            mse_3_1 += mse\n",
    "        if i==2**8 and j==2e-10:\n",
    "            mse_3_2 += mse\n",
    "        if i==2**8 and j==2e-1:\n",
    "            mse_3_3 += mse\n",
    "                \n",
    "print('MSE:')\n",
    "print('mse_2_5:',round((mse_1_1),2))\n",
    "print('mse_2_20:',round((mse_1_2),2))\n",
    "print('mse_2_100:',round((mse_1_3),2))\n",
    "print('mse_6_5:',round((mse_2_1),2))\n",
    "print('mse_6_20:',round((mse_2_2),2))\n",
    "print('mse_6_100:',round((mse_2_3),2))\n",
    "print('mse_8_5:',round((mse_3_1),2))\n",
    "print('mse_8_20:',round((mse_3_2),2))\n",
    "print('mse_8_100:',round((mse_3_3),2))"
   ]
  },
  {
   "cell_type": "code",
   "execution_count": 21,
   "id": "4e982c9f",
   "metadata": {},
   "outputs": [
    {
     "name": "stdout",
     "output_type": "stream",
     "text": [
      "mse_2_5: 6674660326.53 +/- 788438829.71\n",
      "mse_2_20: 6674660326.53 +/- 788438829.71\n",
      "mse_2_100: 6674658123.82 +/- 788439471.92\n",
      "mse_6_5: 6674660319.51 +/- 788438831.51\n",
      "mse_6_20: 6674660319.51 +/- 788438831.51\n",
      "mse_6_100: 6674658116.94 +/- 788439473.69\n",
      "mse_8_5: 5907097009.98 +/- 961163861.99\n",
      "mse_8_20: 5907097009.98 +/- 961163861.99\n",
      "mse_8_100: 5907097009.98 +/- 961163861.99\n"
     ]
    }
   ],
   "source": [
    "mse_2_5 = [7734489538.01, 5844703700.13, 6444787741.44]\n",
    "mse_2_20 = [7734489538.01, 5844703700.13, 6444787741.44]\n",
    "mse_2_100 = [7734489538.01, 5844703700.13, 6444781133.33]\n",
    "mse_6_5 = [7734489534.1, 5844703692.69, 6444787731.74]\n",
    "mse_6_20 = [7734489534.1, 5844703692.69, 6444787731.74]\n",
    "mse_6_100 = [7734489534.1, 5844703692.69, 6444781124.02]\n",
    "mse_8_5 = [7259827223.44, 5115212720.43, 5346251086.07]\n",
    "mse_8_20 = [7259827223.44, 5115212720.43, 5346251086.07]\n",
    "mse_8_100 = [7259827223.44, 5115212720.43, 5346251086.07]\n",
    "\n",
    "print('mse_2_5:',round(np.mean(mse_2_5),2),'+/-',round(np.std(mse_2_5),2))\n",
    "print('mse_2_20:',round(np.mean(mse_2_20),2),'+/-',round(np.std(mse_2_20),2))\n",
    "print('mse_2_100:',round(np.mean(mse_2_100),2),'+/-',round(np.std(mse_2_100),2))\n",
    "print('mse_6_5:',round(np.mean(mse_6_5),2),'+/-',round(np.std(mse_6_5),2))\n",
    "print('mse_6_20:',round(np.mean(mse_6_20),2),'+/-',round(np.std(mse_6_20),2))\n",
    "print('mse_6_100:',round(np.mean(mse_6_100),2),'+/-',round(np.std(mse_6_100),2))\n",
    "print('mse_8_5:',round(np.mean(mse_8_5),2),'+/-',round(np.std(mse_8_5),2))\n",
    "print('mse_8_20:',round(np.mean(mse_8_20),2),'+/-',round(np.std(mse_8_20),2))\n",
    "print('mse_8_100:',round(np.mean(mse_8_100),2),'+/-',round(np.std(mse_8_100),2))"
   ]
  },
  {
   "cell_type": "code",
   "execution_count": 24,
   "id": "3a4003c6",
   "metadata": {},
   "outputs": [
    {
     "name": "stdout",
     "output_type": "stream",
     "text": [
      "train_mse :  3018334912.7323\n",
      "train_rmse:  54939.3749\n",
      "train_mape:  0.221\n",
      "train_smape:  20.4699\n",
      "train_mase:  0.4647\n",
      "train_mdrae:  0.7737\n",
      "\n",
      "test_mse :  7672717961.8574\n",
      "test_rmse:  87594.0521\n",
      "test_mape:  0.2348\n",
      "test_smape:  20.2071\n",
      "test_mase:  0.5155\n",
      "test_mdrae:  0.7592\n"
     ]
    }
   ],
   "source": [
    "x_train, x_test, y_train, y_test = train_test_split(x, y, test_size = 0.2, random_state = 0, shuffle=False)\n",
    "model=SVR(kernel='poly', C=2**8, epsilon=2e-10)\n",
    "model.fit(x_train,y_train)\n",
    "mdrae = MedianRelativeAbsoluteError()\n",
    "\n",
    "train_pred = model.predict(x_train)\n",
    "y_pred_benchmark = train_pred*1.1\n",
    "train_mse = mean_squared_error(y_train,train_pred,squared=True)\n",
    "train_rmse = mean_squared_error(y_train,train_pred, squared=False)\n",
    "train_mape = mean_absolute_percentage_error(y_train,train_pred)\n",
    "train_smape = 2*np.mean(np.abs(train_pred-y_train)/(np.abs(train_pred)+np.abs(y_train)))*100\n",
    "train_mase = mean_absolute_scaled_error(y_train, train_pred, y_train=y_train)\n",
    "train_mdrae = mdrae(y_train, train_pred, y_pred_benchmark=y_pred_benchmark)\n",
    "\n",
    "test_pred = model.predict(x_test)\n",
    "y_pred_benchmark = test_pred*1.1\n",
    "test_mse = mean_squared_error(y_test,test_pred,squared=True)\n",
    "test_rmse = mean_squared_error(y_test,test_pred, squared=False)\n",
    "test_mape = mean_absolute_percentage_error(y_test,test_pred)\n",
    "test_smape = 2*np.mean(np.abs(test_pred-y_test)/(np.abs(test_pred)+np.abs(y_test)))*100\n",
    "test_mase = mean_absolute_scaled_error(y_test, test_pred, y_train=y_test)\n",
    "test_mdrae = mdrae(y_test, test_pred, y_pred_benchmark=y_pred_benchmark)\n",
    "\n",
    "print('train_mse : ', np.round(train_mse,4))\n",
    "print('train_rmse: ', np.round(train_rmse,4))\n",
    "print('train_mape: ', np.round(train_mape,4))\n",
    "print('train_smape: ', np.round(train_smape,4))\n",
    "print('train_mase: ', np.round(train_mase,4))\n",
    "print('train_mdrae: ', np.round(train_mdrae,4))\n",
    "print('')\n",
    "print('test_mse : ', np.round(test_mse,4))\n",
    "print('test_rmse: ', np.round(test_rmse,4))\n",
    "print('test_mape: ', np.round(test_mape,4))\n",
    "print('test_smape: ', np.round(test_smape,4))\n",
    "print('test_mase: ', np.round(test_mase,4))\n",
    "print('test_mdrae: ', np.round(test_mdrae,4))"
   ]
  },
  {
   "cell_type": "code",
   "execution_count": 36,
   "id": "de23a9fa",
   "metadata": {},
   "outputs": [
    {
     "data": {
      "text/html": [
       "<div>\n",
       "<style scoped>\n",
       "    .dataframe tbody tr th:only-of-type {\n",
       "        vertical-align: middle;\n",
       "    }\n",
       "\n",
       "    .dataframe tbody tr th {\n",
       "        vertical-align: top;\n",
       "    }\n",
       "\n",
       "    .dataframe thead th {\n",
       "        text-align: right;\n",
       "    }\n",
       "</style>\n",
       "<table border=\"1\" class=\"dataframe\">\n",
       "  <thead>\n",
       "    <tr style=\"text-align: right;\">\n",
       "      <th></th>\n",
       "      <th>OverallQual</th>\n",
       "      <th>YearBuilt</th>\n",
       "      <th>YearRemodAdd</th>\n",
       "      <th>TotalBsmtSF</th>\n",
       "      <th>1stFlrSF</th>\n",
       "      <th>GrLivArea</th>\n",
       "      <th>FullBath</th>\n",
       "      <th>TotRmsAbvGrd</th>\n",
       "      <th>GarageCars</th>\n",
       "      <th>GarageArea</th>\n",
       "      <th>...</th>\n",
       "      <th>KitchenQual_TA</th>\n",
       "      <th>SaleCondition_Abnorml</th>\n",
       "      <th>SaleCondition_AdjLand</th>\n",
       "      <th>SaleCondition_Alloca</th>\n",
       "      <th>SaleCondition_Family</th>\n",
       "      <th>SaleCondition_Normal</th>\n",
       "      <th>SaleCondition_Partial</th>\n",
       "      <th>LandSlope_Gtl</th>\n",
       "      <th>LandSlope_Mod</th>\n",
       "      <th>LandSlope_Sev</th>\n",
       "    </tr>\n",
       "  </thead>\n",
       "  <tbody>\n",
       "    <tr>\n",
       "      <th>0</th>\n",
       "      <td>7</td>\n",
       "      <td>2003</td>\n",
       "      <td>2003</td>\n",
       "      <td>856</td>\n",
       "      <td>856</td>\n",
       "      <td>1710</td>\n",
       "      <td>2</td>\n",
       "      <td>8</td>\n",
       "      <td>2</td>\n",
       "      <td>548</td>\n",
       "      <td>...</td>\n",
       "      <td>0</td>\n",
       "      <td>0</td>\n",
       "      <td>0</td>\n",
       "      <td>0</td>\n",
       "      <td>0</td>\n",
       "      <td>1</td>\n",
       "      <td>0</td>\n",
       "      <td>1</td>\n",
       "      <td>0</td>\n",
       "      <td>0</td>\n",
       "    </tr>\n",
       "    <tr>\n",
       "      <th>1</th>\n",
       "      <td>6</td>\n",
       "      <td>1976</td>\n",
       "      <td>1976</td>\n",
       "      <td>1262</td>\n",
       "      <td>1262</td>\n",
       "      <td>1262</td>\n",
       "      <td>2</td>\n",
       "      <td>6</td>\n",
       "      <td>2</td>\n",
       "      <td>460</td>\n",
       "      <td>...</td>\n",
       "      <td>1</td>\n",
       "      <td>0</td>\n",
       "      <td>0</td>\n",
       "      <td>0</td>\n",
       "      <td>0</td>\n",
       "      <td>1</td>\n",
       "      <td>0</td>\n",
       "      <td>1</td>\n",
       "      <td>0</td>\n",
       "      <td>0</td>\n",
       "    </tr>\n",
       "    <tr>\n",
       "      <th>2</th>\n",
       "      <td>7</td>\n",
       "      <td>2001</td>\n",
       "      <td>2002</td>\n",
       "      <td>920</td>\n",
       "      <td>920</td>\n",
       "      <td>1786</td>\n",
       "      <td>2</td>\n",
       "      <td>6</td>\n",
       "      <td>2</td>\n",
       "      <td>608</td>\n",
       "      <td>...</td>\n",
       "      <td>0</td>\n",
       "      <td>0</td>\n",
       "      <td>0</td>\n",
       "      <td>0</td>\n",
       "      <td>0</td>\n",
       "      <td>1</td>\n",
       "      <td>0</td>\n",
       "      <td>1</td>\n",
       "      <td>0</td>\n",
       "      <td>0</td>\n",
       "    </tr>\n",
       "    <tr>\n",
       "      <th>3</th>\n",
       "      <td>7</td>\n",
       "      <td>1915</td>\n",
       "      <td>1970</td>\n",
       "      <td>756</td>\n",
       "      <td>961</td>\n",
       "      <td>1717</td>\n",
       "      <td>1</td>\n",
       "      <td>7</td>\n",
       "      <td>3</td>\n",
       "      <td>642</td>\n",
       "      <td>...</td>\n",
       "      <td>0</td>\n",
       "      <td>1</td>\n",
       "      <td>0</td>\n",
       "      <td>0</td>\n",
       "      <td>0</td>\n",
       "      <td>0</td>\n",
       "      <td>0</td>\n",
       "      <td>1</td>\n",
       "      <td>0</td>\n",
       "      <td>0</td>\n",
       "    </tr>\n",
       "    <tr>\n",
       "      <th>4</th>\n",
       "      <td>8</td>\n",
       "      <td>2000</td>\n",
       "      <td>2000</td>\n",
       "      <td>1145</td>\n",
       "      <td>1145</td>\n",
       "      <td>2198</td>\n",
       "      <td>2</td>\n",
       "      <td>9</td>\n",
       "      <td>3</td>\n",
       "      <td>836</td>\n",
       "      <td>...</td>\n",
       "      <td>0</td>\n",
       "      <td>0</td>\n",
       "      <td>0</td>\n",
       "      <td>0</td>\n",
       "      <td>0</td>\n",
       "      <td>1</td>\n",
       "      <td>0</td>\n",
       "      <td>1</td>\n",
       "      <td>0</td>\n",
       "      <td>0</td>\n",
       "    </tr>\n",
       "    <tr>\n",
       "      <th>...</th>\n",
       "      <td>...</td>\n",
       "      <td>...</td>\n",
       "      <td>...</td>\n",
       "      <td>...</td>\n",
       "      <td>...</td>\n",
       "      <td>...</td>\n",
       "      <td>...</td>\n",
       "      <td>...</td>\n",
       "      <td>...</td>\n",
       "      <td>...</td>\n",
       "      <td>...</td>\n",
       "      <td>...</td>\n",
       "      <td>...</td>\n",
       "      <td>...</td>\n",
       "      <td>...</td>\n",
       "      <td>...</td>\n",
       "      <td>...</td>\n",
       "      <td>...</td>\n",
       "      <td>...</td>\n",
       "      <td>...</td>\n",
       "      <td>...</td>\n",
       "    </tr>\n",
       "    <tr>\n",
       "      <th>1163</th>\n",
       "      <td>4</td>\n",
       "      <td>1969</td>\n",
       "      <td>1969</td>\n",
       "      <td>1198</td>\n",
       "      <td>1258</td>\n",
       "      <td>1258</td>\n",
       "      <td>0</td>\n",
       "      <td>6</td>\n",
       "      <td>2</td>\n",
       "      <td>400</td>\n",
       "      <td>...</td>\n",
       "      <td>1</td>\n",
       "      <td>0</td>\n",
       "      <td>0</td>\n",
       "      <td>1</td>\n",
       "      <td>0</td>\n",
       "      <td>0</td>\n",
       "      <td>0</td>\n",
       "      <td>1</td>\n",
       "      <td>0</td>\n",
       "      <td>0</td>\n",
       "    </tr>\n",
       "    <tr>\n",
       "      <th>1164</th>\n",
       "      <td>5</td>\n",
       "      <td>1978</td>\n",
       "      <td>1978</td>\n",
       "      <td>1360</td>\n",
       "      <td>1432</td>\n",
       "      <td>1432</td>\n",
       "      <td>1</td>\n",
       "      <td>5</td>\n",
       "      <td>2</td>\n",
       "      <td>588</td>\n",
       "      <td>...</td>\n",
       "      <td>0</td>\n",
       "      <td>0</td>\n",
       "      <td>0</td>\n",
       "      <td>0</td>\n",
       "      <td>0</td>\n",
       "      <td>1</td>\n",
       "      <td>0</td>\n",
       "      <td>1</td>\n",
       "      <td>0</td>\n",
       "      <td>0</td>\n",
       "    </tr>\n",
       "    <tr>\n",
       "      <th>1165</th>\n",
       "      <td>7</td>\n",
       "      <td>2009</td>\n",
       "      <td>2009</td>\n",
       "      <td>1502</td>\n",
       "      <td>1502</td>\n",
       "      <td>1502</td>\n",
       "      <td>2</td>\n",
       "      <td>7</td>\n",
       "      <td>2</td>\n",
       "      <td>644</td>\n",
       "      <td>...</td>\n",
       "      <td>0</td>\n",
       "      <td>0</td>\n",
       "      <td>0</td>\n",
       "      <td>0</td>\n",
       "      <td>0</td>\n",
       "      <td>0</td>\n",
       "      <td>1</td>\n",
       "      <td>1</td>\n",
       "      <td>0</td>\n",
       "      <td>0</td>\n",
       "    </tr>\n",
       "    <tr>\n",
       "      <th>1166</th>\n",
       "      <td>8</td>\n",
       "      <td>2008</td>\n",
       "      <td>2008</td>\n",
       "      <td>1694</td>\n",
       "      <td>1694</td>\n",
       "      <td>1694</td>\n",
       "      <td>2</td>\n",
       "      <td>7</td>\n",
       "      <td>3</td>\n",
       "      <td>776</td>\n",
       "      <td>...</td>\n",
       "      <td>0</td>\n",
       "      <td>0</td>\n",
       "      <td>0</td>\n",
       "      <td>0</td>\n",
       "      <td>0</td>\n",
       "      <td>1</td>\n",
       "      <td>0</td>\n",
       "      <td>1</td>\n",
       "      <td>0</td>\n",
       "      <td>0</td>\n",
       "    </tr>\n",
       "    <tr>\n",
       "      <th>1167</th>\n",
       "      <td>6</td>\n",
       "      <td>2000</td>\n",
       "      <td>2000</td>\n",
       "      <td>959</td>\n",
       "      <td>959</td>\n",
       "      <td>1671</td>\n",
       "      <td>2</td>\n",
       "      <td>7</td>\n",
       "      <td>2</td>\n",
       "      <td>472</td>\n",
       "      <td>...</td>\n",
       "      <td>1</td>\n",
       "      <td>0</td>\n",
       "      <td>0</td>\n",
       "      <td>0</td>\n",
       "      <td>0</td>\n",
       "      <td>1</td>\n",
       "      <td>0</td>\n",
       "      <td>1</td>\n",
       "      <td>0</td>\n",
       "      <td>0</td>\n",
       "    </tr>\n",
       "  </tbody>\n",
       "</table>\n",
       "<p>1168 rows × 41 columns</p>\n",
       "</div>"
      ],
      "text/plain": [
       "      OverallQual  YearBuilt  YearRemodAdd  TotalBsmtSF  1stFlrSF  GrLivArea  \\\n",
       "0               7       2003          2003          856       856       1710   \n",
       "1               6       1976          1976         1262      1262       1262   \n",
       "2               7       2001          2002          920       920       1786   \n",
       "3               7       1915          1970          756       961       1717   \n",
       "4               8       2000          2000         1145      1145       2198   \n",
       "...           ...        ...           ...          ...       ...        ...   \n",
       "1163            4       1969          1969         1198      1258       1258   \n",
       "1164            5       1978          1978         1360      1432       1432   \n",
       "1165            7       2009          2009         1502      1502       1502   \n",
       "1166            8       2008          2008         1694      1694       1694   \n",
       "1167            6       2000          2000          959       959       1671   \n",
       "\n",
       "      FullBath  TotRmsAbvGrd  GarageCars  GarageArea  ...  KitchenQual_TA  \\\n",
       "0            2             8           2         548  ...               0   \n",
       "1            2             6           2         460  ...               1   \n",
       "2            2             6           2         608  ...               0   \n",
       "3            1             7           3         642  ...               0   \n",
       "4            2             9           3         836  ...               0   \n",
       "...        ...           ...         ...         ...  ...             ...   \n",
       "1163         0             6           2         400  ...               1   \n",
       "1164         1             5           2         588  ...               0   \n",
       "1165         2             7           2         644  ...               0   \n",
       "1166         2             7           3         776  ...               0   \n",
       "1167         2             7           2         472  ...               1   \n",
       "\n",
       "      SaleCondition_Abnorml  SaleCondition_AdjLand  SaleCondition_Alloca  \\\n",
       "0                         0                      0                     0   \n",
       "1                         0                      0                     0   \n",
       "2                         0                      0                     0   \n",
       "3                         1                      0                     0   \n",
       "4                         0                      0                     0   \n",
       "...                     ...                    ...                   ...   \n",
       "1163                      0                      0                     1   \n",
       "1164                      0                      0                     0   \n",
       "1165                      0                      0                     0   \n",
       "1166                      0                      0                     0   \n",
       "1167                      0                      0                     0   \n",
       "\n",
       "      SaleCondition_Family  SaleCondition_Normal  SaleCondition_Partial  \\\n",
       "0                        0                     1                      0   \n",
       "1                        0                     1                      0   \n",
       "2                        0                     1                      0   \n",
       "3                        0                     0                      0   \n",
       "4                        0                     1                      0   \n",
       "...                    ...                   ...                    ...   \n",
       "1163                     0                     0                      0   \n",
       "1164                     0                     1                      0   \n",
       "1165                     0                     0                      1   \n",
       "1166                     0                     1                      0   \n",
       "1167                     0                     1                      0   \n",
       "\n",
       "      LandSlope_Gtl  LandSlope_Mod  LandSlope_Sev  \n",
       "0                 1              0              0  \n",
       "1                 1              0              0  \n",
       "2                 1              0              0  \n",
       "3                 1              0              0  \n",
       "4                 1              0              0  \n",
       "...             ...            ...            ...  \n",
       "1163              1              0              0  \n",
       "1164              1              0              0  \n",
       "1165              1              0              0  \n",
       "1166              1              0              0  \n",
       "1167              1              0              0  \n",
       "\n",
       "[1168 rows x 41 columns]"
      ]
     },
     "execution_count": 36,
     "metadata": {},
     "output_type": "execute_result"
    }
   ],
   "source": [
    "x_train"
   ]
  },
  {
   "cell_type": "code",
   "execution_count": 50,
   "id": "2859eb85",
   "metadata": {},
   "outputs": [
    {
     "name": "stdout",
     "output_type": "stream",
     "text": [
      "MSE:\n",
      "mse_2_5: 3016300457.67\n",
      "mse_2_20: 3016300457.67\n",
      "mse_2_100: 3016300457.67\n",
      "mse_6_5: 2738579359.17\n",
      "mse_6_20: 2005081038.67\n",
      "mse_6_100: 2047889218.4\n",
      "mse_8_5: 2738579359.17\n",
      "mse_8_20: 2005081038.67\n",
      "mse_8_100: 2154521074.0\n"
     ]
    }
   ],
   "source": [
    "#第一次\n",
    "a = [2,6,8]\n",
    "b = [5,20,100]\n",
    "\n",
    "mse_2_5 = 0\n",
    "mse_2_20 = 0\n",
    "mse_2_100 = 0\n",
    "mse_6_5 = 0\n",
    "mse_6_20 = 0\n",
    "mse_6_100 = 0\n",
    "mse_8_5 = 0\n",
    "mse_8_20 = 0\n",
    "mse_8_100 = 0\n",
    "\n",
    "for i in a:\n",
    "    for j in b:\n",
    "        model_cart=DecisionTreeRegressor(max_depth=i,max_leaf_nodes=j,random_state=0)\n",
    "        model_cart.fit(x_train1,y_train1)\n",
    "            \n",
    "        train_pred=model_cart.predict(x_validation1)\n",
    "        mse=mean_squared_error(y_validation1,train_pred,squared=True)\n",
    "            \n",
    "        if i==2 and j==5:\n",
    "            mse_2_5 += mse\n",
    "        if i==2 and j==20:\n",
    "            mse_2_20 += mse\n",
    "        if i==2 and j==100:\n",
    "            mse_2_100 += mse\n",
    "        if i==6 and j==5:\n",
    "            mse_6_5 += mse\n",
    "        if i==6 and j==20:\n",
    "            mse_6_20 += mse\n",
    "        if i==6 and j==100:\n",
    "            mse_6_100 += mse\n",
    "        if i==8 and j==5:\n",
    "            mse_8_5 += mse\n",
    "        if i==8 and j==20:\n",
    "            mse_8_20 += mse\n",
    "        if i==8 and j==100:\n",
    "            mse_8_100 += mse\n",
    "                \n",
    "print('MSE:')\n",
    "print('mse_2_5:',round((mse_2_5),2))\n",
    "print('mse_2_20:',round((mse_2_20),2))\n",
    "print('mse_2_100:',round((mse_2_100),2))\n",
    "print('mse_6_5:',round((mse_6_5),2))\n",
    "print('mse_6_20:',round((mse_6_20),2))\n",
    "print('mse_6_100:',round((mse_6_100),2))\n",
    "print('mse_8_5:',round((mse_8_5),2))\n",
    "print('mse_8_20:',round((mse_8_20),2))\n",
    "print('mse_8_100:',round((mse_8_100),2))"
   ]
  },
  {
   "cell_type": "code",
   "execution_count": 51,
   "id": "b2d8d020",
   "metadata": {},
   "outputs": [
    {
     "name": "stdout",
     "output_type": "stream",
     "text": [
      "MSE:\n",
      "mse_2_5: 2269346400.27\n",
      "mse_2_20: 2269346400.27\n",
      "mse_2_100: 2269346400.27\n",
      "mse_6_5: 1999405212.81\n",
      "mse_6_20: 1412157253.0\n",
      "mse_6_100: 1327240261.19\n",
      "mse_8_5: 1999405212.81\n",
      "mse_8_20: 1412157253.0\n",
      "mse_8_100: 1276810890.2\n"
     ]
    }
   ],
   "source": [
    "#第二次\n",
    "a = [2,6,8]\n",
    "b = [5,20,100]\n",
    "\n",
    "mse_2_5 = 0\n",
    "mse_2_20 = 0\n",
    "mse_2_100 = 0\n",
    "mse_6_5 = 0\n",
    "mse_6_20 = 0\n",
    "mse_6_100 = 0\n",
    "mse_8_5 = 0\n",
    "mse_8_20 = 0\n",
    "mse_8_100 = 0\n",
    "\n",
    "for i in a:\n",
    "    for j in b:\n",
    "        model_cart=DecisionTreeRegressor(max_depth=i,max_leaf_nodes=j,random_state=0)\n",
    "        model_cart.fit(x_train2,y_train2)\n",
    "            \n",
    "        train_pred=model_cart.predict(x_validation2)\n",
    "        mse=mean_squared_error(y_validation2,train_pred,squared=True)\n",
    "            \n",
    "        if i==2 and j==5:\n",
    "            mse_2_5 += mse\n",
    "        if i==2 and j==20:\n",
    "            mse_2_20 += mse\n",
    "        if i==2 and j==100:\n",
    "            mse_2_100 += mse\n",
    "        if i==6 and j==5:\n",
    "            mse_6_5 += mse\n",
    "        if i==6 and j==20:\n",
    "            mse_6_20 += mse\n",
    "        if i==6 and j==100:\n",
    "            mse_6_100 += mse\n",
    "        if i==8 and j==5:\n",
    "            mse_8_5 += mse\n",
    "        if i==8 and j==20:\n",
    "            mse_8_20 += mse\n",
    "        if i==8 and j==100:\n",
    "            mse_8_100 += mse\n",
    "                \n",
    "print('MSE:')\n",
    "print('mse_2_5:',round((mse_2_5),2))\n",
    "print('mse_2_20:',round((mse_2_20),2))\n",
    "print('mse_2_100:',round((mse_2_100),2))\n",
    "print('mse_6_5:',round((mse_6_5),2))\n",
    "print('mse_6_20:',round((mse_6_20),2))\n",
    "print('mse_6_100:',round((mse_6_100),2))\n",
    "print('mse_8_5:',round((mse_8_5),2))\n",
    "print('mse_8_20:',round((mse_8_20),2))\n",
    "print('mse_8_100:',round((mse_8_100),2))"
   ]
  },
  {
   "cell_type": "code",
   "execution_count": 52,
   "id": "7c67557c",
   "metadata": {},
   "outputs": [
    {
     "name": "stdout",
     "output_type": "stream",
     "text": [
      "MSE:\n",
      "mse_2_5: 2540723298.45\n",
      "mse_2_20: 2540723298.45\n",
      "mse_2_100: 2540723298.45\n",
      "mse_6_5: 2259799581.51\n",
      "mse_6_20: 1819159804.61\n",
      "mse_6_100: 1774944643.12\n",
      "mse_8_5: 2259799581.51\n",
      "mse_8_20: 1610333960.79\n",
      "mse_8_100: 1613335118.03\n"
     ]
    }
   ],
   "source": [
    "#第三次\n",
    "a = [2,6,8]\n",
    "b = [5,20,100]\n",
    "\n",
    "mse_2_5 = 0\n",
    "mse_2_20 = 0\n",
    "mse_2_100 = 0\n",
    "mse_6_5 = 0\n",
    "mse_6_20 = 0\n",
    "mse_6_100 = 0\n",
    "mse_8_5 = 0\n",
    "mse_8_20 = 0\n",
    "mse_8_100 = 0\n",
    "\n",
    "for i in a:\n",
    "    for j in b:\n",
    "        model_cart=DecisionTreeRegressor(max_depth=i,max_leaf_nodes=j,random_state=0)\n",
    "        model_cart.fit(x_train3,y_train3)\n",
    "            \n",
    "        train_pred=model_cart.predict(x_validation3)\n",
    "        mse=mean_squared_error(y_validation3,train_pred,squared=True)\n",
    "            \n",
    "        if i==2 and j==5:\n",
    "            mse_2_5 += mse\n",
    "        if i==2 and j==20:\n",
    "            mse_2_20 += mse\n",
    "        if i==2 and j==100:\n",
    "            mse_2_100 += mse\n",
    "        if i==6 and j==5:\n",
    "            mse_6_5 += mse\n",
    "        if i==6 and j==20:\n",
    "            mse_6_20 += mse\n",
    "        if i==6 and j==100:\n",
    "            mse_6_100 += mse\n",
    "        if i==8 and j==5:\n",
    "            mse_8_5 += mse\n",
    "        if i==8 and j==20:\n",
    "            mse_8_20 += mse\n",
    "        if i==8 and j==100:\n",
    "            mse_8_100 += mse\n",
    "                \n",
    "print('MSE:')\n",
    "print('mse_2_5:',round((mse_2_5),2))\n",
    "print('mse_2_20:',round((mse_2_20),2))\n",
    "print('mse_2_100:',round((mse_2_100),2))\n",
    "print('mse_6_5:',round((mse_6_5),2))\n",
    "print('mse_6_20:',round((mse_6_20),2))\n",
    "print('mse_6_100:',round((mse_6_100),2))\n",
    "print('mse_8_5:',round((mse_8_5),2))\n",
    "print('mse_8_20:',round((mse_8_20),2))\n",
    "print('mse_8_100:',round((mse_8_100),2))"
   ]
  },
  {
   "cell_type": "code",
   "execution_count": 53,
   "id": "1d2c0391",
   "metadata": {},
   "outputs": [
    {
     "name": "stdout",
     "output_type": "stream",
     "text": [
      "mse_2_5: 2608790052.13 +/- 308717673.81\n",
      "mse_2_20: 2608790052.13 +/- 308717673.81\n",
      "mse_2_100: 2608790052.13 +/- 308717673.81\n",
      "mse_6_5: 2332594717.83 +/- 306125196.14\n",
      "mse_6_20: 1745466032.09 +/- 247605510.15\n",
      "mse_6_100: 1716691374.24 +/- 297073293.29\n",
      "mse_8_5: 2332594717.83 +/- 306125196.14\n",
      "mse_8_20: 1675857417.49 +/- 246454385.82\n",
      "mse_8_100: 1681555694.08 +/- 361556198.43\n"
     ]
    }
   ],
   "source": [
    "#三次平均\n",
    "mse_2_5 = [3016300457.67, 2269346400.27, 2540723298.45]\n",
    "mse_2_20 = [3016300457.67, 2269346400.27, 2540723298.45]\n",
    "mse_2_100 = [3016300457.67, 2269346400.27, 2540723298.45]\n",
    "mse_6_5 = [2738579359.17, 1999405212.81, 2259799581.51]\n",
    "mse_6_20 = [2005081038.67, 1412157253.0, 1819159804.61]\n",
    "mse_6_100 = [2047889218.4, 1327240261.19, 1774944643.12]\n",
    "mse_8_5 = [2738579359.17, 1999405212.81, 2259799581.51]\n",
    "mse_8_20 = [2005081038.67, 1412157253.0, 1610333960.79]\n",
    "mse_8_100 = [2154521074.0, 1276810890.2, 1613335118.03]\n",
    "\n",
    "print('mse_2_5:',round(np.mean(mse_2_5),2),'+/-',round(np.std(mse_2_5),2))\n",
    "print('mse_2_20:',round(np.mean(mse_2_20),2),'+/-',round(np.std(mse_2_20),2))\n",
    "print('mse_2_100:',round(np.mean(mse_2_100),2),'+/-',round(np.std(mse_2_100),2))\n",
    "print('mse_6_5:',round(np.mean(mse_6_5),2),'+/-',round(np.std(mse_6_5),2))\n",
    "print('mse_6_20:',round(np.mean(mse_6_20),2),'+/-',round(np.std(mse_6_20),2))\n",
    "print('mse_6_100:',round(np.mean(mse_6_100),2),'+/-',round(np.std(mse_6_100),2))\n",
    "print('mse_8_5:',round(np.mean(mse_8_5),2),'+/-',round(np.std(mse_8_5),2))\n",
    "print('mse_8_20:',round(np.mean(mse_8_20),2),'+/-',round(np.std(mse_8_20),2))\n",
    "print('mse_8_100:',round(np.mean(mse_8_100),2),'+/-',round(np.std(mse_8_100),2))"
   ]
  },
  {
   "cell_type": "code",
   "execution_count": 25,
   "id": "a03b6fe5",
   "metadata": {},
   "outputs": [
    {
     "name": "stdout",
     "output_type": "stream",
     "text": [
      "train_mse :  3018334912.7323\n",
      "train_rmse:  54939.3749\n",
      "train_mape:  0.221\n",
      "train_smape:  20.4699\n",
      "train_mase:  0.4647\n",
      "train_mdrae:  0.7737\n",
      "\n",
      "test_mse :  7672717961.8574\n",
      "test_rmse:  87594.0521\n",
      "test_mape:  0.2348\n",
      "test_smape:  20.2071\n",
      "test_mase:  0.5155\n",
      "test_mdrae:  0.7592\n"
     ]
    }
   ],
   "source": [
    "x_train, x_test, y_train, y_test = train_test_split(x, y, test_size = 0.2, random_state = 0, shuffle=False)\n",
    "model_cart=DecisionTreeRegressor(max_depth=8,max_leaf_nodes=20,random_state=0)\n",
    "model_cart.fit(x_train,y_train)\n",
    "\n",
    "train_pred = model.predict(x_train)\n",
    "y_pred_benchmark = train_pred*1.1\n",
    "train_mse = mean_squared_error(y_train,train_pred,squared=True)\n",
    "train_rmse = mean_squared_error(y_train,train_pred, squared=False)\n",
    "train_mape = mean_absolute_percentage_error(y_train,train_pred)\n",
    "train_smape = 2*np.mean(np.abs(train_pred-y_train)/(np.abs(train_pred)+np.abs(y_train)))*100\n",
    "train_mase = mean_absolute_scaled_error(y_train, train_pred, y_train=y_train)\n",
    "train_mdrae = mdrae(y_train, train_pred, y_pred_benchmark=y_pred_benchmark)\n",
    "\n",
    "test_pred = model.predict(x_test)\n",
    "y_pred_benchmark = test_pred*1.1\n",
    "test_mse = mean_squared_error(y_test,test_pred,squared=True)\n",
    "test_rmse = mean_squared_error(y_test,test_pred, squared=False)\n",
    "test_mape = mean_absolute_percentage_error(y_test,test_pred)\n",
    "test_smape = 2*np.mean(np.abs(test_pred-y_test)/(np.abs(test_pred)+np.abs(y_test)))*100\n",
    "test_mase = mean_absolute_scaled_error(y_test, test_pred, y_train=y_test)\n",
    "test_mdrae = mdrae(y_test, test_pred, y_pred_benchmark=y_pred_benchmark)\n",
    "\n",
    "print('train_mse : ', np.round(train_mse,4))\n",
    "print('train_rmse: ', np.round(train_rmse,4))\n",
    "print('train_mape: ', np.round(train_mape,4))\n",
    "print('train_smape: ', np.round(train_smape,4))\n",
    "print('train_mase: ', np.round(train_mase,4))\n",
    "print('train_mdrae: ', np.round(train_mdrae,4))\n",
    "print('')\n",
    "print('test_mse : ', np.round(test_mse,4))\n",
    "print('test_rmse: ', np.round(test_rmse,4))\n",
    "print('test_mape: ', np.round(test_mape,4))\n",
    "print('test_smape: ', np.round(test_smape,4))\n",
    "print('test_mase: ', np.round(test_mase,4))\n",
    "print('test_mdrae: ', np.round(test_mdrae,4))"
   ]
  },
  {
   "cell_type": "code",
   "execution_count": null,
   "id": "27181097",
   "metadata": {},
   "outputs": [],
   "source": []
  },
  {
   "cell_type": "code",
   "execution_count": null,
   "id": "6a0f94a0",
   "metadata": {},
   "outputs": [],
   "source": []
  },
  {
   "cell_type": "code",
   "execution_count": null,
   "id": "f627b72b",
   "metadata": {},
   "outputs": [],
   "source": []
  }
 ],
 "metadata": {
  "kernelspec": {
   "display_name": "Python 3 (ipykernel)",
   "language": "python",
   "name": "python3"
  },
  "language_info": {
   "codemirror_mode": {
    "name": "ipython",
    "version": 3
   },
   "file_extension": ".py",
   "mimetype": "text/x-python",
   "name": "python",
   "nbconvert_exporter": "python",
   "pygments_lexer": "ipython3",
   "version": "3.9.12"
  }
 },
 "nbformat": 4,
 "nbformat_minor": 5
}
