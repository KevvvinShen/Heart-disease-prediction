{
 "cells": [
  {
   "cell_type": "code",
   "execution_count": 13,
   "id": "6b22c34a",
   "metadata": {},
   "outputs": [],
   "source": [
    "#Basic packages always been used\n",
    "import pandas as pd\n",
    "import numpy as np\n",
    "import matplotlib.pyplot as plt\n",
    "from numpy import round\n",
    "# Data preprocessing useful function\n",
    "from sklearn.preprocessing import LabelEncoder\n",
    "# Function for spilting training & testing data set\n",
    "from sklearn.model_selection import train_test_split\n",
    "# ALgorithm\n",
    "from sklearn import tree\n",
    "from sklearn.tree import DecisionTreeClassifier\n",
    "from sklearn.preprocessing import StandardScaler\n",
    "from sklearn.svm import SVC\n",
    "\n",
    "# Functions for evaluation\n",
    "from sklearn.model_selection import cross_val_score\n",
    "from sklearn import metrics\n",
    "from sklearn.metrics import accuracy_score\n",
    "from sklearn.metrics import f1_score\n",
    "from sklearn.metrics import precision_score\n",
    "from sklearn.metrics import recall_score\n",
    "from sklearn.metrics import confusion_matrix\n",
    "from sklearn.metrics import plot_confusion_matrix\n",
    "from sklearn.metrics import plot_roc_curve, roc_auc_score, roc_curve, auc\n",
    "\n",
    "df = pd.read_csv(\"heart.csv\")"
   ]
  },
  {
   "cell_type": "code",
   "execution_count": 14,
   "id": "276ad246",
   "metadata": {},
   "outputs": [
    {
     "data": {
      "text/html": [
       "<div>\n",
       "<style scoped>\n",
       "    .dataframe tbody tr th:only-of-type {\n",
       "        vertical-align: middle;\n",
       "    }\n",
       "\n",
       "    .dataframe tbody tr th {\n",
       "        vertical-align: top;\n",
       "    }\n",
       "\n",
       "    .dataframe thead th {\n",
       "        text-align: right;\n",
       "    }\n",
       "</style>\n",
       "<table border=\"1\" class=\"dataframe\">\n",
       "  <thead>\n",
       "    <tr style=\"text-align: right;\">\n",
       "      <th></th>\n",
       "      <th>Age</th>\n",
       "      <th>Sex</th>\n",
       "      <th>ChestPainType</th>\n",
       "      <th>RestingBP</th>\n",
       "      <th>Cholesterol</th>\n",
       "      <th>FastingBS</th>\n",
       "      <th>RestingECG</th>\n",
       "      <th>MaxHR</th>\n",
       "      <th>ExerciseAngina</th>\n",
       "      <th>Oldpeak</th>\n",
       "      <th>ST_Slope</th>\n",
       "      <th>HeartDisease</th>\n",
       "    </tr>\n",
       "  </thead>\n",
       "  <tbody>\n",
       "    <tr>\n",
       "      <th>count</th>\n",
       "      <td>918.000000</td>\n",
       "      <td>918</td>\n",
       "      <td>918</td>\n",
       "      <td>918.000000</td>\n",
       "      <td>918.000000</td>\n",
       "      <td>918.000000</td>\n",
       "      <td>918</td>\n",
       "      <td>918.000000</td>\n",
       "      <td>918</td>\n",
       "      <td>918.000000</td>\n",
       "      <td>918</td>\n",
       "      <td>918.000000</td>\n",
       "    </tr>\n",
       "    <tr>\n",
       "      <th>unique</th>\n",
       "      <td>NaN</td>\n",
       "      <td>2</td>\n",
       "      <td>4</td>\n",
       "      <td>NaN</td>\n",
       "      <td>NaN</td>\n",
       "      <td>NaN</td>\n",
       "      <td>3</td>\n",
       "      <td>NaN</td>\n",
       "      <td>2</td>\n",
       "      <td>NaN</td>\n",
       "      <td>3</td>\n",
       "      <td>NaN</td>\n",
       "    </tr>\n",
       "    <tr>\n",
       "      <th>top</th>\n",
       "      <td>NaN</td>\n",
       "      <td>M</td>\n",
       "      <td>ASY</td>\n",
       "      <td>NaN</td>\n",
       "      <td>NaN</td>\n",
       "      <td>NaN</td>\n",
       "      <td>Normal</td>\n",
       "      <td>NaN</td>\n",
       "      <td>N</td>\n",
       "      <td>NaN</td>\n",
       "      <td>Flat</td>\n",
       "      <td>NaN</td>\n",
       "    </tr>\n",
       "    <tr>\n",
       "      <th>freq</th>\n",
       "      <td>NaN</td>\n",
       "      <td>725</td>\n",
       "      <td>496</td>\n",
       "      <td>NaN</td>\n",
       "      <td>NaN</td>\n",
       "      <td>NaN</td>\n",
       "      <td>552</td>\n",
       "      <td>NaN</td>\n",
       "      <td>547</td>\n",
       "      <td>NaN</td>\n",
       "      <td>460</td>\n",
       "      <td>NaN</td>\n",
       "    </tr>\n",
       "    <tr>\n",
       "      <th>mean</th>\n",
       "      <td>53.510893</td>\n",
       "      <td>NaN</td>\n",
       "      <td>NaN</td>\n",
       "      <td>132.540305</td>\n",
       "      <td>240.581699</td>\n",
       "      <td>0.233115</td>\n",
       "      <td>NaN</td>\n",
       "      <td>136.809368</td>\n",
       "      <td>NaN</td>\n",
       "      <td>0.887364</td>\n",
       "      <td>NaN</td>\n",
       "      <td>0.553377</td>\n",
       "    </tr>\n",
       "    <tr>\n",
       "      <th>std</th>\n",
       "      <td>9.432617</td>\n",
       "      <td>NaN</td>\n",
       "      <td>NaN</td>\n",
       "      <td>17.989941</td>\n",
       "      <td>53.982967</td>\n",
       "      <td>0.423046</td>\n",
       "      <td>NaN</td>\n",
       "      <td>25.460334</td>\n",
       "      <td>NaN</td>\n",
       "      <td>1.066570</td>\n",
       "      <td>NaN</td>\n",
       "      <td>0.497414</td>\n",
       "    </tr>\n",
       "    <tr>\n",
       "      <th>min</th>\n",
       "      <td>28.000000</td>\n",
       "      <td>NaN</td>\n",
       "      <td>NaN</td>\n",
       "      <td>80.000000</td>\n",
       "      <td>85.000000</td>\n",
       "      <td>0.000000</td>\n",
       "      <td>NaN</td>\n",
       "      <td>60.000000</td>\n",
       "      <td>NaN</td>\n",
       "      <td>-2.600000</td>\n",
       "      <td>NaN</td>\n",
       "      <td>0.000000</td>\n",
       "    </tr>\n",
       "    <tr>\n",
       "      <th>25%</th>\n",
       "      <td>47.000000</td>\n",
       "      <td>NaN</td>\n",
       "      <td>NaN</td>\n",
       "      <td>120.000000</td>\n",
       "      <td>214.000000</td>\n",
       "      <td>0.000000</td>\n",
       "      <td>NaN</td>\n",
       "      <td>120.000000</td>\n",
       "      <td>NaN</td>\n",
       "      <td>0.000000</td>\n",
       "      <td>NaN</td>\n",
       "      <td>0.000000</td>\n",
       "    </tr>\n",
       "    <tr>\n",
       "      <th>50%</th>\n",
       "      <td>54.000000</td>\n",
       "      <td>NaN</td>\n",
       "      <td>NaN</td>\n",
       "      <td>130.000000</td>\n",
       "      <td>223.000000</td>\n",
       "      <td>0.000000</td>\n",
       "      <td>NaN</td>\n",
       "      <td>138.000000</td>\n",
       "      <td>NaN</td>\n",
       "      <td>0.600000</td>\n",
       "      <td>NaN</td>\n",
       "      <td>1.000000</td>\n",
       "    </tr>\n",
       "    <tr>\n",
       "      <th>75%</th>\n",
       "      <td>60.000000</td>\n",
       "      <td>NaN</td>\n",
       "      <td>NaN</td>\n",
       "      <td>140.000000</td>\n",
       "      <td>267.000000</td>\n",
       "      <td>0.000000</td>\n",
       "      <td>NaN</td>\n",
       "      <td>156.000000</td>\n",
       "      <td>NaN</td>\n",
       "      <td>1.500000</td>\n",
       "      <td>NaN</td>\n",
       "      <td>1.000000</td>\n",
       "    </tr>\n",
       "    <tr>\n",
       "      <th>max</th>\n",
       "      <td>77.000000</td>\n",
       "      <td>NaN</td>\n",
       "      <td>NaN</td>\n",
       "      <td>200.000000</td>\n",
       "      <td>603.000000</td>\n",
       "      <td>1.000000</td>\n",
       "      <td>NaN</td>\n",
       "      <td>202.000000</td>\n",
       "      <td>NaN</td>\n",
       "      <td>6.200000</td>\n",
       "      <td>NaN</td>\n",
       "      <td>1.000000</td>\n",
       "    </tr>\n",
       "  </tbody>\n",
       "</table>\n",
       "</div>"
      ],
      "text/plain": [
       "               Age  Sex ChestPainType   RestingBP  Cholesterol   FastingBS  \\\n",
       "count   918.000000  918           918  918.000000   918.000000  918.000000   \n",
       "unique         NaN    2             4         NaN          NaN         NaN   \n",
       "top            NaN    M           ASY         NaN          NaN         NaN   \n",
       "freq           NaN  725           496         NaN          NaN         NaN   \n",
       "mean     53.510893  NaN           NaN  132.540305   240.581699    0.233115   \n",
       "std       9.432617  NaN           NaN   17.989941    53.982967    0.423046   \n",
       "min      28.000000  NaN           NaN   80.000000    85.000000    0.000000   \n",
       "25%      47.000000  NaN           NaN  120.000000   214.000000    0.000000   \n",
       "50%      54.000000  NaN           NaN  130.000000   223.000000    0.000000   \n",
       "75%      60.000000  NaN           NaN  140.000000   267.000000    0.000000   \n",
       "max      77.000000  NaN           NaN  200.000000   603.000000    1.000000   \n",
       "\n",
       "       RestingECG       MaxHR ExerciseAngina     Oldpeak ST_Slope  \\\n",
       "count         918  918.000000            918  918.000000      918   \n",
       "unique          3         NaN              2         NaN        3   \n",
       "top        Normal         NaN              N         NaN     Flat   \n",
       "freq          552         NaN            547         NaN      460   \n",
       "mean          NaN  136.809368            NaN    0.887364      NaN   \n",
       "std           NaN   25.460334            NaN    1.066570      NaN   \n",
       "min           NaN   60.000000            NaN   -2.600000      NaN   \n",
       "25%           NaN  120.000000            NaN    0.000000      NaN   \n",
       "50%           NaN  138.000000            NaN    0.600000      NaN   \n",
       "75%           NaN  156.000000            NaN    1.500000      NaN   \n",
       "max           NaN  202.000000            NaN    6.200000      NaN   \n",
       "\n",
       "        HeartDisease  \n",
       "count     918.000000  \n",
       "unique           NaN  \n",
       "top              NaN  \n",
       "freq             NaN  \n",
       "mean        0.553377  \n",
       "std         0.497414  \n",
       "min         0.000000  \n",
       "25%         0.000000  \n",
       "50%         1.000000  \n",
       "75%         1.000000  \n",
       "max         1.000000  "
      ]
     },
     "execution_count": 14,
     "metadata": {},
     "output_type": "execute_result"
    }
   ],
   "source": [
    "new_df=df.dropna(axis=0, how='any').copy()\n",
    "new_df.describe(include='all')"
   ]
  },
  {
   "cell_type": "code",
   "execution_count": 3,
   "id": "99f1a062",
   "metadata": {},
   "outputs": [
    {
     "name": "stdout",
     "output_type": "stream",
     "text": [
      "Age [40 49 37 48 54 39 45 58 42 38 43 60 36 44 53 52 51 56 41 32 65 35 59 50\n",
      " 47 31 46 57 55 63 66 34 33 61 29 62 28 30 74 68 72 64 69 67 73 70 77 75\n",
      " 76 71]\n",
      "Sex ['M' 'F']\n",
      "ChestPainType ['ATA' 'NAP' 'ASY' 'TA']\n",
      "RestingBP [140 160 130 138 150 120 110 136 115 100 124 113 125 145 112 132 118 170\n",
      " 142 190 135 180 108 155 128 106  92 200 122  98 105 133  95  80 137 185\n",
      " 165 126 152 116 144 154 134 104 139 131 141 178 146 158 123 102  96 143\n",
      " 172 156 114 127 101 174  94 148 117 192 129 164]\n",
      "Cholesterol [289 180 283 214 195 339 237 208 207 284 211 164 204 234 273 196 201 248\n",
      " 267 223 184 288 215 209 260 468 188 518 167 224 172 186 254 306 250 177\n",
      " 227 230 294 264 259 175 318 216 340 233 205 245 194 270 213 365 342 253\n",
      " 277 202 297 225 246 412 265 182 218 268 163 529 100 206 238 139 263 291\n",
      " 229 307 210 329 147  85 269 275 179 392 466 129 241 255 276 282 338 160\n",
      " 156 272 240 393 161 228 292 388 166 247 331 341 243 279 198 249 168 603\n",
      " 159 190 185 290 212 231 222 235 320 187 266 287 404 312 251 328 285 280\n",
      " 192 193 308 219 257 132 226 217 303 298 256 117 295 173 315 281 309 200\n",
      " 336 355 326 171 491 271 274 394 221 126 305 220 242 347 344 358 169 181\n",
      " 236 203 153 316 311 252 458 384 258 349 142 197 113 261 310 232 110 123\n",
      " 170 369 152 244 165 337 300 333 385 322 564 239 293 407 149 199 417 178\n",
      " 319 354 330 302 313 141 327 304 286 360 262 325 299 409 174 183 321 353\n",
      " 335 278 157 176 131]\n",
      "FastingBS [0 1]\n",
      "RestingECG ['Normal' 'ST' 'LVH']\n",
      "MaxHR [172 156  98 108 122 170 142 130 120  99 145 140 137 150 166 165 125 160\n",
      " 164 138 178 112 118 127 114 154 155  87 148 100 168 184 121 153 134  96\n",
      " 174 175 144  82 135 115 128 116  94 110  92 180 152 124 106 185 139 190\n",
      " 146 158 132 176 119 188 162 105  90 136 167 129 102 143 103  91 126  93\n",
      " 131 149 123 182 141  77 109 133 179 113 104  95  72  97 117  86  63 157\n",
      "  83  60  70 163  67  78  84 111  80 107 161  69  88  73 159 151 181 186\n",
      " 177 173 169 171 147  71 192 195 194 187 202]\n",
      "ExerciseAngina ['N' 'Y']\n",
      "Oldpeak [ 0.   1.   1.5  2.   3.   4.   0.5  2.5  5.   0.8  0.7  1.4  2.1  0.4\n",
      "  0.2  1.7  2.2  0.1  1.6  1.3  0.3  1.8  2.6 -0.9  2.8 -2.6 -1.5 -0.1\n",
      "  0.9  1.1  2.4 -1.  -1.1 -0.7 -0.8  3.7  1.2 -0.5 -2.   1.9  3.5  0.6\n",
      "  3.1  2.3  3.4  3.6  4.2  3.2  5.6  3.8  2.9  6.2  4.4]\n",
      "ST_Slope ['Up' 'Flat' 'Down']\n",
      "HeartDisease [0 1]\n"
     ]
    }
   ],
   "source": [
    "print('Age',new_df['Age'].unique())\n",
    "print('Sex',new_df['Sex'].unique())\n",
    "print('ChestPainType',new_df['ChestPainType'].unique())\n",
    "print('RestingBP',new_df['RestingBP'].unique())\n",
    "print('Cholesterol',new_df['Cholesterol'].unique())\n",
    "print('FastingBS',new_df['FastingBS'].unique())\n",
    "print('RestingECG',new_df['RestingECG'].unique())\n",
    "print('MaxHR',new_df['MaxHR'].unique())\n",
    "print('ExerciseAngina',new_df['ExerciseAngina'].unique())\n",
    "print('Oldpeak',new_df['Oldpeak'].unique())\n",
    "print('ST_Slope',new_df['ST_Slope'].unique())\n",
    "print('HeartDisease',new_df['HeartDisease'].unique())"
   ]
  },
  {
   "cell_type": "code",
   "execution_count": 4,
   "id": "a4055267",
   "metadata": {},
   "outputs": [],
   "source": [
    "df_mapping=new_df.copy()\n",
    "\n",
    "map_Sex={'M':0, 'F':1}\n",
    "map_ChestPainType={'ATA':0, 'NAP':1, 'ASY':2, 'TA':3}\n",
    "map_RestingECG={'Normal':0, 'ST':1, 'LVH':2}\n",
    "map_ExerciseAngina={'N':0, 'Y':1}\n",
    "map_ST_Slope={'Up':0, 'Flat':1, 'Down':1}\n",
    "\n",
    "df_mapping['Sex']=df_mapping['Sex'].map(map_Sex)\n",
    "df_mapping['ChestPainType']=df_mapping['ChestPainType'].map(map_ChestPainType)\n",
    "df_mapping['RestingECG']=df_mapping['RestingECG'].map(map_RestingECG)\n",
    "df_mapping['ExerciseAngina']=df_mapping['ExerciseAngina'].map(map_ExerciseAngina)\n",
    "df_mapping['ST_Slope']=df_mapping['ST_Slope'].map(map_ST_Slope)"
   ]
  },
  {
   "cell_type": "code",
   "execution_count": 5,
   "id": "c280ece5",
   "metadata": {},
   "outputs": [],
   "source": [
    "dummied_new_df=pd.get_dummies(new_df, columns=['Sex', 'ChestPainType', 'RestingECG',\n",
    "                                               'ExerciseAngina', 'ST_Slope'])"
   ]
  },
  {
   "cell_type": "code",
   "execution_count": 6,
   "id": "c9341c7b",
   "metadata": {},
   "outputs": [],
   "source": [
    "x=dummied_new_df.drop(['HeartDisease'],axis=1).copy()\n",
    "y=df['HeartDisease'].copy()"
   ]
  },
  {
   "cell_type": "code",
   "execution_count": 7,
   "id": "0fafcd4a",
   "metadata": {},
   "outputs": [
    {
     "name": "stdout",
     "output_type": "stream",
     "text": [
      "validation result:\n",
      "validation ACC_5_10: 62.58\n",
      "validation ACC_5_15: 55.77\n",
      "validation ACC_5_20: 53.46\n",
      "validation ACC_10_10: 61.82\n",
      "validation ACC_10_15: 56.09\n",
      "validation ACC_10_20: 54.08\n",
      "validation ACC_15_10: 61.5\n",
      "validation ACC_15_15: 56.09\n",
      "validation ACC_15_20: 54.08\n",
      "1.470812264660704\n"
     ]
    }
   ],
   "source": [
    "x_train, x_test, y_train, y_test = train_test_split(x, y, test_size = 0.2, random_state = 100)\n",
    "\n",
    "a = [1,5,10]\n",
    "b = [0.01,0.05,0.1]\n",
    "c = [10,42,20]\n",
    "\n",
    "acc_1_01 = 0\n",
    "acc_1_05 = 0\n",
    "acc_1_1 = 0\n",
    "acc_5_01 = 0\n",
    "acc_5_05 = 0\n",
    "acc_5_1 = 0\n",
    "acc_10_01 = 0\n",
    "acc_10_05 = 0\n",
    "acc_10_1 = 0\n",
    "\n",
    "\n",
    "for k in c:\n",
    "    x_train, x_validation, y_train, y_validation = train_test_split(x_train, y_train, test_size = 0.2, random_state = k)\n",
    "    for i in a:\n",
    "        for j in b:\n",
    "            classifier = SVC(kernel = 'rbf',  C=i, gamma=j, random_state = 100, probability=True)\n",
    "            classifier.fit(x_train, y_train)\n",
    "            CV5F_classifier_acc=cross_val_score(classifier, x_train, y_train, cv=3, scoring='accuracy')\n",
    "\n",
    "            if i==1 and j==0.01:\n",
    "                acc_1_01 += CV5F_classifier_acc*100\n",
    "            if i==1 and j==0.05:\n",
    "                acc_1_05 += CV5F_classifier_acc*100\n",
    "            if i==1 and j==0.1:\n",
    "                acc_1_1 += CV5F_classifier_acc*100\n",
    "            if i==5 and j==0.01:\n",
    "                acc_5_01 += CV5F_classifier_acc*100\n",
    "            if i==5 and j==0.05:\n",
    "                acc_5_05 += CV5F_classifier_acc*100\n",
    "            if i==5 and j==0.1:\n",
    "                acc_5_1 += CV5F_classifier_acc*100\n",
    "            if i==10 and j==0.01:\n",
    "                acc_10_01 += CV5F_classifier_acc*100\n",
    "            if i==10 and j==0.05:\n",
    "                acc_10_05 += CV5F_classifier_acc*100\n",
    "            if i==10 and j==0.1:\n",
    "                acc_10_1 += CV5F_classifier_acc*100\n",
    "\n",
    "print('validation result:')\n",
    "print('validation ACC_5_10:',round((acc_1_01/3).mean(),2))\n",
    "print('validation ACC_5_15:',round((acc_1_05/3).mean(),2))\n",
    "print('validation ACC_5_20:',round((acc_1_1/3).mean(),2))\n",
    "print('validation ACC_10_10:',round((acc_5_01/3).mean(),2))\n",
    "print('validation ACC_10_15:',round((acc_5_05/3).mean(),2))\n",
    "print('validation ACC_10_20:',round((acc_5_1/3).mean(),2))\n",
    "print('validation ACC_15_10:',round((acc_10_01/3).mean(),2))\n",
    "print('validation ACC_15_15:',round((acc_10_05/3).mean(),2))\n",
    "print('validation ACC_15_20:',round((acc_10_1/3).mean(),2))\n",
    "print((acc_1_01/3).std())"
   ]
  },
  {
   "cell_type": "code",
   "execution_count": 8,
   "id": "39d8f00c",
   "metadata": {},
   "outputs": [
    {
     "name": "stdout",
     "output_type": "stream",
     "text": [
      "Training result: \n",
      "Training ACC: 94.69\n",
      "Training f1s: 95.27\n",
      "Training pre: 93.13\n",
      "Training sen: 97.52\n",
      "Training spe: 91.24\n",
      "\n",
      "Training confusion matrix:\n"
     ]
    },
    {
     "data": {
      "image/png": "[encoded data removed]",
      "text/plain": [
       "<Figure size 432x288 with 2 Axes>"
      ]
     },
     "metadata": {
      "needs_background": "light"
     },
     "output_type": "display_data"
    },
    {
     "name": "stdout",
     "output_type": "stream",
     "text": [
      "+--------------------------------------+\n",
      "Testing result:\n",
      "Testing ACC: 69.57\n",
      "Testing f1s: 73.83\n",
      "Testing pre: 72.48\n",
      "Testing sen: 75.24\n",
      "Testing spe: 62.03\n",
      "\n",
      "Testing confusion matrix:\n"
     ]
    },
    {
     "data": {
      "image/png": "[encoded data removed]",
      "text/plain": [
       "<Figure size 432x288 with 2 Axes>"
      ]
     },
     "metadata": {
      "needs_background": "light"
     },
     "output_type": "display_data"
    }
   ],
   "source": [
    "x_train, x_test, y_train, y_test = train_test_split(x, y, test_size = 0.2, random_state = 100)\n",
    "\n",
    "classifier = SVC(kernel = 'rbf', C=1, gamma=0.01, random_state = 100, probability=True)\n",
    "classifier.fit(x_train,y_train)\n",
    "\n",
    "training_prediction=classifier.predict(x_train)\n",
    "# Accuracy\n",
    "training_acc=accuracy_score(y_train,training_prediction)\n",
    "# f1 score\n",
    "training_f1s=f1_score(y_train,training_prediction,pos_label=1)\n",
    "# precision\n",
    "training_pre=precision_score(y_train,training_prediction,pos_label=1)\n",
    "#sensitivity\n",
    "training_sen=recall_score(y_train,training_prediction,pos_label=1)\n",
    "#specificity\n",
    "training_spe=recall_score(y_train,training_prediction,pos_label=0)\n",
    "#confusion matrix\n",
    "training_cm=confusion_matrix(y_train,training_prediction)\n",
    "training_cm_display = metrics.ConfusionMatrixDisplay(confusion_matrix = training_cm, display_labels = [False, True])\n",
    "# Testing result\n",
    "testing_prediction=classifier.predict(x_test)\n",
    "testing_acc=accuracy_score(y_test,testing_prediction)\n",
    "testing_f1s=f1_score(y_test,testing_prediction,pos_label=1)\n",
    "testing_pre=precision_score(y_test,testing_prediction,pos_label=1)\n",
    "testing_sen=recall_score(y_test,testing_prediction,pos_label=1)\n",
    "testing_spe=recall_score(y_test,testing_prediction,pos_label=0)\n",
    "testing_cm=confusion_matrix(y_test,testing_prediction)\n",
    "testing_cm_display = metrics.ConfusionMatrixDisplay(confusion_matrix = testing_cm, display_labels = [False, True])\n",
    "\n",
    "# print result\n",
    "print('Training result: ')\n",
    "print('Training ACC:',round(training_acc*100,2))\n",
    "print('Training f1s:',round(training_f1s*100,2))\n",
    "print('Training pre:',round(training_pre*100,2))\n",
    "print('Training sen:',round(training_sen*100,2))\n",
    "print('Training spe:',round(training_spe*100,2))\n",
    "print('')\n",
    "print('Training confusion matrix:')\n",
    "training_cm_display.plot()\n",
    "plt.show()\n",
    "print('+--------------------------------------+')\n",
    "print('Testing result:')\n",
    "print('Testing ACC:',round(testing_acc*100,2))\n",
    "print('Testing f1s:',round(testing_f1s*100,2))\n",
    "print('Testing pre:',round(testing_pre*100,2))\n",
    "print('Testing sen:',round(testing_sen*100,2))\n",
    "print('Testing spe:',round(testing_spe*100,2))\n",
    "print('')\n",
    "print('Testing confusion matrix:')\n",
    "testing_cm_display.plot()\n",
    "plt.show()"
   ]
  },
  {
   "cell_type": "code",
   "execution_count": 15,
   "id": "a6404b43",
   "metadata": {},
   "outputs": [
    {
     "name": "stdout",
     "output_type": "stream",
     "text": [
      "AUC: 0.99\n"
     ]
    }
   ],
   "source": [
    "prediction=classifier.predict(x_train)\n",
    "proba=classifier.predict_proba(x_train)[:, 1]\n",
    "auc_value = roc_auc_score(y_train,proba)\n",
    "print('AUC:',round(auc_value,2))"
   ]
  },
  {
   "cell_type": "code",
   "execution_count": 16,
   "id": "432348e6",
   "metadata": {},
   "outputs": [
    {
     "name": "stderr",
     "output_type": "stream",
     "text": [
      "C:\\Users\\kevin\\anaconda3\\lib\\site-packages\\sklearn\\utils\\deprecation.py:87: FutureWarning: Function plot_roc_curve is deprecated; Function :func:`plot_roc_curve` is deprecated in 1.0 and will be removed in 1.2. Use one of the class methods: :meth:`sklearn.metric.RocCurveDisplay.from_predictions` or :meth:`sklearn.metric.RocCurveDisplay.from_estimator`.\n",
      "  warnings.warn(msg, category=FutureWarning)\n"
     ]
    },
    {
     "data": {
      "image/png": "[encoded data removed]",
      "text/plain": [
       "<Figure size 432x288 with 1 Axes>"
      ]
     },
     "metadata": {
      "needs_background": "light"
     },
     "output_type": "display_data"
    }
   ],
   "source": [
    "roc_fig=plot_roc_curve(classifier, x_train,y_train)"
   ]
  },
  {
   "cell_type": "code",
   "execution_count": 9,
   "id": "82e88b58",
   "metadata": {},
   "outputs": [
    {
     "data": {
      "text/plain": [
       "array([1, 1, 1, 1, 0, 0, 0, 1, 0, 1, 1, 0, 1, 1, 1, 1, 1, 0, 0, 1, 1, 0,\n",
       "       1, 1, 0, 1, 1, 0, 1, 1, 1, 1, 0, 1, 0, 0, 0, 1, 0, 0, 1, 1, 0, 1,\n",
       "       0, 0, 0, 0, 0, 1, 0, 1, 1, 0, 1, 1, 1, 0, 0, 1, 0, 0, 0, 0, 1, 0,\n",
       "       0, 0, 1, 0, 1, 1, 1, 1, 1, 0, 0, 1, 0, 1, 0, 1, 0, 0, 1, 0, 1, 0,\n",
       "       0, 1, 0, 1, 0, 0, 1, 1, 0, 1, 1, 1, 1, 0, 1, 0, 1, 0, 0, 1, 0, 1,\n",
       "       0, 1, 1, 1, 1, 1, 0, 0, 1, 1, 0, 0, 0, 0, 0, 0, 1, 0, 1, 0, 1, 1,\n",
       "       0, 0, 1, 1, 1, 1, 1, 1, 0, 0, 1, 1, 1, 1, 1, 0, 1, 0, 1, 1, 0, 0,\n",
       "       0, 1, 1, 0, 0, 0, 1, 1, 1, 1, 1, 1, 1, 0, 0, 0, 0, 1, 1, 1, 1, 0,\n",
       "       0, 1, 0, 1, 1, 1, 0, 1, 0, 0, 1, 0, 1, 0, 0, 0, 1, 1, 1, 1, 0, 1,\n",
       "       1, 1, 1, 0, 1, 1, 0, 1, 1, 1, 1, 1, 0, 1, 0, 1, 1, 1, 1, 1, 0, 1,\n",
       "       0, 0, 1, 1, 1, 1, 1, 0, 1, 0, 1, 1, 0, 1, 0, 1, 1, 1, 1, 1, 0, 0,\n",
       "       0, 1, 0, 1, 1, 1, 0, 1, 1, 0, 1, 0, 1, 1, 0, 1, 1, 1, 0, 1, 1, 1,\n",
       "       0, 0, 1, 1, 0, 0, 0, 1, 1, 1, 0, 0, 0, 0, 1, 1, 1, 0, 0, 1, 1, 1,\n",
       "       1, 0, 1, 1, 0, 0, 1, 0, 0, 1, 1, 1, 1, 0, 0, 1, 0, 0, 1, 1, 1, 1,\n",
       "       0, 0, 1, 1, 1, 0, 1, 1, 0, 1, 0, 1, 1, 0, 0, 1, 1, 1, 1, 1, 1, 0,\n",
       "       1, 0, 1, 1, 1, 1, 1, 1, 0, 1, 1, 1, 1, 0, 0, 0, 0, 1, 0, 1, 0, 0,\n",
       "       0, 0, 1, 0, 0, 1, 0, 1, 0, 0, 1, 0, 1, 1, 0, 1, 1, 0, 0, 1, 1, 0,\n",
       "       1, 1, 0, 0, 0, 1, 1, 1, 0, 0, 1, 0, 1, 1, 1, 1, 0, 0, 1, 1, 1, 0,\n",
       "       1, 1, 0, 0, 0, 1, 1, 1, 1, 1, 0, 0, 1, 0, 1, 1, 0, 0, 0, 0, 1, 1,\n",
       "       1, 1, 0, 1, 1, 1, 0, 0, 1, 0, 0, 0, 0, 1, 1, 0, 1, 1, 0, 1, 1, 1,\n",
       "       1, 1, 0, 1, 1, 1, 1, 0, 1, 1, 1, 1, 0, 1, 0, 0, 0, 0, 0, 0, 1, 1,\n",
       "       1, 1, 0, 0, 0, 0, 0, 1, 1, 1, 0, 1, 0, 1, 0, 1, 0, 1, 1, 1, 1, 1,\n",
       "       1, 1, 1, 1, 0, 0, 1, 1, 0, 0, 0, 0, 0, 1, 1, 0, 0, 1, 1, 0, 1, 1,\n",
       "       1, 1, 0, 1, 0, 0, 1, 0, 1, 0, 0, 0, 1, 0, 0, 1, 0, 0, 0, 1, 0, 1,\n",
       "       1, 1, 0, 1, 1, 1, 1, 0, 1, 0, 0, 1, 0, 1, 0, 1, 1, 1, 0, 1, 0, 0,\n",
       "       0, 1, 1, 0, 0, 1, 1, 1, 1, 1, 0, 0, 0, 1, 0, 0, 1, 1, 0, 1, 1, 1,\n",
       "       0, 0, 1, 1, 1, 1, 0, 0, 1, 1, 0, 1, 1, 1, 1, 0, 1, 0, 1, 1, 0, 0,\n",
       "       1, 0, 1, 0, 1, 0, 1, 0, 1, 0, 1, 0, 1, 0, 0, 1, 1, 1, 0, 0, 1, 0,\n",
       "       1, 1, 1, 1, 0, 0, 1, 1, 0, 1, 1, 0, 1, 1, 1, 0, 0, 1, 0, 1, 0, 1,\n",
       "       0, 0, 1, 0, 1, 1, 0, 1, 1, 0, 1, 1, 0, 1, 1, 0, 1, 1, 1, 1, 0, 0,\n",
       "       1, 1, 0, 1, 1, 0, 1, 1, 0, 1, 0, 0, 1, 0, 0, 0, 1, 0, 1, 1, 1, 0,\n",
       "       0, 1, 0, 1, 1, 1, 0, 1, 1, 1, 0, 1, 0, 1, 1, 0, 1, 1, 0, 1, 1, 0,\n",
       "       1, 1, 1, 0, 1, 1, 1, 1, 0, 1, 1, 0, 0, 1, 0, 1, 0, 1, 0, 1, 0, 0,\n",
       "       1, 0, 1, 1, 0, 1, 1, 1], dtype=int64)"
      ]
     },
     "execution_count": 9,
     "metadata": {},
     "output_type": "execute_result"
    }
   ],
   "source": [
    "prediction=classifier.predict(x_train)\n",
    "prediction"
   ]
  },
  {
   "cell_type": "code",
   "execution_count": 10,
   "id": "404326ca",
   "metadata": {},
   "outputs": [
    {
     "data": {
      "text/plain": [
       "array([0.80682267, 0.63813505, 0.32317001, 0.42495718, 0.73540323,\n",
       "       0.50684015, 0.5       , 0.4807208 , 0.5192055 , 0.30526015,\n",
       "       0.36038994, 0.57476109, 0.52263457, 0.4460399 , 0.88329601,\n",
       "       0.34350194, 0.60582649, 0.48532246, 0.63356515, 0.83488048,\n",
       "       0.27853998, 0.44597479, 0.81685038, 0.73142732, 0.5       ,\n",
       "       0.61909583, 0.52389204, 0.45686813, 0.37843484, 0.2682462 ,\n",
       "       0.72139282, 0.57167951, 0.38769636, 0.57137823, 0.80860938,\n",
       "       0.6809122 , 0.61057219, 0.30542606, 0.31834237, 0.80661557,\n",
       "       0.5179447 , 0.51296628, 0.29597345, 0.44586416, 0.80010436,\n",
       "       0.19500189, 0.48135614, 0.76011648, 0.49055816, 0.35805438,\n",
       "       0.63755738, 0.43852071, 0.68595811, 0.44128693, 0.55063266,\n",
       "       0.59178711, 0.57930449, 0.62392627, 0.52340679, 0.52342762,\n",
       "       0.85275766, 0.60471424, 0.18814334, 0.366285  , 0.55672906,\n",
       "       0.55319142, 0.50976067, 0.82453888, 0.31211162, 0.42388629,\n",
       "       0.46705022, 0.56884766, 0.35608029, 0.53141696, 0.5       ,\n",
       "       0.83137186, 0.40813383, 0.36207011, 0.25792001, 0.28492406,\n",
       "       0.41601245, 0.73101519, 0.78336081, 0.66061618, 0.83594076,\n",
       "       0.75595621, 0.50568349, 0.66631888, 0.75574506, 0.76606924,\n",
       "       0.33063987, 0.52250543, 0.73782615, 0.41024016, 0.43532366,\n",
       "       0.60548183, 0.64840033, 0.62454321, 0.31830526, 0.30528994,\n",
       "       0.2121417 , 0.74061972, 0.4781151 , 0.41803778, 0.4616825 ,\n",
       "       0.78498595, 0.69463369, 0.69336384, 0.58330335, 0.52342757,\n",
       "       0.24682141, 0.70291677, 0.4357626 , 0.51180054, 0.42544225,\n",
       "       0.52375372, 0.74657041, 0.35609492, 0.25529811, 0.26029569,\n",
       "       0.54779185, 0.40735363, 0.62577523, 0.52774868, 0.61882613,\n",
       "       0.807483  , 0.53621293, 0.74684893, 0.29715105, 0.78797588,\n",
       "       0.44075542, 0.52519548, 0.5       , 0.72412485, 0.42346321,\n",
       "       0.52251644, 0.48066251, 0.83273266, 0.65568083, 0.22755246,\n",
       "       0.79882892, 0.60221525, 0.56090624, 0.76890648, 0.47154291,\n",
       "       0.20017549, 0.21524122, 0.52402454, 0.84628933, 0.25958967,\n",
       "       0.69946018, 0.55665942, 0.52591633, 0.56862555, 0.5234976 ,\n",
       "       0.53935529, 0.65037353, 0.47837847, 0.52397869, 0.48855838,\n",
       "       0.34297414, 0.84219684, 0.3702557 , 0.77415374, 0.52349515,\n",
       "       0.79003155, 0.5       , 0.46844027, 0.82308904, 0.70204739,\n",
       "       0.80904504, 0.28397052, 0.6475797 , 0.70736368, 0.43805588,\n",
       "       0.5166863 , 0.58191796, 0.76261234, 0.73511053, 0.78265677,\n",
       "       0.31240489, 0.35053307, 0.30109095, 0.40354463])"
      ]
     },
     "execution_count": 10,
     "metadata": {},
     "output_type": "execute_result"
    }
   ],
   "source": [
    "proba=classifier.predict_proba(x_test)[:, 1]\n",
    "proba"
   ]
  },
  {
   "cell_type": "code",
   "execution_count": 11,
   "id": "11265bb5",
   "metadata": {},
   "outputs": [
    {
     "name": "stdout",
     "output_type": "stream",
     "text": [
      "AUC: 0.74\n"
     ]
    }
   ],
   "source": [
    "auc_value = roc_auc_score(y_test,proba)\n",
    "print('AUC:',round(auc_value,2))"
   ]
  },
  {
   "cell_type": "code",
   "execution_count": 12,
   "id": "718ac1a6",
   "metadata": {},
   "outputs": [
    {
     "name": "stderr",
     "output_type": "stream",
     "text": [
      "C:\\Users\\kevin\\anaconda3\\lib\\site-packages\\sklearn\\utils\\deprecation.py:87: FutureWarning: Function plot_roc_curve is deprecated; Function :func:`plot_roc_curve` is deprecated in 1.0 and will be removed in 1.2. Use one of the class methods: :meth:`sklearn.metric.RocCurveDisplay.from_predictions` or :meth:`sklearn.metric.RocCurveDisplay.from_estimator`.\n",
      "  warnings.warn(msg, category=FutureWarning)\n"
     ]
    },
    {
     "data": {
      "image/png": "[encoded data removed]",
      "text/plain": [
       "<Figure size 432x288 with 1 Axes>"
      ]
     },
     "metadata": {
      "needs_background": "light"
     },
     "output_type": "display_data"
    }
   ],
   "source": [
    "roc_fig=plot_roc_curve(classifier, x_test,y_test)"
   ]
  },
  {
   "cell_type": "code",
   "execution_count": null,
   "id": "f76ac824",
   "metadata": {},
   "outputs": [],
   "source": []
  },
  {
   "cell_type": "code",
   "execution_count": null,
   "id": "de9fc438",
   "metadata": {},
   "outputs": [],
   "source": []
  },
  {
   "cell_type": "code",
   "execution_count": null,
   "id": "b14a65cf",
   "metadata": {},
   "outputs": [],
   "source": []
  }
 ],
 "metadata": {
  "kernelspec": {
   "display_name": "Python 3 (ipykernel)",
   "language": "python",
   "name": "python3"
  },
  "language_info": {
   "codemirror_mode": {
    "name": "ipython",
    "version": 3
   },
   "file_extension": ".py",
   "mimetype": "text/x-python",
   "name": "python",
   "nbconvert_exporter": "python",
   "pygments_lexer": "ipython3",
   "version": "3.9.12"
  }
 },
 "nbformat": 4,
 "nbformat_minor": 5
}
